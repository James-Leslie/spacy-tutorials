{
 "cells": [
  {
   "cell_type": "markdown",
   "metadata": {},
   "source": [
    "Everything has been blatantly copy-paste-ed from [this article](https://www.machinelearningplus.com/nlp/topic-modeling-gensim-python/)"
   ]
  },
  {
   "cell_type": "code",
   "execution_count": 1,
   "metadata": {},
   "outputs": [],
   "source": [
    "import nltk\n",
    "import re\n",
    "import numpy as np\n",
    "import pandas as pd\n",
    "from pprint import pprint\n",
    "\n",
    "# Gensim\n",
    "import gensim\n",
    "import gensim.corpora as corpora\n",
    "from gensim.utils import simple_preprocess\n",
    "from gensim.models import CoherenceModel\n",
    "\n",
    "# spacy for lemmatization\n",
    "import spacy\n",
    "\n",
    "# Plotting tools\n",
    "import pyLDAvis\n",
    "import pyLDAvis.gensim  # don't skip this\n",
    "import matplotlib.pyplot as plt\n",
    "%matplotlib inline\n",
    "\n",
    "# Enable logging for gensim - optional\n",
    "import logging\n",
    "logging.basicConfig(format='%(asctime)s : %(levelname)s : %(message)s', level=logging.ERROR)\n",
    "\n",
    "import warnings\n",
    "warnings.filterwarnings(\"ignore\",category=DeprecationWarning)"
   ]
  },
  {
   "cell_type": "code",
   "execution_count": 2,
   "metadata": {},
   "outputs": [],
   "source": [
    "# NLTK Stop words\n",
    "from nltk.corpus import stopwords\n",
    "stop_words = stopwords.words('english')\n",
    "stop_words.extend(['from', 'subject', 're', 'edu', 'use'])"
   ]
  },
  {
   "cell_type": "code",
   "execution_count": 3,
   "metadata": {},
   "outputs": [
    {
     "name": "stdout",
     "output_type": "stream",
     "text": [
      "['rec.autos' 'comp.sys.mac.hardware' 'comp.graphics' 'sci.space'\n",
      " 'talk.politics.guns' 'sci.med' 'comp.sys.ibm.pc.hardware'\n",
      " 'comp.os.ms-windows.misc' 'rec.motorcycles' 'talk.religion.misc'\n",
      " 'misc.forsale' 'alt.atheism' 'sci.electronics' 'comp.windows.x'\n",
      " 'rec.sport.hockey' 'rec.sport.baseball' 'soc.religion.christian'\n",
      " 'talk.politics.mideast' 'talk.politics.misc' 'sci.crypt']\n"
     ]
    },
    {
     "data": {
      "text/html": [
       "<div>\n",
       "<style scoped>\n",
       "    .dataframe tbody tr th:only-of-type {\n",
       "        vertical-align: middle;\n",
       "    }\n",
       "\n",
       "    .dataframe tbody tr th {\n",
       "        vertical-align: top;\n",
       "    }\n",
       "\n",
       "    .dataframe thead th {\n",
       "        text-align: right;\n",
       "    }\n",
       "</style>\n",
       "<table border=\"1\" class=\"dataframe\">\n",
       "  <thead>\n",
       "    <tr style=\"text-align: right;\">\n",
       "      <th></th>\n",
       "      <th>content</th>\n",
       "      <th>target</th>\n",
       "      <th>target_names</th>\n",
       "    </tr>\n",
       "  </thead>\n",
       "  <tbody>\n",
       "    <tr>\n",
       "      <th>0</th>\n",
       "      <td>From: lerxst@wam.umd.edu (where's my thing)\\nS...</td>\n",
       "      <td>7</td>\n",
       "      <td>rec.autos</td>\n",
       "    </tr>\n",
       "    <tr>\n",
       "      <th>1</th>\n",
       "      <td>From: guykuo@carson.u.washington.edu (Guy Kuo)...</td>\n",
       "      <td>4</td>\n",
       "      <td>comp.sys.mac.hardware</td>\n",
       "    </tr>\n",
       "    <tr>\n",
       "      <th>2</th>\n",
       "      <td>From: twillis@ec.ecn.purdue.edu (Thomas E Will...</td>\n",
       "      <td>4</td>\n",
       "      <td>comp.sys.mac.hardware</td>\n",
       "    </tr>\n",
       "    <tr>\n",
       "      <th>3</th>\n",
       "      <td>From: jgreen@amber (Joe Green)\\nSubject: Re: W...</td>\n",
       "      <td>1</td>\n",
       "      <td>comp.graphics</td>\n",
       "    </tr>\n",
       "    <tr>\n",
       "      <th>4</th>\n",
       "      <td>From: jcm@head-cfa.harvard.edu (Jonathan McDow...</td>\n",
       "      <td>14</td>\n",
       "      <td>sci.space</td>\n",
       "    </tr>\n",
       "  </tbody>\n",
       "</table>\n",
       "</div>"
      ],
      "text/plain": [
       "                                             content  target  \\\n",
       "0  From: lerxst@wam.umd.edu (where's my thing)\\nS...       7   \n",
       "1  From: guykuo@carson.u.washington.edu (Guy Kuo)...       4   \n",
       "2  From: twillis@ec.ecn.purdue.edu (Thomas E Will...       4   \n",
       "3  From: jgreen@amber (Joe Green)\\nSubject: Re: W...       1   \n",
       "4  From: jcm@head-cfa.harvard.edu (Jonathan McDow...      14   \n",
       "\n",
       "            target_names  \n",
       "0              rec.autos  \n",
       "1  comp.sys.mac.hardware  \n",
       "2  comp.sys.mac.hardware  \n",
       "3          comp.graphics  \n",
       "4              sci.space  "
      ]
     },
     "execution_count": 3,
     "metadata": {},
     "output_type": "execute_result"
    }
   ],
   "source": [
    "# Import Dataset\n",
    "df = pd.read_json('https://raw.githubusercontent.com/selva86/datasets/master/newsgroups.json')\n",
    "print(df.target_names.unique())\n",
    "df.head()"
   ]
  },
  {
   "cell_type": "code",
   "execution_count": 4,
   "metadata": {},
   "outputs": [
    {
     "name": "stdout",
     "output_type": "stream",
     "text": [
      "['From: (wheres my thing) Subject: WHAT car is this!? Nntp-Posting-Host: '\n",
      " 'rac3.wam.umd.edu Organization: University of Maryland, College Park Lines: '\n",
      " '15 I was wondering if anyone out there could enlighten me on this car I saw '\n",
      " 'the other day. It was a 2-door sports car, looked to be from the late 60s/ '\n",
      " 'early 70s. It was called a Bricklin. The doors were really small. In '\n",
      " 'addition, the front bumper was separate from the rest of the body. This is '\n",
      " 'all I know. If anyone can tellme a model name, engine specs, years of '\n",
      " 'production, where this car is made, history, or whatever info you have on '\n",
      " 'this funky looking car, please e-mail. Thanks, - IL ---- brought to you by '\n",
      " 'your neighborhood Lerxst ---- ']\n"
     ]
    }
   ],
   "source": [
    "# Convert to list\n",
    "data = df.content.values.tolist()\n",
    "\n",
    "# Remove Emails\n",
    "data = [re.sub('\\S*@\\S*\\s?', '', sent) for sent in data]\n",
    "\n",
    "# Remove new line characters\n",
    "data = [re.sub('\\s+', ' ', sent) for sent in data]\n",
    "\n",
    "# Remove distracting single quotes\n",
    "data = [re.sub(\"\\'\", \"\", sent) for sent in data]\n",
    "\n",
    "pprint(data[:1])"
   ]
  },
  {
   "cell_type": "code",
   "execution_count": 5,
   "metadata": {},
   "outputs": [
    {
     "name": "stdout",
     "output_type": "stream",
     "text": [
      "[['from', 'wheres', 'my', 'thing', 'subject', 'what', 'car', 'is', 'this', 'nntp', 'posting', 'host', 'rac', 'wam', 'umd', 'edu', 'organization', 'university', 'of', 'maryland', 'college', 'park', 'lines', 'was', 'wondering', 'if', 'anyone', 'out', 'there', 'could', 'enlighten', 'me', 'on', 'this', 'car', 'saw', 'the', 'other', 'day', 'it', 'was', 'door', 'sports', 'car', 'looked', 'to', 'be', 'from', 'the', 'late', 'early', 'it', 'was', 'called', 'bricklin', 'the', 'doors', 'were', 'really', 'small', 'in', 'addition', 'the', 'front', 'bumper', 'was', 'separate', 'from', 'the', 'rest', 'of', 'the', 'body', 'this', 'is', 'all', 'know', 'if', 'anyone', 'can', 'tellme', 'model', 'name', 'engine', 'specs', 'years', 'of', 'production', 'where', 'this', 'car', 'is', 'made', 'history', 'or', 'whatever', 'info', 'you', 'have', 'on', 'this', 'funky', 'looking', 'car', 'please', 'mail', 'thanks', 'il', 'brought', 'to', 'you', 'by', 'your', 'neighborhood', 'lerxst']]\n"
     ]
    }
   ],
   "source": [
    "def sent_to_words(sentences):\n",
    "    for sentence in sentences:\n",
    "        yield(gensim.utils.simple_preprocess(str(sentence), deacc=True))  # deacc=True removes punctuations\n",
    "\n",
    "data_words = list(sent_to_words(data))\n",
    "\n",
    "print(data_words[:1])"
   ]
  },
  {
   "cell_type": "code",
   "execution_count": 6,
   "metadata": {},
   "outputs": [
    {
     "name": "stdout",
     "output_type": "stream",
     "text": [
      "['from', 'wheres', 'my', 'thing', 'subject', 'what', 'car', 'is', 'this', 'nntp_posting_host', 'rac_wam_umd_edu', 'organization', 'university', 'of', 'maryland_college_park', 'lines', 'was', 'wondering', 'if', 'anyone', 'out', 'there', 'could', 'enlighten', 'me', 'on', 'this', 'car', 'saw', 'the', 'other', 'day', 'it', 'was', 'door', 'sports', 'car', 'looked', 'to', 'be', 'from', 'the', 'late', 'early', 'it', 'was', 'called', 'bricklin', 'the', 'doors', 'were', 'really', 'small', 'in', 'addition', 'the', 'front_bumper', 'was', 'separate', 'from', 'the', 'rest', 'of', 'the', 'body', 'this', 'is', 'all', 'know', 'if', 'anyone', 'can', 'tellme', 'model', 'name', 'engine', 'specs', 'years', 'of', 'production', 'where', 'this', 'car', 'is', 'made', 'history', 'or', 'whatever', 'info', 'you', 'have', 'on', 'this', 'funky', 'looking', 'car', 'please', 'mail', 'thanks', 'il', 'brought', 'to', 'you', 'by', 'your', 'neighborhood', 'lerxst']\n"
     ]
    }
   ],
   "source": [
    "# Build the bigram and trigram models\n",
    "bigram = gensim.models.Phrases(data_words, min_count=5, threshold=100) # higher threshold fewer phrases.\n",
    "trigram = gensim.models.Phrases(bigram[data_words], threshold=100)  \n",
    "\n",
    "# Faster way to get a sentence clubbed as a trigram/bigram\n",
    "bigram_mod = gensim.models.phrases.Phraser(bigram)\n",
    "trigram_mod = gensim.models.phrases.Phraser(trigram)\n",
    "\n",
    "# See trigram example\n",
    "print(trigram_mod[bigram_mod[data_words[0]]])"
   ]
  },
  {
   "cell_type": "code",
   "execution_count": 7,
   "metadata": {},
   "outputs": [],
   "source": [
    "# Define functions for stopwords, bigrams, trigrams and lemmatization\n",
    "def remove_stopwords(texts):\n",
    "    return [[word for word in simple_preprocess(str(doc)) if word not in stop_words] for doc in texts]\n",
    "\n",
    "def make_bigrams(texts):\n",
    "    return [bigram_mod[doc] for doc in texts]\n",
    "\n",
    "def make_trigrams(texts):\n",
    "    return [trigram_mod[bigram_mod[doc]] for doc in texts]\n",
    "\n",
    "def lemmatization(texts, allowed_postags=['NOUN', 'ADJ', 'VERB', 'ADV']):\n",
    "    \"\"\"https://spacy.io/api/annotation\"\"\"\n",
    "    texts_out = []\n",
    "    for sent in texts:\n",
    "        doc = nlp(\" \".join(sent)) \n",
    "        texts_out.append([token.lemma_ for token in doc if token.pos_ in allowed_postags])\n",
    "    return texts_out"
   ]
  },
  {
   "cell_type": "code",
   "execution_count": 8,
   "metadata": {},
   "outputs": [
    {
     "name": "stdout",
     "output_type": "stream",
     "text": [
      "[['where', 's', 'thing', 'car', 'nntp_poste', 'host', 'park', 'line', 'wonder', 'could', 'enlighten', 'car', 'see', 'door', 'sport', 'car', 'look', 'late', 'early', 'call', 'door', 'really', 'small', 'addition', 'separate', 'rest', 'body', 'know', 'model', 'name', 'engine', 'specs', 'year', 'production', 'car', 'make', 'history', 'info', 'funky', 'look', 'car', 'mail', 'thank', 'bring', 'neighborhood', 'lerxst']]\n"
     ]
    }
   ],
   "source": [
    "# Remove Stop Words\n",
    "data_words_nostops = remove_stopwords(data_words)\n",
    "\n",
    "# Form Bigrams\n",
    "data_words_bigrams = make_bigrams(data_words_nostops)\n",
    "\n",
    "# Initialize spacy 'en' model, keeping only tagger component (for efficiency)\n",
    "# python3 -m spacy download en\n",
    "nlp = spacy.load('en_core_web_md', disable=['parser', 'ner'])\n",
    "\n",
    "# Do lemmatization keeping only noun, adj, vb, adv\n",
    "data_lemmatized = lemmatization(data_words_bigrams, allowed_postags=['NOUN', 'ADJ', 'VERB', 'ADV'])\n",
    "\n",
    "print(data_lemmatized[:1])"
   ]
  },
  {
   "cell_type": "code",
   "execution_count": 9,
   "metadata": {},
   "outputs": [
    {
     "name": "stdout",
     "output_type": "stream",
     "text": [
      "[[(0, 1), (1, 1), (2, 1), (3, 1), (4, 5), (5, 1), (6, 2), (7, 1), (8, 1), (9, 1), (10, 1), (11, 1), (12, 1), (13, 1), (14, 1), (15, 1), (16, 1), (17, 1), (18, 2), (19, 1), (20, 1), (21, 1), (22, 1), (23, 1), (24, 1), (25, 1), (26, 1), (27, 1), (28, 1), (29, 1), (30, 1), (31, 1), (32, 1), (33, 1), (34, 1), (35, 1), (36, 1), (37, 1), (38, 1), (39, 1)]]\n"
     ]
    }
   ],
   "source": [
    "# Create Dictionary\n",
    "id2word = corpora.Dictionary(data_lemmatized)\n",
    "\n",
    "# Create Corpus\n",
    "texts = data_lemmatized\n",
    "\n",
    "# Term Document Frequency\n",
    "corpus = [id2word.doc2bow(text) for text in texts]\n",
    "\n",
    "# View\n",
    "print(corpus[:1])"
   ]
  },
  {
   "cell_type": "code",
   "execution_count": 10,
   "metadata": {},
   "outputs": [
    {
     "data": {
      "text/plain": [
       "'addition'"
      ]
     },
     "execution_count": 10,
     "metadata": {},
     "output_type": "execute_result"
    }
   ],
   "source": [
    "id2word[0]"
   ]
  },
  {
   "cell_type": "code",
   "execution_count": 11,
   "metadata": {},
   "outputs": [
    {
     "data": {
      "text/plain": [
       "[[('addition', 1),\n",
       "  ('body', 1),\n",
       "  ('bring', 1),\n",
       "  ('call', 1),\n",
       "  ('car', 5),\n",
       "  ('could', 1),\n",
       "  ('door', 2),\n",
       "  ('early', 1),\n",
       "  ('engine', 1),\n",
       "  ('enlighten', 1),\n",
       "  ('funky', 1),\n",
       "  ('history', 1),\n",
       "  ('host', 1),\n",
       "  ('info', 1),\n",
       "  ('know', 1),\n",
       "  ('late', 1),\n",
       "  ('lerxst', 1),\n",
       "  ('line', 1),\n",
       "  ('look', 2),\n",
       "  ('mail', 1),\n",
       "  ('make', 1),\n",
       "  ('model', 1),\n",
       "  ('name', 1),\n",
       "  ('neighborhood', 1),\n",
       "  ('nntp_poste', 1),\n",
       "  ('park', 1),\n",
       "  ('production', 1),\n",
       "  ('really', 1),\n",
       "  ('rest', 1),\n",
       "  ('s', 1),\n",
       "  ('see', 1),\n",
       "  ('separate', 1),\n",
       "  ('small', 1),\n",
       "  ('specs', 1),\n",
       "  ('sport', 1),\n",
       "  ('thank', 1),\n",
       "  ('thing', 1),\n",
       "  ('where', 1),\n",
       "  ('wonder', 1),\n",
       "  ('year', 1)]]"
      ]
     },
     "execution_count": 11,
     "metadata": {},
     "output_type": "execute_result"
    }
   ],
   "source": [
    "# Human readable format of corpus (term-frequency)\n",
    "[[(id2word[id], freq) for id, freq in cp] for cp in corpus[:1]]"
   ]
  },
  {
   "cell_type": "code",
   "execution_count": 12,
   "metadata": {},
   "outputs": [],
   "source": [
    "# Build LDA model\n",
    "lda_model = gensim.models.ldamodel.LdaModel(\n",
    "    corpus=corpus,\n",
    "    id2word=id2word,\n",
    "    num_topics=20, \n",
    "    random_state=100,\n",
    "    update_every=1,\n",
    "    chunksize=100,\n",
    "    passes=10,\n",
    "    alpha='auto',\n",
    "    per_word_topics=True\n",
    ")"
   ]
  },
  {
   "cell_type": "code",
   "execution_count": 13,
   "metadata": {},
   "outputs": [
    {
     "name": "stdout",
     "output_type": "stream",
     "text": [
      "[(0,\n",
      "  '0.224*\"drive\" + 0.038*\"controller\" + 0.038*\"engine\" + 0.034*\"eat\" + '\n",
      "  '0.026*\"power\" + 0.023*\"hot\" + 0.021*\"industry\" + 0.019*\"expensive\" + '\n",
      "  '0.019*\"cycle\" + 0.015*\"water\"'),\n",
      " (1,\n",
      "  '0.054*\"go\" + 0.032*\"say\" + 0.031*\"come\" + 0.021*\"back\" + 0.020*\"day\" + '\n",
      "  '0.018*\"take\" + 0.017*\"start\" + 0.016*\"see\" + 0.015*\"will\" + 0.014*\"leave\"'),\n",
      " (2,\n",
      "  '0.110*\"israeli\" + 0.080*\"bus\" + 0.077*\"family\" + 0.063*\"route\" + '\n",
      "  '0.057*\"bomb\" + 0.051*\"trust\" + 0.042*\"link\" + 0.034*\"arab\" + '\n",
      "  '0.029*\"creation\" + 0.027*\"remote\"'),\n",
      " (3,\n",
      "  '0.097*\"team\" + 0.085*\"game\" + 0.068*\"play\" + 0.057*\"win\" + 0.054*\"year\" + '\n",
      "  '0.031*\"fan\" + 0.027*\"goal\" + 0.026*\"score\" + 0.020*\"run\" + '\n",
      "  '0.018*\"division\"'),\n",
      " (4,\n",
      "  '0.046*\"kill\" + 0.027*\"war\" + 0.026*\"attack\" + 0.025*\"soldier\" + '\n",
      "  '0.022*\"murder\" + 0.022*\"death\" + 0.022*\"village\" + 0.020*\"people\" + '\n",
      "  '0.020*\"police\" + 0.018*\"government\"'),\n",
      " (5,\n",
      "  '0.055*\"compare\" + 0.048*\"value\" + 0.046*\"field\" + 0.025*\"market\" + '\n",
      "  '0.025*\"poor\" + 0.025*\"hole\" + 0.023*\"stupid\" + 0.020*\"surface\" + '\n",
      "  '0.020*\"plane\" + 0.020*\"student\"'),\n",
      " (6,\n",
      "  '0.026*\"part\" + 0.017*\"first\" + 0.017*\"name\" + 0.014*\"order\" + '\n",
      "  '0.014*\"accept\" + 0.014*\"god\" + 0.013*\"become\" + 0.012*\"time\" + '\n",
      "  '0.011*\"appear\" + 0.011*\"begin\"'),\n",
      " (7,\n",
      "  '0.112*\"discussion\" + 0.079*\"drug\" + 0.059*\"normal\" + 0.045*\"kid\" + '\n",
      "  '0.043*\"doctor\" + 0.040*\"son\" + 0.029*\"proposal\" + 0.025*\"anti\" + '\n",
      "  '0.022*\"violence\" + 0.021*\"origin\"'),\n",
      " (8,\n",
      "  '0.065*\"box\" + 0.046*\"generate\" + 0.044*\"sun\" + 0.040*\"should\" + '\n",
      "  '0.038*\"excuse\" + 0.035*\"electronic\" + 0.031*\"observation\" + 0.024*\"routine\" '\n",
      "  '+ 0.024*\"prize\" + 0.024*\"define\"'),\n",
      " (9,\n",
      "  '0.029*\"use\" + 0.026*\"system\" + 0.015*\"mail\" + 0.014*\"also\" + '\n",
      "  '0.013*\"include\" + 0.012*\"number\" + 0.012*\"information\" + 0.012*\"bit\" + '\n",
      "  '0.012*\"need\" + 0.011*\"new\"'),\n",
      " (10,\n",
      "  '0.094*\"key\" + 0.054*\"public\" + 0.054*\"government\" + 0.028*\"law\" + '\n",
      "  '0.027*\"encryption\" + 0.025*\"state\" + 0.024*\"right\" + 0.023*\"security\" + '\n",
      "  '0.022*\"protect\" + 0.021*\"private\"'),\n",
      " (11,\n",
      "  '0.045*\"purpose\" + 0.042*\"suggest\" + 0.037*\"server\" + 0.032*\"publish\" + '\n",
      "  '0.031*\"thus\" + 0.029*\"exactly\" + 0.027*\"community\" + 0.026*\"grant\" + '\n",
      "  '0.025*\"object\" + 0.023*\"motif\"'),\n",
      " (12,\n",
      "  '0.114*\"space\" + 0.042*\"option\" + 0.039*\"launch\" + 0.034*\"headache\" + '\n",
      "  '0.034*\"wing\" + 0.030*\"orbit\" + 0.029*\"obtain\" + 0.025*\"earth\" + '\n",
      "  '0.025*\"satellite\" + 0.024*\"mission\"'),\n",
      " (13,\n",
      "  '0.058*\"fire\" + 0.035*\"door\" + 0.028*\"mine\" + 0.027*\"agent\" + 0.025*\"helmet\" '\n",
      "  '+ 0.025*\"tank\" + 0.023*\"trap\" + 0.023*\"solid\" + 0.023*\"blue\" + 0.022*\"gas\"'),\n",
      " (14,\n",
      "  '0.117*\"gun\" + 0.071*\"die\" + 0.047*\"black\" + 0.045*\"video\" + 0.038*\"white\" + '\n",
      "  '0.036*\"weapon\" + 0.034*\"firearm\" + 0.031*\"mouse\" + 0.030*\"trial\" + '\n",
      "  '0.025*\"mark\"'),\n",
      " (15,\n",
      "  '0.081*\"patient\" + 0.080*\"science\" + 0.069*\"study\" + 0.035*\"treatment\" + '\n",
      "  '0.035*\"scientific\" + 0.033*\"disease\" + 0.027*\"significant\" + 0.026*\"minor\" '\n",
      "  '+ 0.024*\"health\" + 0.023*\"medical\"'),\n",
      " (16,\n",
      "  '0.068*\"program\" + 0.065*\"file\" + 0.049*\"window\" + 0.034*\"image\" + '\n",
      "  '0.029*\"entry\" + 0.025*\"application\" + 0.024*\"code\" + 0.022*\"display\" + '\n",
      "  '0.021*\"screen\" + 0.021*\"graphic\"'),\n",
      " (17,\n",
      "  '0.033*\"people\" + 0.024*\"say\" + 0.017*\"believe\" + 0.017*\"reason\" + '\n",
      "  '0.017*\"may\" + 0.015*\"evidence\" + 0.015*\"would\" + 0.013*\"think\" + '\n",
      "  '0.013*\"many\" + 0.012*\"make\"'),\n",
      " (18,\n",
      "  '0.040*\"line\" + 0.037*\"write\" + 0.028*\"would\" + 0.022*\"article\" + 0.021*\"be\" '\n",
      "  '+ 0.020*\"organization\" + 0.019*\"know\" + 0.019*\"nntp_poste\" + 0.018*\"get\" + '\n",
      "  '0.017*\"host\"'),\n",
      " (19,\n",
      "  '0.748*\"ax\" + 0.023*\"mode\" + 0.019*\"monitor\" + 0.018*\"character\" + '\n",
      "  '0.012*\"mb\" + 0.011*\"ide\" + 0.011*\"printer\" + 0.009*\"font\" + 0.007*\"mirror\" '\n",
      "  '+ 0.007*\"shell\"')]\n"
     ]
    }
   ],
   "source": [
    "# Print the Keyword in the 10 topics\n",
    "pprint(lda_model.print_topics())\n",
    "doc_lda = lda_model[corpus]"
   ]
  },
  {
   "cell_type": "code",
   "execution_count": 14,
   "metadata": {},
   "outputs": [
    {
     "name": "stdout",
     "output_type": "stream",
     "text": [
      "\n",
      "Perplexity:  -12.384846219630555\n",
      "\n",
      "Coherence Score:  0.47241471901543663\n"
     ]
    }
   ],
   "source": [
    "# Compute Perplexity\n",
    "print('\\nPerplexity: ', lda_model.log_perplexity(corpus))  # a measure of how good the model is. lower the better.\n",
    "\n",
    "# Compute Coherence Score\n",
    "coherence_model_lda = CoherenceModel(model=lda_model, texts=data_lemmatized, dictionary=id2word, coherence='c_v')\n",
    "coherence_lda = coherence_model_lda.get_coherence()\n",
    "print('\\nCoherence Score: ', coherence_lda)"
   ]
  },
  {
   "cell_type": "code",
   "execution_count": 15,
   "metadata": {},
   "outputs": [
    {
     "data": {
      "text/html": [
       "\n",
       "<link rel=\"stylesheet\" type=\"text/css\" href=\"https://cdn.rawgit.com/bmabey/pyLDAvis/files/ldavis.v1.0.0.css\">\n",
       "\n",
       "\n",
       "<div id=\"ldavis_el1256420533299335127418259488\"></div>\n",
       "<script type=\"text/javascript\">\n",
       "\n",
       "var ldavis_el1256420533299335127418259488_data = {\"mdsDat\": {\"x\": [0.33877964414326084, 0.31722490605489195, 0.2497105985516825, 0.23754859479436344, 0.18688470589299316, -0.04602806627478128, 0.03643864277840904, 0.013437886166005393, 0.029127868254612898, -0.0914227067465534, -0.00010372739033363871, -0.1254797394463744, -0.11018138853722341, -0.1227788115753132, -0.10547747029575648, -0.13464260876721115, -0.1666957268506816, -0.1631050328798297, -0.16446867116813713, -0.1787688967040235], \"y\": [0.08051516751814075, -0.062425133373051285, 0.1529579670011314, -0.0663597223315786, 0.02669496534776281, 0.06968082267711881, 0.11875304877223522, -0.2697368356404788, -0.29854413202210417, 0.03477461623478564, 0.053323385951276336, 0.032853138538442184, 0.0407952743825295, -0.015222359320504447, 0.044294429130197197, 0.01837284732364105, -0.0053298384855642944, 0.01627452152473265, 0.01504625021671178, 0.01328158655457618], \"topics\": [1, 2, 3, 4, 5, 6, 7, 8, 9, 10, 11, 12, 13, 14, 15, 16, 17, 18, 19, 20], \"cluster\": [1, 1, 1, 1, 1, 1, 1, 1, 1, 1, 1, 1, 1, 1, 1, 1, 1, 1, 1, 1], \"Freq\": [29.049856524986588, 16.222205493569767, 14.29667759186517, 9.287692747299616, 6.7829110677006215, 5.762274248533418, 3.3267069081037715, 2.3566140189042457, 2.2182465708796877, 1.722086617167385, 1.632985131113132, 1.1160131773999393, 1.0880127462380011, 1.04479684905367, 0.9705661318354273, 0.8497748364025768, 0.6835689809760587, 0.6328271935003581, 0.595255090787802, 0.3609280736827608]}, \"tinfo\": {\"Term\": [\"ax\", \"go\", \"write\", \"line\", \"people\", \"drive\", \"say\", \"year\", \"key\", \"would\", \"be\", \"program\", \"article\", \"use\", \"file\", \"system\", \"organization\", \"come\", \"nntp_poste\", \"team\", \"good\", \"game\", \"gun\", \"window\", \"right\", \"government\", \"host\", \"time\", \"space\", \"know\", \"be\", \"organization\", \"nntp_poste\", \"have\", \"car\", \"d\", \"probably\", \"lot\", \"driver\", \"money\", \"big\", \"pay\", \"sound\", \"distribution_usa\", \"pretty\", \"friend\", \"ill\", \"guess\", \"bike\", \"light\", \"wonder\", \"like\", \"soon\", \"nice\", \"spend\", \"job\", \"figure\", \"serious\", \"amount\", \"forget\", \"article\", \"write\", \"host\", \"whole\", \"line\", \"maybe\", \"want\", \"get\", \"reply\", \"look\", \"good\", \"little\", \"buy\", \"really\", \"much\", \"sure\", \"know\", \"would\", \"bad\", \"well\", \"could\", \"try\", \"make\", \"think\", \"problem\", \"work\", \"s\", \"time\", \"thing\", \"way\", \"need\", \"see\", \"believe\", \"evidence\", \"reason\", \"fact\", \"claim\", \"sense\", \"exist\", \"true\", \"life\", \"faith\", \"understand\", \"argument\", \"matter\", \"explain\", \"prove\", \"religion\", \"belief\", \"truth\", \"clear\", \"atheist\", \"certainly\", \"simply\", \"human\", \"statement\", \"conclusion\", \"indeed\", \"religious\", \"revelation\", \"therefore\", \"nature\", \"people\", \"person\", \"word\", \"agree\", \"mean\", \"rule\", \"say\", \"many\", \"must\", \"point\", \"question\", \"may\", \"however\", \"man\", \"group\", \"think\", \"make\", \"case\", \"would\", \"even\", \"state\", \"see\", \"thing\", \"way\", \"know\", \"can\", \"system\", \"mail\", \"bit\", \"card\", \"computer\", \"chip\", \"list\", \"available\", \"software\", \"email\", \"address\", \"machine\", \"copy\", \"sale\", \"version\", \"memory\", \"color\", \"info\", \"hardware\", \"ca\", \"disk\", \"cpu\", \"contain\", \"device\", \"cheap\", \"slow\", \"instal\", \"tape\", \"pc\", \"currently\", \"information\", \"type\", \"include\", \"use\", \"technology\", \"datum\", \"send\", \"message\", \"number\", \"source\", \"model\", \"new\", \"also\", \"need\", \"support\", \"run\", \"thank\", \"work\", \"may\", \"call\", \"lose\", \"player\", \"face\", \"home\", \"side\", \"season\", \"young\", \"guy\", \"stand\", \"watch\", \"pin\", \"trade\", \"steal\", \"wait\", \"direct\", \"visit\", \"pen\", \"wife\", \"listen\", \"stay\", \"sit\", \"specify\", \"night\", \"processor\", \"insist\", \"room\", \"rational\", \"pack\", \"catch\", \"building\", \"front\", \"leave\", \"next\", \"away\", \"stop\", \"will\", \"day\", \"go\", \"start\", \"back\", \"happen\", \"come\", \"head\", \"press\", \"say\", \"last\", \"bring\", \"take\", \"close\", \"turn\", \"see\", \"tell\", \"end\", \"year\", \"time\", \"lead\", \"s\", \"right\", \"first\", \"even\", \"call\", \"accept\", \"god\", \"describe\", \"form\", \"church\", \"body\", \"reality\", \"thought\", \"respect\", \"clearly\", \"convince\", \"secure\", \"refer\", \"authority\", \"maintain\", \"determine\", \"secret\", \"concept\", \"future\", \"basis\", \"separate\", \"establish\", \"propose\", \"scripture\", \"session\", \"party\", \"independent\", \"dangerous\", \"modern\", \"degree\", \"appear\", \"event\", \"method\", \"posting\", \"begin\", \"part\", \"activity\", \"member\", \"deny\", \"remain\", \"position\", \"name\", \"present\", \"become\", \"order\", \"produce\", \"first\", \"age\", \"history\", \"time\", \"reference\", \"receive\", \"new\", \"give\", \"follow\", \"year\", \"ax\", \"mode\", \"monitor\", \"character\", \"mb\", \"ide\", \"printer\", \"font\", \"mirror\", \"shell\", \"bite\", \"trivial\", \"amp\", \"up\", \"electrical\", \"depth\", \"fancy\", \"installation\", \"maximum\", \"volt\", \"click\", \"sustain\", \"largely\", \"enhancement\", \"peripheral\", \"converter\", \"ms_window\", \"fitting\", \"flexible\", \"reload\", \"file\", \"window\", \"image\", \"entry\", \"application\", \"display\", \"screen\", \"graphic\", \"function\", \"input\", \"scan\", \"page\", \"format\", \"feature\", \"environment\", \"library\", \"convert\", \"resource\", \"data\", \"output\", \"fairly\", \"specifically\", \"task\", \"map\", \"capture\", \"trace\", \"variable\", \"enable\", \"stream\", \"reflect\", \"program\", \"section\", \"site\", \"error\", \"code\", \"choice\", \"set\", \"author\", \"size\", \"run\", \"build\", \"create\", \"key\", \"public\", \"encryption\", \"security\", \"private\", \"shall\", \"algorithm\", \"legal\", \"tap\", \"agency\", \"boy\", \"hell\", \"court\", \"clipper\", \"tax\", \"federal\", \"protection\", \"militia\", \"target\", \"abuse\", \"crypto\", \"privacy\", \"export\", \"restrict\", \"prohibit\", \"administration\", \"restriction\", \"newspaper\", \"mercy\", \"cryptography\", \"protect\", \"citizen\", \"government\", \"national\", \"criminal\", \"crime\", \"law\", \"state\", \"right\", \"policy\", \"keep\", \"issue\", \"war\", \"soldier\", \"murder\", \"village\", \"police\", \"land\", \"turkish\", \"withdraw\", \"occupy\", \"arm\", \"population\", \"armenian\", \"civilian\", \"rocket\", \"motto\", \"terrorism\", \"california_institute\", \"inhabitant\", \"escape\", \"british\", \"troop\", \"officer\", \"genocide\", \"ammunition\", \"massacre\", \"train\", \"survive\", \"territory\", \"german\", \"disarm\", \"military\", \"kill\", \"attack\", \"death\", \"country\", \"force\", \"aim\", \"child\", \"government\", \"people\", \"city\", \"area\", \"man\", \"woman\", \"purpose\", \"suggest\", \"server\", \"publish\", \"thus\", \"exactly\", \"community\", \"object\", \"motif\", \"license\", \"addition\", \"letter\", \"official\", \"particularly\", \"mother\", \"gift\", \"table\", \"pro\", \"assumption\", \"fill\", \"aware\", \"apparently\", \"imply\", \"language\", \"description\", \"ftp\", \"economic\", \"channel\", \"meeting\", \"modify\", \"grant\", \"relate\", \"approach\", \"team\", \"game\", \"play\", \"win\", \"fan\", \"goal\", \"score\", \"average\", \"weight\", \"baseball\", \"vote\", \"impact\", \"stat\", \"ice\", \"pitch\", \"offense\", \"remind\", \"warrant\", \"penalty\", \"assist\", \"devil\", \"percentage\", \"staff\", \"era\", \"hitter\", \"deficit\", \"starter\", \"strength\", \"approximately\", \"retire\", \"division\", \"star\", \"year\", \"defense\", \"pick\", \"final\", \"run\", \"hit\", \"last\", \"increase\", \"point\", \"first\", \"compare\", \"field\", \"market\", \"poor\", \"hole\", \"stupid\", \"surface\", \"plane\", \"student\", \"failure\", \"popular\", \"male\", \"past\", \"deserve\", \"acquire\", \"rock\", \"highly\", \"european\", \"scale\", \"regularly\", \"radiation\", \"reading\", \"probability\", \"spacecraft\", \"whenever\", \"ozone\", \"radius\", \"evolution\", \"distant\", \"suck\", \"percent\", \"value\", \"objective\", \"drive\", \"controller\", \"engine\", \"eat\", \"hot\", \"industry\", \"cycle\", \"water\", \"oil\", \"cold\", \"duo\", \"factory\", \"heat\", \"nuclear\", \"cylinder\", \"gear\", \"own\", \"truck\", \"terminal\", \"boot\", \"motor\", \"thermal\", \"belt\", \"tire\", \"buffer\", \"timing\", \"dynamic\", \"parameter\", \"dry\", \"operator\", \"expensive\", \"mile\", \"power\", \"air\", \"master\", \"speed\", \"manual\", \"road\", \"gun\", \"die\", \"black\", \"video\", \"white\", \"weapon\", \"firearm\", \"mouse\", \"trial\", \"mark\", \"blank\", \"homosexual\", \"blind\", \"ethnic\", \"constitution\", \"definitely\", \"default\", \"ban\", \"immediate\", \"camp\", \"neighbor\", \"civil\", \"handgun\", \"danger\", \"shotgun\", \"punishment\", \"massive\", \"rifle\", \"liberty\", \"retract\", \"carry\", \"fire\", \"shoot\", \"space\", \"option\", \"launch\", \"headache\", \"wing\", \"orbit\", \"obtain\", \"satellite\", \"mission\", \"moon\", \"status\", \"flight\", \"schedule\", \"shuttle\", \"probe\", \"utility\", \"assure\", \"phase\", \"planetary\", \"dumb\", \"module\", \"telescope\", \"tour\", \"diameter\", \"orbital\", \"tail\", \"compress\", \"disable\", \"space_station\", \"utilize\", \"fuel\", \"earth\", \"ground\", \"fly\", \"project\", \"research\", \"vehicle\", \"report\", \"facility\", \"patient\", \"science\", \"treatment\", \"scientific\", \"disease\", \"minor\", \"health\", \"medical\", \"study\", \"energy\", \"somehow\", \"legitimate\", \"approve\", \"panel\", \"customer\", \"finger\", \"experiment\", \"preach\", \"lunar\", \"dark\", \"physician\", \"fee\", \"medicine\", \"luck\", \"expense\", \"lucky\", \"upset\", \"greatly\", \"reproduce\", \"prevention\", \"significant\", \"environmental\", \"period\", \"approach\", \"result\", \"mine\", \"agent\", \"helmet\", \"tank\", \"trap\", \"solid\", \"blue\", \"gas\", \"floor\", \"spring\", \"specification\", \"sky\", \"pop\", \"solar\", \"stable\", \"paint\", \"expose\", \"production\", \"vision\", \"indication\", \"junk\", \"chemical\", \"boost\", \"leadership\", \"permanent\", \"atmosphere\", \"fanatic\", \"desert\", \"unnecessary\", \"yellow\", \"door\", \"fire\", \"there\", \"burn\", \"blood\", \"manage\", \"attention\", \"discussion\", \"drug\", \"normal\", \"kid\", \"doctor\", \"son\", \"proposal\", \"anti\", \"violence\", \"origin\", \"soul\", \"left\", \"nsa\", \"lift\", \"unable\", \"diet\", \"severe\", \"brave\", \"forum\", \"bury\", \"wash\", \"counter\", \"hair\", \"appearance\", \"silent\", \"thick\", \"brown\", \"curve\", \"neighbour\", \"cow\", \"effect\", \"box\", \"generate\", \"sun\", \"should\", \"excuse\", \"electronic\", \"observation\", \"routine\", \"prize\", \"widget\", \"button\", \"running\", \"explanation\", \"plain\", \"assign\", \"derive\", \"investment\", \"green\", \"novel\", \"exposure\", \"superior\", \"stuff_delete\", \"publisher\", \"handy\", \"pseudo\", \"precise\", \"invalid\", \"ceremonial\", \"void\", \"ease\", \"define\", \"press\", \"israeli\", \"bus\", \"family\", \"route\", \"bomb\", \"trust\", \"link\", \"arab\", \"creation\", \"remote\", \"correction\", \"sue\", \"domain\", \"openwindow\", \"assembler\", \"autumn\", \"uprising\", \"verification\", \"busmastere\", \"lebanese\", \"palestinian\", \"slip\", \"vesa_local\", \"belive\", \"cache\", \"busmastering\", \"whihc\", \"identity\", \"vlb\", \"fetch\", \"connect\", \"terrorist\", \"connection\", \"slave\", \"jumper\", \"internet\"], \"Freq\": [51819.0, 7457.0, 13165.0, 14551.0, 7236.0, 2927.0, 8368.0, 4582.0, 2674.0, 12605.0, 7453.0, 2772.0, 7885.0, 5963.0, 2589.0, 4497.0, 7114.0, 4623.0, 6515.0, 1895.0, 6096.0, 1662.0, 1468.0, 1967.0, 3241.0, 2015.0, 5957.0, 6113.0, 1329.0, 8134.0, 7452.524493974381, 7112.966715302514, 6514.376433076094, 2773.7527834783637, 2057.5300013224755, 2045.6673787451455, 1877.7111327871498, 1821.1368609529018, 1440.1319053128525, 1323.2158501854124, 1320.3256910498235, 1243.8383820535619, 1058.7282565921823, 1021.3119755660858, 876.1208932188335, 870.841419924392, 863.1233037511754, 832.0209363422321, 822.1748588326814, 816.4321669162383, 798.5722447132144, 782.4461416856992, 700.6353942591181, 692.6507242121886, 675.684773316415, 629.4782688064436, 628.9361811190647, 569.6784106677804, 552.0539579309407, 547.6725192649948, 7806.454077359176, 12916.866552595433, 5833.159651049822, 1027.594276543948, 13814.207815953849, 1385.6136740288912, 4311.254380865848, 6316.110411151327, 2727.3841118174796, 3693.9962256399244, 5559.775496855719, 1868.7464709222002, 1624.4110003130766, 2755.6501997305513, 3248.3370026022753, 2090.6077117217674, 6634.523966323755, 9730.299509437762, 1907.8361089036703, 3779.6481119064206, 3912.235259348291, 3203.333931945621, 5199.688518988151, 4652.016527954918, 2817.2325962664577, 3085.03472226617, 2849.1225165992287, 3536.659551023797, 2835.4144960449853, 2433.242724839372, 2323.959212339715, 2333.157921508413, 3289.5026257781074, 2883.356752242845, 3279.44757891946, 2093.526032451615, 2005.8328160667445, 1688.0461750725551, 1673.3656832217575, 1537.3037922843425, 1401.9226210486881, 1363.0548875175575, 1047.6615662321315, 999.118718198563, 971.4216857359518, 969.1474465936828, 943.9334073152138, 932.1918093234843, 882.4447227561877, 872.1274626684224, 826.5098940998867, 809.428186191785, 729.1362082175913, 726.1885557650272, 705.1178304046082, 658.1047864474631, 647.3597167177978, 551.8566485759409, 600.1279348298203, 478.25215171447076, 474.171282483729, 471.1578271266614, 6512.696980746096, 1465.571546890595, 1241.2965512414182, 1193.571111425724, 2369.095889744638, 985.5809278204543, 4699.85909164373, 2506.6684338442005, 1624.0683254707574, 2235.252237408694, 1987.9313401124693, 3243.5368010101506, 1391.326175120574, 1366.6153238456463, 1517.7875584348642, 2509.034070951759, 2405.120302462828, 1547.2275963844902, 2874.126919187985, 1595.485722057469, 1311.35114023952, 1628.2455846112684, 1508.697318300179, 1426.886518527417, 1476.2346125868548, 1392.6762691957326, 4495.810277895151, 2534.372673215846, 2035.6408645693564, 1806.4476397056917, 1707.8458618843806, 1595.558862551758, 1543.9530799147835, 1521.6523632282388, 1415.3253719312927, 1368.484236169276, 1320.5246090321034, 1241.4696738314096, 1078.3984626916936, 1074.1347892475162, 1050.6478301885504, 998.4180504681467, 933.3205406083899, 925.6182040928704, 864.8362007897206, 850.1994257205994, 846.069094557934, 839.2335228669292, 830.4037361666981, 780.7213779455857, 780.379023437564, 778.4396811368665, 741.5991364988924, 739.3927896776864, 709.8442360818322, 692.7278705000557, 2093.1880977079277, 1381.8742969014752, 2202.7092245689673, 5052.150111602196, 1054.6904130111923, 1141.2757075796846, 1861.322587936789, 1545.3450549495017, 2123.1996297833216, 1345.1310193386776, 917.0029488857501, 1932.2331653576343, 2445.875472700921, 2031.650834763483, 1246.0963390413353, 1473.90286816877, 1401.243883075883, 1471.6537270340614, 1375.3841193145913, 1142.3342069265657, 1258.484167622309, 1111.6927389321181, 975.9652350946783, 939.9671810163001, 829.0317879997673, 732.8023929973541, 726.450226216752, 687.3801992031977, 652.7166400577195, 627.1511966722152, 616.0955861058729, 564.5265884054113, 495.1324361802842, 482.6173565634598, 473.7338533214128, 439.3911217027337, 402.03178509993205, 382.3849444409567, 381.7007825980938, 379.17181051184645, 374.4083999353831, 374.2780994780704, 368.4132278274581, 367.3783589910146, 366.0759000429333, 353.227755309002, 343.20927402572073, 339.2380070868544, 339.0335795697784, 337.00141207860105, 402.38189450417696, 1615.3191020719078, 1513.1497210376078, 945.3849778974248, 1203.6268176828826, 1678.76552558593, 2227.0310845973286, 6015.034106726897, 1864.9992014993384, 2348.2151347199406, 1566.9944948210243, 3497.1925635521966, 608.8137781761884, 531.4340136768732, 3615.2487791278236, 1345.88186777986, 797.1379255142159, 2049.7804755057123, 811.719572982234, 843.1896147180976, 1807.7611595753365, 1324.468527062613, 1087.9008887304778, 1427.4487588789298, 1564.243921019838, 801.3213626493764, 1120.2204946444492, 927.0800370826825, 894.7514933108217, 894.3948104238848, 874.8753602219791, 1119.5948271986454, 1106.923733798531, 824.2581019094515, 759.8477730625436, 759.8328966111203, 719.9171763346209, 638.4437854058993, 501.60843950774506, 492.0356707175962, 481.5966142829545, 481.51528715183133, 473.7621512515997, 470.65137899860656, 458.84342338209694, 440.10201674875685, 438.35304700310064, 427.954445408299, 418.6693765626413, 412.50912151851406, 350.5208459439073, 341.8498861210376, 321.8242090983656, 320.87090180307234, 317.3680667448374, 304.89843161610304, 301.94828329333797, 298.01820565825545, 295.64396955124363, 287.7404372811375, 265.4174870174909, 930.8475727568191, 780.3318876698949, 614.6219947112174, 511.298777804296, 897.2458435058654, 2101.597355182579, 421.0279772156061, 803.1267857649215, 583.2361356698528, 509.9913198848118, 636.749843350457, 1379.4685970031926, 730.8641193748721, 1049.8326949521816, 1125.5791833847436, 603.8513300303069, 1390.2086359282391, 609.6102244870527, 546.9666260471943, 954.9325476112485, 564.1422482180939, 594.1197778912923, 710.908270593575, 725.2961520281032, 622.9251418626707, 568.65258335895, 51818.2894894602, 1559.9959725925055, 1305.2908120427526, 1232.7910622466943, 844.5663813587819, 782.7094745915747, 772.8774601871331, 636.9034020163374, 510.40240135518485, 494.1831852110401, 385.4975240951167, 322.80022489242293, 322.5259294675133, 312.1686012815159, 278.70301193661845, 278.2344400389179, 229.09316376573742, 216.02476640060564, 212.03191096106264, 207.7461255461166, 200.54796622317681, 157.0927425476057, 147.49088740955227, 123.95272588118144, 123.37731159535785, 103.48363129546784, 96.1826837275271, 83.90735896832012, 72.60136935169017, 66.32206988046889, 2587.911131344604, 1966.098895716803, 1363.1884791152859, 1147.145099622849, 979.632361228198, 862.9337566222484, 840.8845132045695, 831.1116022604924, 772.2850305533536, 746.6389008625328, 642.0504536564631, 624.3749947620553, 595.4167546300756, 490.7551963476642, 416.4211846290843, 398.91331538115855, 389.52200405193884, 328.00666455809306, 313.0712331001491, 309.9077830884052, 295.8255065200436, 281.76818971577933, 245.83502633375477, 234.21460891368793, 215.74862719993453, 210.82658405529784, 186.70199488324323, 173.31916870639097, 171.5143786051987, 167.53349166606694, 2730.5903004223596, 714.6793095894459, 436.0695258167524, 767.5308748599906, 967.3420319293901, 403.15934164882617, 683.3123498516754, 321.7275249780608, 338.01219827002143, 373.3232102167605, 341.67128851901225, 332.32420120134753, 2673.3241337585996, 1534.705586926913, 752.6396772306766, 648.7395111169908, 598.9543269031215, 527.536820309858, 526.0562316034948, 409.9998430973326, 394.051804178716, 386.99673807742687, 353.3466902935131, 331.6362589883141, 313.66487717328766, 275.1858940438601, 273.2011573146948, 267.632718725984, 266.9437146701322, 262.2756119844714, 233.06730394931424, 219.63934588638807, 205.43383219000944, 200.5085132780482, 198.91145999679725, 197.07612438820865, 170.28904801617603, 167.41337640761003, 164.92403017481826, 162.7849610728394, 154.22621903880554, 150.27057682003763, 612.2091637311016, 436.89035709984125, 1531.265313307561, 337.4776832623502, 331.73451484839154, 423.3697600577277, 799.1626403123769, 716.197459497063, 670.6586372361064, 258.5441044094846, 246.0749716477974, 242.67931663157245, 718.6831675488849, 660.6137098311323, 590.2285132294634, 574.6759343982308, 536.5161128393005, 473.71965053414, 394.71714512225213, 365.14745227091737, 344.6300739818355, 337.07333525818717, 336.1254571039551, 332.33337358076153, 304.85116225493573, 279.4607018406018, 270.99607322329354, 267.55886999892044, 229.30206884094903, 201.37437687422442, 194.13179793948433, 187.89216479155195, 181.7895119142386, 171.87183997507952, 155.59062340643868, 154.02003544899551, 153.36691868166227, 151.87062300472337, 144.67954974390457, 141.57144915937974, 134.9497804320149, 130.054904580641, 480.30795847801073, 1220.2595190967786, 696.6651497308467, 583.3911908659405, 448.8381158221713, 437.0217461661819, 205.75197441635382, 482.7231401997166, 483.2577566840137, 544.1297187913602, 231.7144208533407, 248.69361997515225, 233.53672882969258, 211.49391382213756, 928.776536365899, 861.8295608525405, 772.3996373752897, 656.9956551077339, 639.6423862372309, 606.6756614437294, 563.7225575544976, 516.3982810650172, 466.4538986139666, 437.93615875797576, 407.83249632728194, 355.7210075244563, 354.8669988164893, 353.43084283049336, 352.5181761842834, 350.0558531393801, 347.1749081988164, 345.449393605509, 331.97140266286823, 327.5545986573109, 324.30120278693124, 321.77546210905894, 291.00879540005127, 282.52923545048003, 268.3425317441403, 248.80575773557933, 227.42935208040123, 221.88960697984712, 212.60298008891854, 194.11773248444496, 528.3944846163535, 277.2749756833916, 235.8501384716147, 1894.2160162503892, 1661.5080049122646, 1338.499603126731, 1125.0648349635867, 604.2094673518859, 539.531997981949, 516.0849137531959, 331.75169391520615, 324.62519507688705, 309.958241305964, 303.11628931589263, 254.50590428156437, 211.7510409451834, 206.96074263014134, 192.1407161037745, 178.9033123957184, 166.03306767956065, 153.09363232373616, 141.01516497772982, 132.73189512551903, 132.50849880563382, 128.58789384847296, 114.24318408402621, 109.51643919424782, 94.59930091441242, 93.88178493594346, 89.74141998196453, 75.78599322023786, 64.2648654761896, 64.03839015913448, 359.0344959714299, 227.76447581081675, 1050.349469360159, 161.87485002389033, 256.6306133315805, 191.5363372824418, 387.90035939749015, 178.08640054125127, 202.67784843031524, 169.95991285947235, 202.80596029475558, 192.4363729240062, 739.0879534862866, 615.5406016023628, 338.29020083775754, 336.2585612911973, 329.00304829859664, 305.01142905667916, 271.0352716441506, 264.2801319679483, 264.24386651644534, 263.2376001420632, 248.5366800605968, 245.01068911674056, 221.90882224695912, 218.5173781262754, 203.00765355719162, 174.8056453672277, 171.9373029106473, 164.68412519333287, 162.97098222911822, 148.3633482780675, 146.11230524753495, 144.71574818588624, 142.79384160157, 142.19954526149613, 140.10673898578247, 128.52117604089943, 126.44214414294326, 117.57903763382186, 115.9918621659262, 108.22213903865409, 203.49450225789514, 638.5039254559687, 171.52673154389012, 2925.7828449457234, 499.8534829466481, 495.9294538172654, 440.41089670508194, 306.01420172523035, 279.40103264883453, 245.88391083654932, 202.48511631712498, 192.22822905205234, 191.73950901621185, 181.57959387722832, 175.614255838243, 168.47966406197287, 166.2467119336924, 164.3011820216972, 146.42820258930627, 145.3432226821268, 144.94186887061971, 127.7979518144491, 123.50944628346815, 105.61847252560833, 103.5551637877768, 101.11030351880027, 85.26753568365412, 84.27384836749529, 81.96475516243373, 78.87831440198431, 78.103815745216, 74.82595699952661, 66.78655380420383, 250.86568488929962, 160.85084924910993, 344.47988478926516, 122.8437779889234, 176.40077100329128, 179.80677540034927, 107.73773655427546, 113.03847767939348, 1467.5470504822383, 897.3799602118117, 589.599263959741, 567.4263929170804, 471.99722468882044, 453.9676673821104, 422.06360446723335, 387.8433749735669, 377.7941825211581, 318.9019013956617, 245.48695465590026, 238.48462864485532, 234.89893827923026, 198.6852660308784, 180.1057430884026, 178.55917298727212, 169.07026949828762, 168.62847082457844, 165.4568476114781, 139.09806010807924, 115.35155384137833, 105.41411754875116, 103.73901441899442, 102.3735526630022, 100.3993536198976, 99.21874139234, 81.83948358092556, 68.37840795500314, 64.13374907091287, 53.52713199854118, 239.38737617427205, 138.34766057720984, 107.81927752520325, 1327.7579686806873, 491.5965041947322, 455.0648328581715, 398.21965383230065, 394.779853293489, 351.8429050502931, 343.3984925241118, 285.93004758431806, 278.4478156599714, 269.8570462045362, 237.47665080270775, 237.14568604594874, 204.9097143933945, 183.25153884086166, 171.37061652605894, 149.572861034763, 113.2784060865048, 107.4252475542005, 105.56096697776721, 93.11435058652859, 92.92683212849218, 70.54855789406164, 68.62320294899823, 66.16133625674388, 62.54509503281351, 60.411391072403724, 58.532899451006884, 55.62224719856435, 53.6559153542671, 51.31988455996474, 148.00287995884347, 296.3102466250603, 227.19135134996057, 110.31074674578282, 143.6895101409771, 173.43552425848125, 94.40950514903382, 122.39237224050636, 79.57265290012786, 828.2649422357711, 815.0965386339112, 354.6632526842344, 352.43797611171, 339.21993596721023, 266.826978345899, 242.93449510862143, 239.34274924040417, 708.5482956654716, 191.782991937474, 186.8149825898629, 170.50424351791682, 151.49004349485006, 144.419156344228, 138.86129941491336, 138.4923534657896, 133.55427818642184, 130.31511342252315, 126.4224864274457, 123.17068431389791, 118.78764447397228, 111.65454048455855, 111.52678819521633, 98.38714906490534, 88.00062644618734, 86.64346637946849, 71.20400552796931, 69.41461292026088, 61.89932181589464, 61.19260965391452, 278.80615885030494, 100.33421376682502, 166.54039474039257, 115.83028595100741, 115.48856402900583, 229.37663797114587, 225.69098743611247, 209.16166606877093, 202.83665277371145, 191.31466738175186, 189.01780006288004, 185.5361353332938, 183.91563072856852, 174.13592337851432, 172.66185286181516, 162.0924998450618, 129.31245209335447, 128.46216447879328, 124.9855863908983, 116.33046285247048, 97.35197322984426, 96.42390206737578, 92.91873169881627, 91.00116721932176, 88.05354632372044, 86.26080726642077, 84.62768167103299, 82.2941216902169, 79.23851100905598, 76.37878575206248, 75.68359863911567, 65.91263419350223, 57.36921407152286, 54.62442396949595, 51.61871209596345, 288.23567585044026, 475.45487000763393, 111.56639838437972, 133.50015798785728, 139.48396088808448, 113.63705165606785, 86.89655333788977, 850.2185272054227, 603.8521166727056, 448.161321899861, 345.6120282146808, 326.93988846938885, 303.7253570893093, 222.8635574108063, 188.07931949479521, 166.2280352855304, 160.03295589451662, 156.7286709004906, 156.51087879193966, 139.64572807889564, 119.96107738130016, 110.5639172329204, 110.15895958850294, 97.84219128030233, 94.54724650578402, 84.75332176376043, 78.29073253776389, 64.66738152918111, 63.16088697366493, 57.7651151013401, 55.19712832109064, 39.905963924084304, 39.47876749318927, 39.27861487424686, 32.86476261622737, 30.81912708084919, 29.766567901535893, 48.676638939821416, 462.8236937666527, 326.41096992012245, 313.4095050617404, 288.1512061492349, 273.5503090663487, 252.33944145861318, 221.99686853119303, 172.26553275333777, 170.1240131399885, 168.45045887106446, 160.24884932731584, 159.93666816467464, 153.23147399253673, 133.29564143035697, 130.86902370905838, 118.81593202505667, 101.8435757983199, 93.35215225810207, 90.59053326954484, 88.04337397403104, 83.27972709159269, 67.85781246780108, 62.88480811068969, 57.563360871866095, 52.414633050083296, 48.489002221972356, 46.632977037712166, 46.60685314678704, 38.16720446739557, 34.53720256608981, 169.3682853438174, 52.654650460995086, 475.1999284197354, 347.6523037041098, 334.47238280659576, 274.79379015842613, 247.09251532294277, 221.90756434865483, 182.2781250762661, 146.14200134995963, 127.63288289435754, 118.98502183571455, 79.9743121921922, 54.70392937258376, 53.45293219845551, 34.39146917717113, 21.37074399879852, 18.696646061233526, 17.290911956657375, 15.805141787281128, 0.04345665609668155, 0.04345819823958092, 0.04345444345686941, 0.04345408454381611, 0.043452980195959785, 0.04345214404686857, 0.04345279087918442, 0.043451844295307566, 0.04345184035120808, 0.043452147990968054, 0.04345181274251167, 0.0434517141400245, 0.043453047245651064, 0.04345269227669724, 0.04345223870525625, 0.04345252268041931, 0.04345232941954445, 0.043452147990968054], \"Total\": [51819.0, 7457.0, 13165.0, 14551.0, 7236.0, 2927.0, 8368.0, 4582.0, 2674.0, 12605.0, 7453.0, 2772.0, 7885.0, 5963.0, 2589.0, 4497.0, 7114.0, 4623.0, 6515.0, 1895.0, 6096.0, 1662.0, 1468.0, 1967.0, 3241.0, 2015.0, 5957.0, 6113.0, 1329.0, 8134.0, 7453.818229954179, 7114.260452073223, 6515.670169090067, 2775.0465194581593, 2058.823737302271, 2046.961114740684, 1879.0048687669464, 1822.4305969326983, 1441.4256413024134, 1324.509586169852, 1321.61942702962, 1245.1321180333584, 1060.021992571979, 1022.6057115458822, 877.4146291986299, 872.1351559041883, 864.4170397309717, 833.3146723220284, 823.4685948124777, 817.7259028960347, 799.8659806930108, 783.7398776654956, 701.9291302389145, 693.944460191985, 676.9785093061574, 630.7720047862399, 630.229917098861, 570.9721466522199, 553.347693910737, 548.9662552447911, 7885.759857242619, 13165.25131292739, 5957.552193554409, 1032.5625091184668, 14551.957000550068, 1407.30504818713, 4494.338843217859, 6701.677762062958, 2840.4819519636408, 3940.721978648856, 6096.605398704297, 1939.4967216693535, 1678.433618554965, 2928.5734825452923, 3555.9853336228, 2250.1491230060883, 8134.857757125987, 12605.656909153815, 2061.557136500776, 4640.989254140819, 4944.38818674709, 3994.3984400674367, 7763.244045282733, 7162.281079434746, 3860.5301795456785, 4605.0298664559905, 4025.546738713708, 6113.194766024395, 4345.342294873233, 4040.814080075159, 4366.994290628483, 5770.326213233518, 3290.8018810141625, 2884.6560074789, 3281.287428235049, 2094.82528768767, 2007.1320713028008, 1689.3454303086114, 1674.6649384637585, 1538.6030475203988, 1403.2218762847444, 1364.3541427536138, 1048.960821473148, 1000.4179734346191, 972.7209409720078, 970.4467018297389, 945.23266255733, 933.4910645595404, 883.7439779922438, 873.4267179044784, 827.8091493420028, 810.7274414278411, 730.4354634536473, 727.4878110010833, 706.4170856406643, 659.4040416894638, 648.6589719538539, 553.1559038164581, 601.5777493645555, 479.55140695696485, 475.47053771978506, 472.4570823627175, 7236.145193724055, 1534.6032953444146, 1297.9104401455897, 1253.4972831891737, 2719.0013072618153, 1055.5793251841449, 8368.545212856341, 3729.812131928205, 2194.6048641163698, 3485.5314148977586, 3146.7644705463995, 7075.632497060176, 2028.5965108245944, 2005.4394573139832, 2484.085439501663, 7162.281079434746, 7763.244045282733, 2855.523618491406, 12605.656909153815, 3871.270954391979, 2405.1563382770623, 5770.326213233518, 4345.342294873233, 4040.814080075159, 8134.857757125987, 3435.1818825581727, 4497.101621907391, 2535.6640172225448, 2036.932208576056, 1807.7389837184512, 1709.1372058910802, 1596.8502065584576, 1545.244423921483, 1522.9437072349383, 1416.6167159379922, 1369.7755801759756, 1321.8159530443427, 1242.7610178381092, 1079.689806698393, 1075.4261332542158, 1051.93917419525, 999.7093944748459, 934.6118846150891, 926.9095480995696, 866.1275447964198, 851.4907697272986, 847.3604385705779, 840.5248668875108, 831.6950801733973, 782.0127219522849, 781.6703674591695, 779.7310251475097, 742.8904805115363, 740.6841336903303, 711.1355800885314, 694.0192145067549, 2161.2596868392093, 1426.670099833052, 2332.3142358942946, 5963.392231090472, 1091.570309056551, 1197.187182200839, 2081.9540696359804, 1833.2650794047393, 2959.5529512005755, 1714.406564077369, 966.9304573512816, 3467.3685596257587, 5657.409224037184, 4366.994290628483, 1704.7425964573847, 2794.895651707117, 3005.205810090549, 4605.0298664559905, 7075.632497060176, 3047.7163040399146, 1259.7763572330673, 1112.9849285428763, 977.2574247062779, 941.2593706225966, 830.3239781219152, 734.0945826081119, 727.7424158383843, 688.6723888640555, 654.0088296704541, 628.4433862785118, 617.3877757429115, 565.8187780117079, 496.42462579228936, 483.90954616975637, 475.02604295878865, 440.683311319873, 403.323974715151, 383.6771340472533, 382.9929722108284, 380.464000118143, 375.7005895416797, 375.5702891357822, 369.7054174337547, 368.6705486367213, 367.3680896947226, 354.5199449152986, 344.50146370786916, 340.53019670461583, 340.32576917607497, 338.2936016848976, 403.9865969052952, 1656.3846454379639, 1601.1900654392293, 981.3010958122634, 1266.3851979860237, 1797.112756886083, 2429.1424689454198, 7457.958194004571, 2146.275286940722, 2764.3140508990364, 1798.0397858265999, 4623.820040155385, 672.8305896468023, 585.3183709044911, 8368.545212856341, 2184.360573334497, 1063.925189703456, 4503.457459580769, 1119.4632991325236, 1245.068247433515, 5770.326213233518, 3151.137693891423, 2137.557293860269, 4582.892570580544, 6113.194766024395, 1186.3720083624175, 4025.546738713708, 3241.6397860529232, 3589.2362116674135, 3871.270954391979, 3047.7163040399146, 1120.885870049793, 1108.2147766491585, 825.5491447605991, 761.1388159076312, 761.1239394562078, 721.2082191797084, 639.7348282625867, 502.8994823528326, 493.3267135626837, 482.887657128042, 482.80633000710156, 475.05319410312524, 471.9424218436941, 460.1344662271845, 441.3934765355116, 439.6440898481882, 429.2454882598246, 419.96041941932856, 413.8001643636016, 351.81188878899485, 343.14092897521346, 323.11525217058124, 322.1619446481599, 318.6591095899249, 306.18947454783415, 303.2393261633942, 299.309248503343, 296.9350124020398, 289.031480126225, 266.7085298625784, 941.5715503932804, 788.1856411684574, 620.8537824119721, 522.4110833603188, 940.9909708144996, 2370.091983236845, 431.6131494433445, 870.5882715368705, 623.0750881922378, 537.710503294114, 692.0838525806555, 1985.147059589755, 886.8163863644048, 1454.6548182294644, 2031.3423485182332, 772.7960389680492, 3589.2362116674135, 903.8236712124, 805.5391292902768, 6113.194766024395, 931.5583443232729, 1264.044160725991, 3467.3685596257587, 3990.7385185473145, 2228.952979879553, 4582.892570580544, 51819.51058133555, 1561.2170645783638, 1306.5119040055897, 1234.0121544022845, 845.7874732865268, 783.9305665292901, 774.0985521078366, 638.124493910543, 511.6234935138852, 495.4042775117978, 386.71861622623925, 324.02131714051336, 323.74702138684717, 313.3896935497529, 279.9241041346933, 279.4555321019131, 230.31425579254224, 217.24585841286597, 213.25300317223423, 208.96721755649077, 201.76905820345667, 158.31383492300208, 148.71197965463892, 125.1738179299602, 124.59840420638298, 104.70472326084973, 97.40377566318746, 85.1284511340927, 73.82246179516338, 67.54316265251431, 2589.196749794915, 1967.384514167115, 1364.4740975709008, 1148.4307180829253, 980.9179796785096, 864.2193750725601, 842.1701316548812, 832.397220710804, 773.5706490256741, 747.9245193128444, 643.336072162462, 625.6606132123669, 596.7023730803872, 492.0408147979757, 417.70680309528655, 400.1989338314701, 390.80762250225035, 329.2922830204491, 314.3568515568986, 311.1934015387167, 297.1111249853161, 283.05380818740576, 247.12064487330562, 235.5002273639994, 217.0342456766207, 212.11220252184165, 187.9876133335547, 174.60478718430093, 172.79999708028924, 168.81911021041768, 2772.2401341129785, 752.8409780961099, 458.2779116332511, 847.1302265131029, 1127.060939419602, 474.3392338876124, 2005.5713006355375, 553.2903767373576, 719.0428490620639, 2794.895651707117, 1457.1884615802855, 1020.3382857003055, 2674.621091107674, 1536.0025442753463, 753.9366345738068, 650.036468460121, 600.2512842462517, 528.8337776529881, 527.3531889557132, 411.2968004404627, 395.3487615218461, 388.29369542055696, 354.6436476532031, 332.9332163416165, 314.96183451641775, 276.4828513869902, 274.4981146578249, 268.92967606911407, 268.24067201326227, 263.5725693613256, 234.3642612977473, 220.93630327884065, 206.7307895331395, 201.80547062117827, 200.2084173399273, 198.37308173133871, 171.58600535930609, 168.7103337507401, 166.22098752325132, 164.0819184220295, 155.52317641213534, 151.5675341631677, 650.5138714672856, 483.6442820869257, 2015.7510708473696, 380.08424418525755, 392.1631683425194, 581.4894672929445, 1758.1844829902411, 2405.1563382770623, 3241.6397860529232, 443.1223508036875, 2098.886452054502, 1848.1885112628647, 719.9767217493342, 661.9072640315816, 591.5220674299127, 575.9694885986801, 537.8096670461879, 475.0132047345892, 396.0106993227013, 366.44100647666954, 345.9236281822847, 338.366889470783, 337.4190113044043, 333.6269277812107, 306.14471646182295, 280.754256046354, 272.28962743887513, 268.85242426983706, 230.59562307484072, 202.66793107861764, 195.42535213993344, 189.18571899730406, 183.0830661146877, 173.16539417552863, 156.8841776068878, 155.31358969607697, 154.66047288211138, 153.16417720517248, 145.97310394435368, 142.86500335982885, 136.243334632464, 131.3484587810901, 514.1619515072682, 1449.8436989863592, 933.5836604258579, 1107.3777256646927, 859.0656164955741, 931.2512309878063, 264.1272626204532, 1450.6267871000575, 2015.7510708473696, 7236.145193724055, 674.8659841265148, 1209.8224684213474, 2005.4394573139832, 682.5366641056352, 930.0680511059735, 863.1210755865549, 773.6911521093041, 658.2871698470514, 640.9339009757065, 607.9671761777438, 565.0140722945721, 517.6897957990316, 467.7454133479809, 439.227673513225, 409.12401106129624, 357.0125222584706, 356.1585135505036, 354.72235756450766, 353.80969092435777, 351.3473679194051, 348.46642293877545, 346.7409083395233, 333.26291740705483, 328.8461133913252, 325.5927175268903, 323.06697684307323, 292.30031013406557, 283.82075018449433, 269.6340464781546, 250.0972724695936, 228.7208668144155, 223.1811217138614, 213.8944948229328, 195.4092472275475, 603.043594415023, 457.0037334644059, 495.6930038768458, 1895.5189878761007, 1662.810976537976, 1339.8025747585025, 1126.3678065892982, 605.5124389775972, 540.8349696076602, 517.3878853789072, 333.05466556158655, 325.92816674915593, 311.26121293167523, 304.4192609533725, 255.80887595123497, 213.05401257089457, 208.26371426926707, 193.44368772948567, 180.20628402786764, 167.33603933116888, 154.3966039710178, 142.318136603441, 134.03486683630268, 133.811470431345, 129.8908654798927, 115.5461557097374, 110.81941081995902, 95.90227254012362, 95.18475656165465, 91.04439160767572, 77.0889648835331, 65.56783718209992, 65.34136180197639, 502.8991920927579, 294.04725445744083, 4582.892570580544, 262.5638388770575, 633.1406454698146, 384.8085298781786, 2794.895651707117, 616.7180178003733, 2184.360573334497, 838.6588451465003, 3485.5314148977586, 3589.2362116674135, 740.3858424111429, 616.8384905272192, 339.5880897565538, 337.55645020999356, 330.30093722648115, 306.30931797547544, 272.3331605629469, 265.5780208867446, 265.5417554352416, 264.535489099549, 249.83456897939303, 246.3085780462399, 223.20671117219342, 219.8152670495328, 204.3055424925957, 176.10353428602392, 173.23519182944352, 165.9820141121291, 164.26887114791444, 149.6612372185175, 147.41019426513557, 146.01363711823194, 144.09173056737157, 143.49743418559535, 141.4046279045787, 129.81906496499866, 127.74003309374476, 118.87692656743344, 117.28975114480585, 109.52002795745037, 216.15167419549925, 790.4940142177035, 306.523206184079, 2927.084975737363, 501.155613738288, 497.23158460890534, 441.71302749672185, 307.31633251687026, 280.70316346197984, 247.18604163813526, 203.7872471087649, 193.53035984369225, 193.04163991008548, 182.88172466886823, 176.9163866298829, 169.78179486535385, 167.5488427562153, 165.6033128133371, 147.73033338094618, 146.64535349037453, 146.24399966225963, 129.10008260608902, 124.81157707510809, 106.92060331724826, 104.85729464004181, 102.41243441993396, 86.56966647529406, 85.57597917798783, 83.26688595877826, 80.18044519892726, 79.40594653685594, 76.12808779116655, 68.08868459584377, 299.7606792971362, 309.37333281367745, 1635.9945670125169, 232.15796443940545, 561.1711710551979, 906.0763040448495, 306.6258082076608, 496.9651787048009, 1468.8487238644163, 898.6816335986327, 590.900937341919, 568.7280662992583, 473.2988980709983, 455.26934076428824, 423.3652778494112, 389.145048364833, 379.095855903336, 320.2035748117306, 246.78862809153355, 239.78630202703312, 236.20061174919346, 199.9869394448957, 181.40741647701847, 179.860846402936, 170.37194292185677, 169.93014420675624, 166.75852107153204, 140.39973367150898, 116.65322722355617, 106.71579097149524, 105.04068780117225, 103.67522604518004, 101.70102700207543, 100.52041478005754, 83.1411569684064, 69.68008133718098, 65.43542246970107, 54.82880539585143, 768.9673204602417, 672.2466588865832, 551.170006701958, 1329.0610106660083, 492.89954618599756, 456.3678748434922, 399.52269590740514, 396.0828952832709, 353.1459470356138, 344.70153456012133, 287.23308956963876, 279.7508576452921, 271.1600881898569, 238.77969280432478, 238.4487280312694, 206.21275638317636, 184.55458082618233, 172.6736585113796, 150.87590302008368, 114.58144811404948, 108.72828953952121, 106.86400896308793, 94.4173925718493, 94.22987412290118, 71.85159987938236, 69.92624493431894, 67.4643782420646, 63.84813701813423, 61.71443305772445, 59.83594143632761, 56.925289214627114, 54.958957339587826, 52.62292663245803, 197.775189393362, 711.1324451301642, 477.58098615502854, 220.76640346953386, 437.683738733984, 775.7309009357986, 332.4153299035451, 1390.0742601480613, 218.49227229260418, 829.569425783822, 816.4010221875018, 355.9677362322852, 353.74245965976075, 340.524419515261, 268.1314618939498, 244.23897865667223, 240.64723278845497, 713.154731543142, 193.0874754855248, 188.1194661683169, 171.80872707240567, 152.7945270540435, 145.7236398922788, 140.1657829765136, 139.79683702027845, 134.85876173447264, 131.6195970009947, 127.72696998079951, 124.47516787103699, 120.09212802202308, 112.95902404302254, 112.83127174326712, 99.6916326247248, 89.30511000621591, 87.94794993198047, 72.50848908619241, 70.71909646831168, 63.203805380177805, 62.49709322786239, 300.5553629643336, 104.64816439713765, 431.03760241183915, 495.6930038768458, 1174.8154209332167, 230.67443093632968, 226.98878040129628, 210.45945903395474, 204.13444573889527, 192.61246042922798, 190.31559302806386, 186.83392829847762, 185.21342369375233, 175.43371634369814, 173.95964583270757, 163.39029285736132, 130.61024505853828, 129.7599574439771, 126.28337936138514, 117.62825582873539, 98.64976620497413, 97.72169503255961, 94.2165246640001, 92.29896018450559, 89.35133931592782, 87.5586002316046, 85.92547464151983, 83.59191466664845, 80.53630400812456, 77.67657872254932, 76.98139161424554, 67.21042717491841, 58.6670071008188, 55.922217003732776, 52.916505061147284, 309.8595005061409, 672.2466588865832, 173.51052915596776, 249.9146329654164, 299.5922912136717, 222.06593270168483, 145.33302075109808, 851.5208511373346, 605.1544405990779, 449.46364583217786, 346.91435216317717, 328.242212395761, 305.0276810156814, 224.16588134361652, 189.38164342116735, 167.5303592236712, 161.33527984242411, 158.03099482686275, 157.8132027183118, 140.94805201170587, 121.26340131297532, 111.86624117590293, 111.46128351487509, 99.14451521131751, 95.84957043661736, 86.05564573945512, 79.59305647538378, 65.96970545555327, 64.46321090003708, 59.06743902771226, 56.499452266320745, 41.208287850456465, 40.78109141956143, 40.58093885429742, 34.16708656259264, 32.1214510512986, 31.068891827908057, 759.9956224643622, 464.12372160499905, 327.71099776490684, 314.7095329053897, 289.45123398758125, 274.8503369102347, 253.6394692969595, 223.29689637507906, 173.5655605916841, 171.4240409927261, 169.75048670941078, 161.54887716566216, 161.23669603474005, 154.5315018456984, 134.59566927476334, 132.1690515655743, 120.11595987378517, 103.14360364196924, 94.65218009644839, 91.89056115411879, 89.34340188728449, 84.5797549397032, 69.15784031258548, 64.18483597565398, 58.863388710212426, 53.714660914009606, 49.78903006031869, 47.93300488623079, 47.90688100001026, 39.4672323057419, 35.83723040443614, 533.9371790915412, 585.3183709044911, 476.5189922288457, 348.9713675191648, 335.7914466157061, 276.1128540148293, 248.41157914988182, 223.22662816420322, 183.5971889004094, 147.46106515906993, 128.95194671364015, 120.30408565126294, 81.29337600576369, 56.022993202357505, 54.77199601665411, 35.71053298628145, 22.689807837525763, 20.01570997081965, 18.609975771827752, 17.124205596391445, 1.3625400991471688, 1.3626668553820525, 1.3625532046744067, 1.3625499437656328, 1.3625329426059982, 1.3625295570820464, 1.3625519001147965, 1.3625259230119202, 1.3625258783754615, 1.3625360070673032, 1.3625282136925145, 1.3625254913765048, 1.3626083807706486, 1.3626042510885799, 1.3625842821707377, 1.3627247975739378, 1.362691172729606, 1.3626320720312908], \"Category\": [\"Default\", \"Default\", \"Default\", \"Default\", \"Default\", \"Default\", \"Default\", \"Default\", \"Default\", \"Default\", \"Default\", \"Default\", \"Default\", \"Default\", \"Default\", \"Default\", \"Default\", \"Default\", \"Default\", \"Default\", \"Default\", \"Default\", \"Default\", \"Default\", \"Default\", \"Default\", \"Default\", \"Default\", \"Default\", \"Default\", \"Topic1\", \"Topic1\", \"Topic1\", \"Topic1\", \"Topic1\", \"Topic1\", \"Topic1\", \"Topic1\", \"Topic1\", \"Topic1\", \"Topic1\", \"Topic1\", \"Topic1\", \"Topic1\", \"Topic1\", \"Topic1\", \"Topic1\", \"Topic1\", \"Topic1\", \"Topic1\", \"Topic1\", \"Topic1\", \"Topic1\", \"Topic1\", \"Topic1\", \"Topic1\", \"Topic1\", \"Topic1\", \"Topic1\", \"Topic1\", \"Topic1\", \"Topic1\", \"Topic1\", \"Topic1\", \"Topic1\", \"Topic1\", \"Topic1\", \"Topic1\", \"Topic1\", \"Topic1\", \"Topic1\", \"Topic1\", \"Topic1\", \"Topic1\", \"Topic1\", \"Topic1\", \"Topic1\", \"Topic1\", \"Topic1\", \"Topic1\", \"Topic1\", \"Topic1\", \"Topic1\", \"Topic1\", \"Topic1\", \"Topic1\", \"Topic1\", \"Topic1\", \"Topic1\", \"Topic1\", \"Topic1\", \"Topic1\", \"Topic2\", \"Topic2\", \"Topic2\", \"Topic2\", \"Topic2\", \"Topic2\", \"Topic2\", \"Topic2\", \"Topic2\", \"Topic2\", \"Topic2\", \"Topic2\", \"Topic2\", \"Topic2\", \"Topic2\", \"Topic2\", \"Topic2\", \"Topic2\", \"Topic2\", \"Topic2\", \"Topic2\", \"Topic2\", \"Topic2\", \"Topic2\", \"Topic2\", \"Topic2\", \"Topic2\", \"Topic2\", \"Topic2\", \"Topic2\", \"Topic2\", \"Topic2\", \"Topic2\", \"Topic2\", \"Topic2\", \"Topic2\", \"Topic2\", \"Topic2\", \"Topic2\", \"Topic2\", \"Topic2\", \"Topic2\", \"Topic2\", \"Topic2\", \"Topic2\", \"Topic2\", \"Topic2\", \"Topic2\", \"Topic2\", \"Topic2\", \"Topic2\", \"Topic2\", \"Topic2\", \"Topic2\", \"Topic2\", \"Topic2\", \"Topic3\", \"Topic3\", \"Topic3\", \"Topic3\", \"Topic3\", \"Topic3\", \"Topic3\", \"Topic3\", \"Topic3\", \"Topic3\", \"Topic3\", \"Topic3\", \"Topic3\", \"Topic3\", \"Topic3\", \"Topic3\", \"Topic3\", \"Topic3\", \"Topic3\", \"Topic3\", \"Topic3\", \"Topic3\", \"Topic3\", \"Topic3\", \"Topic3\", \"Topic3\", \"Topic3\", \"Topic3\", \"Topic3\", \"Topic3\", \"Topic3\", \"Topic3\", \"Topic3\", \"Topic3\", \"Topic3\", \"Topic3\", \"Topic3\", \"Topic3\", \"Topic3\", \"Topic3\", \"Topic3\", \"Topic3\", \"Topic3\", \"Topic3\", \"Topic3\", \"Topic3\", \"Topic3\", \"Topic3\", \"Topic3\", \"Topic3\", \"Topic4\", \"Topic4\", \"Topic4\", \"Topic4\", \"Topic4\", \"Topic4\", \"Topic4\", \"Topic4\", \"Topic4\", \"Topic4\", \"Topic4\", \"Topic4\", \"Topic4\", \"Topic4\", \"Topic4\", \"Topic4\", \"Topic4\", \"Topic4\", \"Topic4\", \"Topic4\", \"Topic4\", \"Topic4\", \"Topic4\", \"Topic4\", \"Topic4\", \"Topic4\", \"Topic4\", \"Topic4\", \"Topic4\", \"Topic4\", \"Topic4\", \"Topic4\", \"Topic4\", \"Topic4\", \"Topic4\", \"Topic4\", \"Topic4\", \"Topic4\", \"Topic4\", \"Topic4\", \"Topic4\", \"Topic4\", \"Topic4\", \"Topic4\", \"Topic4\", \"Topic4\", \"Topic4\", \"Topic4\", \"Topic4\", \"Topic4\", \"Topic4\", \"Topic4\", \"Topic4\", \"Topic4\", \"Topic4\", \"Topic4\", \"Topic4\", \"Topic4\", \"Topic4\", \"Topic4\", \"Topic4\", \"Topic5\", \"Topic5\", \"Topic5\", \"Topic5\", \"Topic5\", \"Topic5\", \"Topic5\", \"Topic5\", \"Topic5\", \"Topic5\", \"Topic5\", \"Topic5\", \"Topic5\", \"Topic5\", \"Topic5\", \"Topic5\", \"Topic5\", \"Topic5\", \"Topic5\", \"Topic5\", \"Topic5\", \"Topic5\", \"Topic5\", \"Topic5\", \"Topic5\", \"Topic5\", \"Topic5\", \"Topic5\", \"Topic5\", \"Topic5\", \"Topic5\", \"Topic5\", \"Topic5\", \"Topic5\", \"Topic5\", \"Topic5\", \"Topic5\", \"Topic5\", \"Topic5\", \"Topic5\", \"Topic5\", \"Topic5\", \"Topic5\", \"Topic5\", \"Topic5\", \"Topic5\", \"Topic5\", \"Topic5\", \"Topic5\", \"Topic5\", \"Topic5\", \"Topic5\", \"Topic5\", \"Topic5\", \"Topic5\", \"Topic5\", \"Topic6\", \"Topic6\", \"Topic6\", \"Topic6\", \"Topic6\", \"Topic6\", \"Topic6\", \"Topic6\", \"Topic6\", \"Topic6\", \"Topic6\", \"Topic6\", \"Topic6\", \"Topic6\", \"Topic6\", \"Topic6\", \"Topic6\", \"Topic6\", \"Topic6\", \"Topic6\", \"Topic6\", \"Topic6\", \"Topic6\", \"Topic6\", \"Topic6\", \"Topic6\", \"Topic6\", \"Topic6\", \"Topic6\", \"Topic6\", \"Topic7\", \"Topic7\", \"Topic7\", \"Topic7\", \"Topic7\", \"Topic7\", \"Topic7\", \"Topic7\", \"Topic7\", \"Topic7\", \"Topic7\", \"Topic7\", \"Topic7\", \"Topic7\", \"Topic7\", \"Topic7\", \"Topic7\", \"Topic7\", \"Topic7\", \"Topic7\", \"Topic7\", \"Topic7\", \"Topic7\", \"Topic7\", \"Topic7\", \"Topic7\", \"Topic7\", \"Topic7\", \"Topic7\", \"Topic7\", \"Topic7\", \"Topic7\", \"Topic7\", \"Topic7\", \"Topic7\", \"Topic7\", \"Topic7\", \"Topic7\", \"Topic7\", \"Topic7\", \"Topic7\", \"Topic7\", \"Topic8\", \"Topic8\", \"Topic8\", \"Topic8\", \"Topic8\", \"Topic8\", \"Topic8\", \"Topic8\", \"Topic8\", \"Topic8\", \"Topic8\", \"Topic8\", \"Topic8\", \"Topic8\", \"Topic8\", \"Topic8\", \"Topic8\", \"Topic8\", \"Topic8\", \"Topic8\", \"Topic8\", \"Topic8\", \"Topic8\", \"Topic8\", \"Topic8\", \"Topic8\", \"Topic8\", \"Topic8\", \"Topic8\", \"Topic8\", \"Topic8\", \"Topic8\", \"Topic8\", \"Topic8\", \"Topic8\", \"Topic8\", \"Topic8\", \"Topic8\", \"Topic8\", \"Topic8\", \"Topic8\", \"Topic8\", \"Topic9\", \"Topic9\", \"Topic9\", \"Topic9\", \"Topic9\", \"Topic9\", \"Topic9\", \"Topic9\", \"Topic9\", \"Topic9\", \"Topic9\", \"Topic9\", \"Topic9\", \"Topic9\", \"Topic9\", \"Topic9\", \"Topic9\", \"Topic9\", \"Topic9\", \"Topic9\", \"Topic9\", \"Topic9\", \"Topic9\", \"Topic9\", \"Topic9\", \"Topic9\", \"Topic9\", \"Topic9\", \"Topic9\", \"Topic9\", \"Topic9\", \"Topic9\", \"Topic9\", \"Topic9\", \"Topic9\", \"Topic9\", \"Topic9\", \"Topic9\", \"Topic9\", \"Topic9\", \"Topic9\", \"Topic9\", \"Topic9\", \"Topic9\", \"Topic10\", \"Topic10\", \"Topic10\", \"Topic10\", \"Topic10\", \"Topic10\", \"Topic10\", \"Topic10\", \"Topic10\", \"Topic10\", \"Topic10\", \"Topic10\", \"Topic10\", \"Topic10\", \"Topic10\", \"Topic10\", \"Topic10\", \"Topic10\", \"Topic10\", \"Topic10\", \"Topic10\", \"Topic10\", \"Topic10\", \"Topic10\", \"Topic10\", \"Topic10\", \"Topic10\", \"Topic10\", \"Topic10\", \"Topic10\", \"Topic10\", \"Topic10\", \"Topic10\", \"Topic11\", \"Topic11\", \"Topic11\", \"Topic11\", \"Topic11\", \"Topic11\", \"Topic11\", \"Topic11\", \"Topic11\", \"Topic11\", \"Topic11\", \"Topic11\", \"Topic11\", \"Topic11\", \"Topic11\", \"Topic11\", \"Topic11\", \"Topic11\", \"Topic11\", \"Topic11\", \"Topic11\", \"Topic11\", \"Topic11\", \"Topic11\", \"Topic11\", \"Topic11\", \"Topic11\", \"Topic11\", \"Topic11\", \"Topic11\", \"Topic11\", \"Topic11\", \"Topic11\", \"Topic11\", \"Topic11\", \"Topic11\", \"Topic11\", \"Topic11\", \"Topic11\", \"Topic11\", \"Topic11\", \"Topic11\", \"Topic12\", \"Topic12\", \"Topic12\", \"Topic12\", \"Topic12\", \"Topic12\", \"Topic12\", \"Topic12\", \"Topic12\", \"Topic12\", \"Topic12\", \"Topic12\", \"Topic12\", \"Topic12\", \"Topic12\", \"Topic12\", \"Topic12\", \"Topic12\", \"Topic12\", \"Topic12\", \"Topic12\", \"Topic12\", \"Topic12\", \"Topic12\", \"Topic12\", \"Topic12\", \"Topic12\", \"Topic12\", \"Topic12\", \"Topic12\", \"Topic12\", \"Topic12\", \"Topic12\", \"Topic13\", \"Topic13\", \"Topic13\", \"Topic13\", \"Topic13\", \"Topic13\", \"Topic13\", \"Topic13\", \"Topic13\", \"Topic13\", \"Topic13\", \"Topic13\", \"Topic13\", \"Topic13\", \"Topic13\", \"Topic13\", \"Topic13\", \"Topic13\", \"Topic13\", \"Topic13\", \"Topic13\", \"Topic13\", \"Topic13\", \"Topic13\", \"Topic13\", \"Topic13\", \"Topic13\", \"Topic13\", \"Topic13\", \"Topic13\", \"Topic13\", \"Topic13\", \"Topic13\", \"Topic13\", \"Topic13\", \"Topic13\", \"Topic13\", \"Topic13\", \"Topic14\", \"Topic14\", \"Topic14\", \"Topic14\", \"Topic14\", \"Topic14\", \"Topic14\", \"Topic14\", \"Topic14\", \"Topic14\", \"Topic14\", \"Topic14\", \"Topic14\", \"Topic14\", \"Topic14\", \"Topic14\", \"Topic14\", \"Topic14\", \"Topic14\", \"Topic14\", \"Topic14\", \"Topic14\", \"Topic14\", \"Topic14\", \"Topic14\", \"Topic14\", \"Topic14\", \"Topic14\", \"Topic14\", \"Topic14\", \"Topic14\", \"Topic14\", \"Topic14\", \"Topic15\", \"Topic15\", \"Topic15\", \"Topic15\", \"Topic15\", \"Topic15\", \"Topic15\", \"Topic15\", \"Topic15\", \"Topic15\", \"Topic15\", \"Topic15\", \"Topic15\", \"Topic15\", \"Topic15\", \"Topic15\", \"Topic15\", \"Topic15\", \"Topic15\", \"Topic15\", \"Topic15\", \"Topic15\", \"Topic15\", \"Topic15\", \"Topic15\", \"Topic15\", \"Topic15\", \"Topic15\", \"Topic15\", \"Topic15\", \"Topic15\", \"Topic15\", \"Topic15\", \"Topic15\", \"Topic15\", \"Topic15\", \"Topic15\", \"Topic15\", \"Topic15\", \"Topic16\", \"Topic16\", \"Topic16\", \"Topic16\", \"Topic16\", \"Topic16\", \"Topic16\", \"Topic16\", \"Topic16\", \"Topic16\", \"Topic16\", \"Topic16\", \"Topic16\", \"Topic16\", \"Topic16\", \"Topic16\", \"Topic16\", \"Topic16\", \"Topic16\", \"Topic16\", \"Topic16\", \"Topic16\", \"Topic16\", \"Topic16\", \"Topic16\", \"Topic16\", \"Topic16\", \"Topic16\", \"Topic16\", \"Topic16\", \"Topic16\", \"Topic16\", \"Topic16\", \"Topic16\", \"Topic16\", \"Topic17\", \"Topic17\", \"Topic17\", \"Topic17\", \"Topic17\", \"Topic17\", \"Topic17\", \"Topic17\", \"Topic17\", \"Topic17\", \"Topic17\", \"Topic17\", \"Topic17\", \"Topic17\", \"Topic17\", \"Topic17\", \"Topic17\", \"Topic17\", \"Topic17\", \"Topic17\", \"Topic17\", \"Topic17\", \"Topic17\", \"Topic17\", \"Topic17\", \"Topic17\", \"Topic17\", \"Topic17\", \"Topic17\", \"Topic17\", \"Topic17\", \"Topic17\", \"Topic17\", \"Topic17\", \"Topic17\", \"Topic17\", \"Topic17\", \"Topic18\", \"Topic18\", \"Topic18\", \"Topic18\", \"Topic18\", \"Topic18\", \"Topic18\", \"Topic18\", \"Topic18\", \"Topic18\", \"Topic18\", \"Topic18\", \"Topic18\", \"Topic18\", \"Topic18\", \"Topic18\", \"Topic18\", \"Topic18\", \"Topic18\", \"Topic18\", \"Topic18\", \"Topic18\", \"Topic18\", \"Topic18\", \"Topic18\", \"Topic18\", \"Topic18\", \"Topic18\", \"Topic18\", \"Topic18\", \"Topic18\", \"Topic19\", \"Topic19\", \"Topic19\", \"Topic19\", \"Topic19\", \"Topic19\", \"Topic19\", \"Topic19\", \"Topic19\", \"Topic19\", \"Topic19\", \"Topic19\", \"Topic19\", \"Topic19\", \"Topic19\", \"Topic19\", \"Topic19\", \"Topic19\", \"Topic19\", \"Topic19\", \"Topic19\", \"Topic19\", \"Topic19\", \"Topic19\", \"Topic19\", \"Topic19\", \"Topic19\", \"Topic19\", \"Topic19\", \"Topic19\", \"Topic19\", \"Topic19\", \"Topic20\", \"Topic20\", \"Topic20\", \"Topic20\", \"Topic20\", \"Topic20\", \"Topic20\", \"Topic20\", \"Topic20\", \"Topic20\", \"Topic20\", \"Topic20\", \"Topic20\", \"Topic20\", \"Topic20\", \"Topic20\", \"Topic20\", \"Topic20\", \"Topic20\", \"Topic20\", \"Topic20\", \"Topic20\", \"Topic20\", \"Topic20\", \"Topic20\", \"Topic20\", \"Topic20\", \"Topic20\", \"Topic20\", \"Topic20\", \"Topic20\", \"Topic20\", \"Topic20\", \"Topic20\", \"Topic20\", \"Topic20\"], \"logprob\": [30.0, 29.0, 28.0, 27.0, 26.0, 25.0, 24.0, 23.0, 22.0, 21.0, 20.0, 19.0, 18.0, 17.0, 16.0, 15.0, 14.0, 13.0, 12.0, 11.0, 10.0, 9.0, 8.0, 7.0, 6.0, 5.0, 4.0, 3.0, 2.0, 1.0, -3.84660005569458, -3.8933000564575195, -3.9811999797821045, -4.835000038146973, -5.133699893951416, -5.139500141143799, -5.225100040435791, -5.25570011138916, -5.4903998374938965, -5.575099945068359, -5.577300071716309, -5.63700008392334, -5.798099994659424, -5.834099769592285, -5.987400054931641, -5.993500232696533, -6.002399921417236, -6.039100170135498, -6.051000118255615, -6.058000087738037, -6.080100059509277, -6.100500106811523, -6.210899829864502, -6.222400188446045, -6.247200012207031, -6.317999839782715, -6.318900108337402, -6.417900085449219, -6.4492998123168945, -6.457300186157227, -3.8001999855041504, -3.296600103378296, -4.091599941253662, -5.828000068664551, -3.2295000553131104, -5.5289998054504395, -4.393899917602539, -4.0121002197265625, -4.851799964904785, -4.548500061035156, -4.139599800109863, -5.229899883270264, -5.369999885559082, -4.8414998054504395, -4.677000045776367, -5.117700099945068, -3.962899923324585, -3.579900026321411, -5.209199905395508, -4.5254998207092285, -4.491099834442139, -4.690999984741211, -4.206600189208984, -4.31790018081665, -4.819399833679199, -4.728600025177002, -4.808199882507324, -4.5920000076293945, -4.813000202178955, -4.966000080108643, -5.011899948120117, -5.007999897003174, -4.0817999839782715, -4.213600158691406, -4.08489990234375, -4.533699989318848, -4.576499938964844, -4.749000072479248, -4.757699966430664, -4.84250020980835, -4.934700012207031, -4.962800025939941, -5.22599983215332, -5.273399829864502, -5.301499843597412, -5.303899765014648, -5.3302001953125, -5.342800140380859, -5.397600173950195, -5.40939998626709, -5.463099956512451, -5.484000205993652, -5.588399887084961, -5.59250020980835, -5.6219000816345215, -5.690899848937988, -5.707399845123291, -5.867000102996826, -5.783199787139893, -6.010200023651123, -6.018700122833252, -6.025100231170654, -3.3987998962402344, -4.8902997970581055, -5.056399822235107, -5.095600128173828, -4.409999847412109, -5.287099838256836, -3.7249999046325684, -4.353600025177002, -4.787600040435791, -4.468200206756592, -4.585400104522705, -4.095900058746338, -4.942299842834473, -4.96019983291626, -4.855299949645996, -4.35260009765625, -4.394899845123291, -4.836100101470947, -4.216800212860107, -4.8053998947143555, -5.001500129699707, -4.784999847412109, -4.861299991607666, -4.916999816894531, -4.882999897003174, -4.941299915313721, -3.6429998874664307, -4.21619987487793, -4.435400009155273, -4.554800033569336, -4.611000061035156, -4.678999900817871, -4.7118000984191895, -4.726399898529053, -4.798799991607666, -4.832499980926514, -4.868199825286865, -4.929900169372559, -5.070700168609619, -5.074699878692627, -5.096799850463867, -5.147799968719482, -5.215199947357178, -5.223499774932861, -5.291399955749512, -5.308499813079834, -5.313300132751465, -5.321499824523926, -5.331999778747559, -5.393700122833252, -5.394199848175049, -5.396699905395508, -5.445099830627441, -5.4481000900268555, -5.488900184631348, -5.513299942016602, -4.40749979019165, -4.822700023651123, -4.356500148773193, -3.526400089263916, -5.092899799346924, -5.013999938964844, -4.524899959564209, -4.710899829864502, -4.3933000564575195, -4.849699974060059, -5.232800006866455, -4.487500190734863, -4.251800060272217, -4.437300205230713, -4.926199913024902, -4.758299827575684, -4.808800220489502, -4.759799957275391, -4.827499866485596, -5.0131001472473145, -4.484899997711182, -4.609000205993652, -4.739200115203857, -4.776800155639648, -4.902400016784668, -5.025700092315674, -5.03439998626709, -5.089700222015381, -5.141499996185303, -5.181399822235107, -5.19920015335083, -5.286600112915039, -5.417799949645996, -5.443399906158447, -5.461999893188477, -5.537199974060059, -5.626100063323975, -5.676199913024902, -5.677999973297119, -5.684599876403809, -5.697299957275391, -5.6975998878479, -5.713399887084961, -5.71619987487793, -5.719799995422363, -5.755499839782715, -5.784299850463867, -5.795899868011475, -5.796500205993652, -5.802499771118164, -5.625199794769287, -4.235300064086914, -4.3007001876831055, -4.770999908447266, -4.5295000076293945, -4.196800231933594, -3.9142000675201416, -2.920599937438965, -4.091599941253662, -3.8612000942230225, -4.265699863433838, -3.462899923324585, -5.211100101470947, -5.3470001220703125, -3.4296998977661133, -4.417799949645996, -4.9415998458862305, -3.9971001148223877, -4.923500061035156, -4.88539981842041, -4.122799873352051, -4.433800220489502, -4.6305999755859375, -4.359000205993652, -4.267499923706055, -4.936299800872803, -4.60129976272583, -4.790599822998047, -4.826099872589111, -4.826499938964844, -4.848499774932861, -4.287600040435791, -4.298999786376953, -4.593800067901611, -4.67519998550415, -4.67519998550415, -4.7291998863220215, -4.849299907684326, -5.0904998779296875, -5.109799861907959, -5.131199836730957, -5.131400108337402, -5.147600173950195, -5.154200077056885, -5.179599761962891, -5.22130012512207, -5.225299835205078, -5.249300003051758, -5.271200180053711, -5.286099910736084, -5.44890022277832, -5.473999977111816, -5.534299850463867, -5.537300109863281, -5.548299789428711, -5.5883002281188965, -5.598100185394287, -5.611199855804443, -5.619200229644775, -5.646299839019775, -5.7270002365112305, -4.4721999168396, -4.648600101470947, -4.88730001449585, -5.071400165557861, -4.508999824523926, -3.657900094985962, -5.265600204467773, -4.619800090789795, -4.939700126647949, -5.07390022277832, -4.851900100708008, -4.07889986038208, -4.714099884033203, -4.351900100708008, -4.282299995422363, -4.90500020980835, -4.071100234985352, -4.895500183105469, -5.003900051116943, -4.446700096130371, -4.9730000495910645, -4.921199798583984, -4.741799831390381, -4.721700191497803, -4.873899936676025, -4.965099811553955, -0.2897999882698059, -3.792799949645996, -3.971100091934204, -4.028200149536133, -4.406400203704834, -4.482500076293945, -4.495100021362305, -4.688600063323975, -4.910099983215332, -4.942299842834473, -5.190700054168701, -5.368199825286865, -5.369100093841553, -5.401700019836426, -5.515100002288818, -5.5167999267578125, -5.711100101470947, -5.769899845123291, -5.78849983215332, -5.808899879455566, -5.844200134277344, -6.088399887084961, -6.151500225067139, -6.325399875640869, -6.329999923706055, -6.505799770355225, -6.578999996185303, -6.7154998779296875, -6.860300064086914, -6.950699806213379, -2.737299919128418, -3.0120999813079834, -3.3782999515533447, -3.5508999824523926, -3.708699941635132, -3.835599899291992, -3.8613998889923096, -3.8731000423431396, -3.946500062942505, -3.980299949645996, -4.131199836730957, -4.159200191497803, -4.206600189208984, -4.400000095367432, -4.564199924468994, -4.6072001457214355, -4.63100004196167, -4.8028998374938965, -4.8495001792907715, -4.859600067138672, -4.906099796295166, -4.954800128936768, -5.09119987487793, -5.139699935913086, -5.221799850463867, -5.244900226593018, -5.366399765014648, -5.440800189971924, -5.451200008392334, -5.474699974060059, -2.6835999488830566, -4.024099826812744, -4.518099784851074, -3.952699899673462, -3.721299886703491, -4.59660005569458, -4.068900108337402, -4.822199821472168, -4.772799968719482, -4.673500061035156, -4.7621002197265625, -4.78980016708374, -2.360100030899048, -2.91510009765625, -3.6275999546051025, -3.776099920272827, -3.8559999465942383, -3.9828999042510986, -3.9856998920440674, -4.235000133514404, -4.274700164794922, -4.292699813842773, -4.383699893951416, -4.4471001625061035, -4.502799987792969, -4.633699893951416, -4.640900135040283, -4.661499977111816, -4.664100170135498, -4.681700229644775, -4.799799919128418, -4.8592000007629395, -4.926000118255615, -4.950300216674805, -4.9583001136779785, -4.967599868774414, -5.11359977722168, -5.13070011138916, -5.145699977874756, -5.158699989318848, -5.212699890136719, -5.238699913024902, -3.8341000080108643, -4.171500205993652, -2.91729998588562, -4.429599761962891, -4.446800231933594, -4.202899932861328, -3.5676000118255615, -3.6772000789642334, -3.7428998947143555, -4.696100234985352, -4.745500087738037, -4.759399890899658, -3.6131999492645264, -3.697499990463257, -3.8101000785827637, -3.8368000984191895, -3.9054999351501465, -4.03000020980835, -4.212500095367432, -4.290299892425537, -4.348199844360352, -4.370299816131592, -4.373199939727783, -4.384500026702881, -4.470799922943115, -4.557799816131592, -4.588500022888184, -4.60129976272583, -4.7555999755859375, -4.885499954223633, -4.922100067138672, -4.954800128936768, -4.987800121307373, -5.043900012969971, -5.143400192260742, -5.153600215911865, -5.157800197601318, -5.167600154876709, -5.216100215911865, -5.237800121307373, -5.285699844360352, -5.322700023651123, -4.016200065612793, -3.0838000774383545, -3.6442999839782715, -3.8217999935150146, -4.084000110626221, -4.1107001304626465, -4.863999843597412, -4.011199951171875, -4.0100998878479, -3.891400098800659, -4.745100021362305, -4.6743998527526855, -4.737299919128418, -4.836400032043457, -3.103600025177002, -3.1784000396728516, -3.2880001068115234, -3.4498000144958496, -3.4765000343322754, -3.5295000076293945, -3.6029000282287598, -3.6905999183654785, -3.79229998588562, -3.8554000854492188, -3.9265999794006348, -4.063300132751465, -4.065700054168701, -4.069799900054932, -4.072400093078613, -4.079400062561035, -4.087600231170654, -4.092599868774414, -4.132400035858154, -4.1458001136779785, -4.155799865722656, -4.163599967956543, -4.264100074768066, -4.293700218200684, -4.345200061798096, -4.42080020904541, -4.5106000900268555, -4.535299777984619, -4.578000068664551, -4.669000148773193, -3.66759991645813, -4.312399864196777, -4.474299907684326, -2.3378000259399414, -2.4688000679016113, -2.684999942779541, -2.8587000370025635, -3.4804000854492188, -3.593600034713745, -3.6380999088287354, -4.079899787902832, -4.1016998291015625, -4.147900104522705, -4.170199871063232, -4.34499979019165, -4.528900146484375, -4.551799774169922, -4.626100063323975, -4.697500228881836, -4.77209997177124, -4.853300094604492, -4.935500144958496, -4.995999813079834, -4.997700214385986, -5.027699947357178, -5.145999908447266, -5.188300132751465, -5.334700107574463, -5.342299938201904, -5.387400150299072, -5.556399822235107, -5.72130012512207, -5.724800109863281, -4.000899791717529, -4.455999851226807, -2.927500009536743, -4.797500133514404, -4.336699962615967, -4.629300117492676, -3.9235999584198, -4.702099800109863, -4.572700023651123, -4.748799800872803, -4.5721001625061035, -4.624599933624268, -2.8982999324798584, -3.081199884414673, -3.679800033569336, -3.685800075531006, -3.7076001167297363, -3.7832999229431152, -3.901400089263916, -3.9267001152038574, -3.926800012588501, -3.9305999279022217, -3.988100051879883, -4.002399921417236, -4.101399898529053, -4.116799831390381, -4.190400123596191, -4.340000152587891, -4.356599807739258, -4.399700164794922, -4.410099983215332, -4.504000186920166, -4.5192999839782715, -4.528900146484375, -4.542300224304199, -4.54640007019043, -4.561299800872803, -4.647600173950195, -4.663899898529053, -4.736599922180176, -4.750199794769287, -4.819499969482422, -4.188000202178955, -3.044600009918213, -4.35890007019043, -1.496999979019165, -3.2639999389648438, -3.2718000411987305, -3.3905999660491943, -3.7546000480651855, -3.845599889755249, -3.973400115966797, -4.167600154876709, -4.219600200653076, -4.222099781036377, -4.276599884033203, -4.309999942779541, -4.351500034332275, -4.364799976348877, -4.3765997886657715, -4.491700172424316, -4.499199867248535, -4.5019001960754395, -4.627799987792969, -4.6620001792907715, -4.818399906158447, -4.838200092315674, -4.862100124359131, -5.03249979019165, -5.0441999435424805, -5.072000026702881, -5.110400199890137, -5.120200157165527, -5.163099765777588, -5.276800155639648, -3.953399896621704, -4.397799968719482, -3.636199951171875, -4.667399883270264, -4.305500030517578, -4.286399841308594, -4.798600196838379, -4.750500202178955, -2.146399974822998, -2.6382999420166016, -3.058300018310547, -3.09660005569458, -3.2808001041412354, -3.319700002670288, -3.3926000595092773, -3.477099895477295, -3.5034000873565674, -3.6728999614715576, -3.934499979019165, -3.963399887084961, -3.978600025177002, -4.145999908447266, -4.244200229644775, -4.252799987792969, -4.307400226593018, -4.309999942779541, -4.328999996185303, -4.502600193023682, -4.689799785614014, -4.779799938201904, -4.795899868011475, -4.809100151062012, -4.82859992980957, -4.840400218963623, -5.0329999923706055, -5.212699890136719, -5.276800155639648, -5.457600116729736, -3.959700107574463, -4.507999897003174, -4.757299900054932, -2.172800064086914, -3.1663999557495117, -3.2435998916625977, -3.377000093460083, -3.385699987411499, -3.5009000301361084, -3.5251998901367188, -3.7083001136779785, -3.734800100326538, -3.766200065612793, -3.8940000534057617, -3.895400047302246, -4.041500091552734, -4.153200149536133, -4.220200061798096, -4.356299877166748, -4.634200096130371, -4.68720006942749, -4.704800128936768, -4.8302001953125, -4.832200050354004, -5.107699871063232, -5.13539981842041, -5.171899795532227, -5.2281999588012695, -5.262899875640869, -5.29449987411499, -5.3454999923706055, -5.381499767303467, -5.426000118255615, -4.366799831390381, -3.672600030899048, -3.9382998943328857, -4.660699844360352, -4.396399974822998, -4.208199977874756, -4.816400051116943, -4.55679988861084, -4.987400054931641, -2.5118000507354736, -2.5278000831604004, -3.359999895095825, -3.366300106048584, -3.4045000076293945, -3.6445000171661377, -3.738300085067749, -3.753200054168701, -2.6679000854492188, -3.9748001098632812, -4.000999927520752, -4.092400074005127, -4.210599899291992, -4.258399963378906, -4.297699928283691, -4.300300121307373, -4.336599826812744, -4.361199855804443, -4.391499996185303, -4.417600154876709, -4.453800201416016, -4.515699863433838, -4.516900062561035, -4.642199993133545, -4.753799915313721, -4.7692999839782715, -4.96560001373291, -4.991000175476074, -5.105599880218506, -5.117099761962891, -3.600600004196167, -4.622600078582764, -4.115900039672852, -4.479000091552734, -4.48199987411499, -3.5780999660491943, -3.5943000316619873, -3.6703999042510986, -3.7011001110076904, -3.7595999240875244, -3.7716000080108643, -3.7901999950408936, -3.7990000247955322, -3.8536999225616455, -3.8622000217437744, -3.925299882888794, -4.151299953460693, -4.157899856567383, -4.185299873352051, -4.2571001052856445, -4.435200214385986, -4.444699764251709, -4.481800079345703, -4.502600193023682, -4.5355000495910645, -4.556099891662598, -4.575200080871582, -4.6031999588012695, -4.640999794006348, -4.677800178527832, -4.6869001388549805, -4.825200080871582, -4.964000225067139, -5.013000011444092, -5.0696001052856445, -3.3496999740600586, -2.8492000102996826, -4.298900127410889, -4.1194000244140625, -4.075500011444092, -4.2804999351501465, -4.548799991607666, -2.1909000873565674, -2.5329999923706055, -2.831199884414673, -3.0910000801086426, -3.1466000080108643, -3.2202000617980957, -3.5297999382019043, -3.69950008392334, -3.822999954223633, -3.8610000610351562, -3.8817999362945557, -3.88319993019104, -3.997299909591675, -4.149199962615967, -4.230800151824951, -4.234399795532227, -4.353000164031982, -4.38730001449585, -4.496600151062012, -4.575900077819824, -4.767099857330322, -4.7906999588012695, -4.880000114440918, -4.9253997802734375, -5.249800205230713, -5.2606000900268555, -5.265699863433838, -5.443999767303467, -5.508200168609619, -5.543000221252441, -5.051199913024902, -2.737799882888794, -3.0869998931884766, -3.1275999546051025, -3.211699962615967, -3.263700008392334, -3.344399929046631, -3.4725000858306885, -3.726099967956543, -3.738600015640259, -3.748500108718872, -3.7983999252319336, -3.8004000186920166, -3.8431999683380127, -3.982599973678589, -4.000999927520752, -4.097599983215332, -4.251699924468994, -4.338799953460693, -4.368800163269043, -4.397299766540527, -4.452899932861328, -4.657700061798096, -4.733799934387207, -4.822299957275391, -4.915999889373779, -4.993800163269043, -5.032800197601318, -5.033400058746338, -5.2332000732421875, -5.333099842071533, -3.7430999279022217, -4.911399841308594, -2.2111001014709473, -2.5236001014709473, -2.562299966812134, -2.7588000297546387, -2.8650999069213867, -2.972599983215332, -3.169300079345703, -3.3903000354766846, -3.525700092315674, -3.5957999229431152, -3.9930999279022217, -4.372900009155273, -4.395999908447266, -4.836999893188477, -5.31279993057251, -5.446499824523926, -5.524700164794922, -5.614500045776367, -11.5108003616333, -11.5108003616333, -11.510899543762207, -11.510899543762207, -11.510899543762207, -11.510899543762207, -11.510899543762207, -11.510899543762207, -11.510899543762207, -11.510899543762207, -11.510899543762207, -11.510899543762207, -11.510899543762207, -11.510899543762207, -11.510899543762207, -11.510899543762207, -11.510899543762207, -11.510899543762207], \"loglift\": [30.0, 29.0, 28.0, 27.0, 26.0, 25.0, 24.0, 23.0, 22.0, 21.0, 20.0, 19.0, 18.0, 17.0, 16.0, 15.0, 14.0, 13.0, 12.0, 11.0, 10.0, 9.0, 8.0, 7.0, 6.0, 5.0, 4.0, 3.0, 2.0, 1.0, 1.236, 1.236, 1.236, 1.2357, 1.2355, 1.2355, 1.2355, 1.2354, 1.2353, 1.2352, 1.2352, 1.2351, 1.2349, 1.2349, 1.2347, 1.2347, 1.2347, 1.2346, 1.2346, 1.2346, 1.2345, 1.2345, 1.2343, 1.2343, 1.2342, 1.2341, 1.2341, 1.2339, 1.2338, 1.2338, 1.226, 1.2171, 1.2151, 1.2313, 1.1841, 1.2206, 1.1946, 1.1769, 1.1955, 1.1715, 1.144, 1.199, 1.2034, 1.1753, 1.1457, 1.1626, 1.0323, 0.9773, 1.1587, 1.0309, 1.002, 1.0155, 0.8354, 0.8046, 0.9211, 0.8356, 0.8905, 0.6889, 0.8092, 0.7289, 0.6054, 0.3307, 1.8184, 1.8183, 1.8182, 1.8182, 1.8181, 1.818, 1.818, 1.8179, 1.8179, 1.8178, 1.8175, 1.8175, 1.8175, 1.8174, 1.8174, 1.8174, 1.8173, 1.8173, 1.8172, 1.8172, 1.817, 1.817, 1.8169, 1.8168, 1.8168, 1.8164, 1.8164, 1.8161, 1.8161, 1.816, 1.7135, 1.7728, 1.7742, 1.7698, 1.681, 1.7502, 1.2418, 1.4214, 1.5177, 1.3745, 1.3595, 1.0388, 1.4417, 1.4353, 1.3261, 0.7699, 0.647, 1.206, 0.3404, 0.9324, 1.2122, 0.5536, 0.7609, 0.7778, 0.1121, 0.9159, 1.9449, 1.9446, 1.9445, 1.9444, 1.9444, 1.9443, 1.9443, 1.9443, 1.9442, 1.9442, 1.9442, 1.9441, 1.9439, 1.9439, 1.9439, 1.9439, 1.9438, 1.9437, 1.9437, 1.9436, 1.9436, 1.9436, 1.9436, 1.9435, 1.9435, 1.9435, 1.9434, 1.9434, 1.9433, 1.9433, 1.9131, 1.9132, 1.888, 1.7793, 1.9108, 1.8973, 1.8331, 1.7743, 1.613, 1.7026, 1.8921, 1.3604, 1.1066, 1.1799, 1.6317, 1.3053, 1.1822, 0.8044, 0.3072, 0.9638, 2.3755, 2.3753, 2.3752, 2.3751, 2.3749, 2.3747, 2.3747, 2.3746, 2.3745, 2.3744, 2.3744, 2.3742, 2.3739, 2.3738, 2.3738, 2.3735, 2.3733, 2.3731, 2.3731, 2.3731, 2.373, 2.373, 2.373, 2.373, 2.373, 2.3728, 2.3727, 2.3727, 2.3727, 2.3727, 2.3725, 2.3514, 2.3199, 2.3392, 2.3257, 2.3084, 2.2896, 2.1615, 2.236, 2.2133, 2.2389, 2.0972, 2.2765, 2.2799, 1.5372, 1.8922, 2.0878, 1.5894, 2.055, 1.9867, 1.2158, 1.5097, 1.7011, 1.21, 1.0134, 1.9841, 1.0973, 1.1247, 0.9873, 0.9113, 1.1284, 2.6896, 2.6896, 2.6892, 2.6891, 2.6891, 2.689, 2.6887, 2.6882, 2.6881, 2.6881, 2.6881, 2.688, 2.688, 2.688, 2.6878, 2.6878, 2.6878, 2.6877, 2.6876, 2.6871, 2.687, 2.6868, 2.6867, 2.6867, 2.6865, 2.6865, 2.6864, 2.6864, 2.6863, 2.6859, 2.6793, 2.6807, 2.6807, 2.6693, 2.6432, 2.5705, 2.6659, 2.6101, 2.6247, 2.6378, 2.6074, 2.3268, 2.4974, 2.3646, 2.1004, 2.4441, 1.7423, 2.2969, 2.3036, 0.8342, 2.1892, 1.9358, 1.1062, 0.9856, 1.4159, 0.6039, 2.8538, 2.8531, 2.8529, 2.8528, 2.8524, 2.8523, 2.8523, 2.8519, 2.8514, 2.8514, 2.8507, 2.8501, 2.8501, 2.8499, 2.8495, 2.8495, 2.8485, 2.8482, 2.8481, 2.848, 2.8478, 2.8461, 2.8456, 2.844, 2.844, 2.8421, 2.8412, 2.8394, 2.8372, 2.8356, 3.4027, 3.4025, 3.4022, 3.4021, 3.4019, 3.4017, 3.4017, 3.4016, 3.4015, 3.4015, 3.4012, 3.4011, 3.401, 3.4006, 3.4001, 3.4, 3.3999, 3.3993, 3.3991, 3.399, 3.3989, 3.3986, 3.398, 3.3977, 3.3972, 3.3971, 3.3963, 3.3958, 3.3957, 3.3955, 3.388, 3.3512, 3.3535, 3.3045, 3.2504, 3.2406, 2.3265, 2.861, 2.6483, 1.3901, 1.9528, 2.2814, 3.7475, 3.7471, 3.7462, 3.7459, 3.7458, 3.7455, 3.7455, 3.7448, 3.7447, 3.7446, 3.7443, 3.744, 3.7438, 3.7432, 3.7432, 3.7431, 3.7431, 3.743, 3.7424, 3.7421, 3.7417, 3.7415, 3.7414, 3.7414, 3.7404, 3.7402, 3.7401, 3.74, 3.7396, 3.7394, 3.6873, 3.6463, 3.473, 3.6291, 3.5806, 3.4306, 2.9595, 2.5365, 2.1724, 3.2092, 1.6044, 1.7177, 3.8067, 3.8065, 3.8063, 3.8062, 3.806, 3.8057, 3.8052, 3.8049, 3.8047, 3.8046, 3.8046, 3.8046, 3.8042, 3.8038, 3.8037, 3.8036, 3.8028, 3.8021, 3.8018, 3.8016, 3.8014, 3.801, 3.8002, 3.8001, 3.8001, 3.8, 3.7996, 3.7994, 3.7989, 3.7986, 3.7403, 3.6361, 3.5157, 3.1676, 3.1593, 3.0519, 3.5587, 2.7081, 2.3803, 1.2208, 2.7394, 2.2264, 1.6582, 2.6368, 4.0602, 4.0601, 4.06, 4.0597, 4.0596, 4.0595, 4.0593, 4.0591, 4.0589, 4.0587, 4.0585, 4.058, 4.058, 4.058, 4.058, 4.058, 4.0579, 4.0579, 4.0578, 4.0577, 4.0577, 4.0576, 4.0572, 4.0571, 4.0568, 4.0565, 4.056, 4.0558, 4.0556, 4.055, 3.9295, 3.562, 3.3189, 4.1141, 4.114, 4.1138, 4.1136, 4.1126, 4.1123, 4.1122, 4.1108, 4.1108, 4.1106, 4.1105, 4.1097, 4.1086, 4.1085, 4.108, 4.1075, 4.1069, 4.1063, 4.1056, 4.105, 4.105, 4.1047, 4.1034, 4.1029, 4.1011, 4.101, 4.1003, 4.0977, 4.0947, 4.0946, 3.7778, 3.8593, 2.6416, 3.6311, 3.2117, 3.4171, 2.14, 2.8726, 1.7373, 2.5185, 1.2706, 1.1888, 4.4937, 4.4933, 4.4916, 4.4916, 4.4915, 4.4912, 4.4906, 4.4905, 4.4905, 4.4905, 4.4902, 4.4901, 4.4896, 4.4895, 4.489, 4.488, 4.4879, 4.4876, 4.4875, 4.4867, 4.4866, 4.4865, 4.4864, 4.4863, 4.4862, 4.4854, 4.4852, 4.4844, 4.4843, 4.4835, 4.4351, 4.2819, 3.9149, 4.5204, 4.5182, 4.5182, 4.5179, 4.5166, 4.5162, 4.5155, 4.5144, 4.5141, 4.514, 4.5137, 4.5134, 4.5131, 4.513, 4.5129, 4.512, 4.5119, 4.5119, 4.5107, 4.5103, 4.5086, 4.5083, 4.508, 4.5057, 4.5055, 4.5051, 4.5044, 4.5043, 4.5036, 4.5015, 4.3428, 3.8667, 2.9628, 3.8843, 3.3635, 2.9036, 3.4749, 3.04, 4.5605, 4.5599, 4.5591, 4.5591, 4.5586, 4.5585, 4.5583, 4.558, 4.5579, 4.5573, 4.5561, 4.5559, 4.5558, 4.5548, 4.5541, 4.5541, 4.5537, 4.5537, 4.5535, 4.552, 4.5501, 4.5491, 4.5489, 4.5487, 4.5485, 4.5483, 4.5456, 4.5425, 4.5413, 4.5373, 3.3944, 2.9805, 2.9298, 4.6341, 4.6324, 4.6322, 4.6318, 4.6318, 4.6313, 4.6313, 4.6305, 4.6304, 4.6302, 4.6296, 4.6296, 4.6287, 4.628, 4.6275, 4.6264, 4.6236, 4.623, 4.6228, 4.6211, 4.6211, 4.6167, 4.6162, 4.6155, 4.6144, 4.6137, 4.613, 4.6119, 4.6111, 4.61, 4.3451, 3.7596, 3.8921, 3.9412, 3.5212, 3.137, 3.3763, 2.2052, 3.625, 4.7664, 4.7664, 4.7643, 4.7643, 4.7641, 4.7631, 4.7626, 4.7625, 4.7615, 4.7612, 4.761, 4.7603, 4.7594, 4.759, 4.7586, 4.7586, 4.7582, 4.758, 4.7577, 4.7574, 4.757, 4.7563, 4.7563, 4.7548, 4.7532, 4.753, 4.7498, 4.7493, 4.7471, 4.7469, 4.6928, 4.7259, 3.817, 3.3141, 2.4483, 4.98, 4.9799, 4.9794, 4.9792, 4.9788, 4.9788, 4.9786, 4.9786, 4.9782, 4.9781, 4.9776, 4.9756, 4.9755, 4.9753, 4.9745, 4.9724, 4.9722, 4.9717, 4.9714, 4.971, 4.9707, 4.9704, 4.97, 4.9694, 4.9687, 4.9686, 4.9661, 4.9632, 4.9621, 4.9608, 4.9133, 4.6392, 4.544, 4.3586, 4.2211, 4.3156, 4.4713, 5.0612, 5.0606, 5.0598, 5.059, 5.0588, 5.0584, 5.0569, 5.0558, 5.0549, 5.0546, 5.0545, 5.0544, 5.0534, 5.0519, 5.051, 5.051, 5.0495, 5.049, 5.0475, 5.0462, 5.0428, 5.0423, 5.0404, 5.0394, 5.0306, 5.0303, 5.0301, 5.0239, 5.0213, 5.0199, 2.3146, 5.1211, 5.12, 5.1198, 5.1194, 5.1192, 5.1188, 5.1181, 5.1164, 5.1163, 5.1162, 5.1159, 5.1158, 5.1155, 5.1142, 5.1141, 5.1131, 5.1113, 5.1101, 5.1097, 5.1093, 5.1084, 5.105, 5.1035, 5.1016, 5.0994, 5.0975, 5.0964, 5.0964, 5.0904, 5.087, 3.9757, 2.7155, 5.6215, 5.6205, 5.6203, 5.6195, 5.6189, 5.6183, 5.617, 5.6153, 5.614, 5.6132, 5.6079, 5.6004, 5.5999, 5.5866, 5.5644, 5.5561, 5.5507, 5.5441, 2.1789, 2.1788, 2.1788, 2.1788, 2.1788, 2.1788, 2.1788, 2.1788, 2.1788, 2.1788, 2.1788, 2.1788, 2.1788, 2.1788, 2.1788, 2.1787, 2.1787, 2.1787]}, \"token.table\": {\"Topic\": [8, 5, 12, 5, 10, 10, 3, 8, 4, 5, 8, 17, 1, 2, 2, 9, 1, 13, 8, 1, 2, 3, 5, 9, 1, 6, 18, 10, 3, 5, 18, 7, 1, 10, 16, 16, 11, 20, 1, 3, 9, 2, 9, 9, 1, 2, 20, 19, 11, 10, 15, 2, 17, 5, 9, 16, 17, 2, 3, 7, 5, 20, 3, 11, 10, 2, 4, 9, 6, 1, 4, 1, 4, 14, 11, 5, 1, 2, 4, 5, 5, 9, 2, 2, 13, 1, 1, 3, 6, 14, 14, 14, 2, 9, 17, 17, 5, 20, 17, 13, 19, 8, 18, 2, 4, 5, 9, 9, 18, 13, 1, 3, 7, 4, 9, 17, 18, 20, 19, 1, 3, 3, 9, 1, 2, 3, 4, 5, 14, 1, 2, 3, 7, 1, 3, 2, 4, 9, 14, 15, 1, 2, 3, 8, 4, 19, 2, 10, 6, 3, 17, 2, 9, 3, 7, 8, 5, 8, 9, 4, 9, 14, 9, 2, 2, 5, 6, 8, 1, 4, 5, 9, 3, 7, 8, 13, 3, 1, 2, 4, 10, 12, 15, 3, 5, 2, 14, 3, 13, 7, 6, 5, 3, 20, 1, 2, 4, 18, 2, 8, 9, 8, 18, 3, 2, 7, 20, 8, 9, 8, 9, 8, 8, 3, 18, 16, 13, 13, 1, 14, 5, 16, 7, 3, 15, 1, 4, 5, 2, 9, 14, 14, 2, 11, 14, 11, 2, 19, 14, 5, 5, 9, 6, 19, 5, 10, 17, 12, 5, 3, 11, 15, 14, 18, 4, 15, 9, 18, 16, 3, 7, 12, 1, 1, 11, 18, 20, 8, 17, 13, 1, 18, 13, 15, 13, 13, 5, 15, 19, 13, 10, 2, 3, 18, 6, 19, 3, 7, 8, 1, 4, 5, 6, 16, 13, 6, 7, 7, 15, 16, 11, 2, 7, 9, 5, 14, 12, 1, 2, 4, 5, 19, 2, 12, 10, 19, 2, 16, 13, 16, 16, 2, 19, 8, 17, 19, 4, 3, 15, 2, 13, 12, 7, 2, 20, 11, 17, 6, 7, 8, 16, 12, 1, 7, 10, 1, 3, 5, 11, 16, 9, 14, 17, 14, 1, 4, 5, 11, 6, 6, 15, 17, 4, 15, 2, 3, 5, 7, 6, 2, 4, 9, 1, 5, 7, 18, 1, 4, 10, 15, 17, 7, 5, 11, 17, 13, 19, 9, 9, 1, 3, 4, 10, 1, 2, 4, 5, 1, 4, 11, 5, 1, 2, 11, 8, 9, 8, 10, 7, 16, 19, 1, 2, 13, 15, 2, 3, 5, 9, 1, 14, 4, 18, 14, 19, 1, 2, 4, 3, 1, 4, 13, 15, 16, 13, 8, 17, 12, 2, 5, 9, 4, 11, 11, 12, 4, 14, 1, 3, 13, 1, 2, 3, 2, 11, 6, 1, 7, 14, 11, 10, 2, 3, 9, 1, 3, 8, 11, 2, 5, 17, 13, 3, 3, 5, 9, 7, 4, 3, 6, 19, 19, 20, 2, 3, 5, 8, 1, 17, 1, 2, 4, 5, 8, 8, 18, 2, 4, 9, 1, 2, 4, 9, 10, 6, 1, 4, 5, 11, 15, 2, 8, 2, 4, 5, 11, 17, 4, 9, 18, 8, 16, 10, 14, 7, 10, 2, 18, 1, 1, 1, 3, 6, 20, 3, 4, 1, 2, 1, 3, 4, 4, 1, 16, 16, 16, 3, 3, 5, 1, 2, 3, 4, 5, 12, 2, 4, 9, 10, 17, 1, 13, 1, 2, 3, 4, 5, 7, 14, 12, 9, 14, 5, 13, 2, 6, 1, 2, 3, 5, 1, 4, 6, 1, 2, 16, 16, 10, 5, 9, 3, 8, 3, 5, 1, 5, 1, 13, 8, 9, 8, 17, 16, 6, 15, 6, 1, 3, 5, 10, 15, 1, 6, 15, 10, 10, 13, 9, 14, 6, 1, 2, 9, 2, 3, 7, 1, 3, 4, 5, 7, 8, 9, 2, 1, 2, 3, 14, 18, 1, 3, 5, 8, 3, 4, 11, 1, 4, 1, 18, 19, 18, 13, 1, 2, 3, 9, 11, 10, 2, 12, 19, 15, 9, 11, 9, 10, 13, 20, 13, 15, 15, 15, 1, 3, 5, 1, 18, 7, 13, 12, 4, 7, 17, 16, 13, 1, 2, 3, 5, 6, 10, 5, 12, 16, 1, 3, 4, 11, 1, 2, 9, 9, 12, 11, 4, 16, 6, 17, 2, 8, 15, 16, 1, 11, 4, 11, 19, 12, 15, 11, 4, 1, 2, 3, 4, 11, 9, 8, 9, 12, 17, 12, 9, 1, 2, 5, 1, 3, 5, 1, 13, 15, 16, 19, 2, 5, 4, 19, 1, 16, 6, 8, 8, 19, 10, 12, 1, 15, 1, 3, 7, 4, 3, 5, 17, 7, 15, 8, 1, 3, 15, 18, 5, 8, 9, 8, 2, 19, 8, 10, 19, 14, 10, 1, 2, 3, 12, 12, 4, 12, 5, 1, 2, 1, 2, 3, 5, 5, 3, 5, 7, 12, 2, 10, 2, 2, 6, 5, 9, 11, 20, 1, 3, 9, 3, 4, 9, 15, 16, 1, 3, 10, 15, 7, 5, 8, 8, 1, 2, 3, 5, 16, 11, 14, 2, 14, 1, 2, 4, 8, 1, 9, 13, 12, 9, 4, 20, 19, 2, 7, 1, 3, 4, 7, 11, 19, 1, 2, 4, 3, 15, 1, 2, 4, 12, 7, 15, 16, 16, 11, 7, 5, 4, 5, 7, 10, 5, 8, 1, 2, 4, 3, 4, 2, 5, 1, 10, 5, 1, 2, 3, 4, 7, 18, 8, 6, 4, 9, 14, 14, 19, 15, 4, 11, 16, 18, 2, 4, 7, 13, 15, 1, 3, 7, 17, 3, 3, 17, 9, 17, 16, 18, 1, 18, 1, 3, 5, 9, 15, 15, 12, 7, 17, 4, 1, 3, 13, 1, 17, 17, 11, 4, 11, 12, 1, 4, 7, 11, 11, 1, 2, 3, 8, 9, 2, 15, 4, 4, 1, 2, 4, 9, 7, 11, 12, 5, 16, 19, 12, 12, 20, 10, 19, 19, 2, 3, 10, 1, 2, 12, 9, 6, 3, 10, 15, 1, 2, 4, 17, 8, 3, 8, 7, 8, 11, 3, 15, 15, 1, 2, 4, 13, 9, 9, 1, 3, 7, 8, 17, 2, 13, 18, 1, 2, 1, 2, 5, 10, 1, 2, 4, 5, 13, 13, 15, 7, 4, 9, 17, 16, 14, 6, 9, 13, 2, 20, 2, 1, 2, 7, 9, 1, 4, 1, 3, 18, 2, 17, 6, 20, 16, 1, 2, 3, 5, 15, 15, 7, 12, 7, 1, 15, 20, 3, 14, 9, 18, 17, 4, 19, 6, 11, 4, 1, 2, 9, 11, 18, 4, 13, 1, 2, 4, 5, 9, 14, 11, 1, 2, 4, 11, 12, 14, 1, 10, 19, 4, 2, 4, 7, 11, 7, 15, 9, 2, 4, 9, 1, 2, 3, 1, 3, 9, 1, 2, 1, 2, 1, 4, 5, 9, 11, 17, 4], \"Freq\": [0.995762112133926, 0.9992096697144075, 0.9936098527887808, 0.9754105048536348, 0.020852006042001693, 0.9972526397109266, 0.9993827029833742, 0.9898623059256879, 0.3241782765071491, 0.6749104050148838, 0.9966682554061153, 0.9956439238999029, 0.047068311029674494, 0.9525349723632432, 0.2158050609183351, 0.7799270622662636, 0.4652004951059459, 0.5298116749817717, 0.9974339987240944, 0.3033190515384788, 0.2334991066913348, 0.4323533799901627, 0.030579368249508646, 0.9915423389630782, 0.9975644718039534, 0.9976925768038046, 0.9927044490891089, 0.9966973509533551, 0.010620541790821047, 0.9887724407254395, 0.9734607645530298, 0.999064162654241, 0.2884850076188046, 0.47610113145481037, 0.23401581037609323, 0.9882552923285742, 0.9760883193730242, 0.9900918580949226, 0.5885160993323777, 0.20498875370004166, 0.20581532125528376, 0.9985826189929886, 0.9959603332556537, 0.9951235117859621, 0.9898855838008606, 0.009891247186326816, 0.9255256875851078, 0.9911548766392237, 0.9922791221364321, 0.9962104472442331, 0.986198043923521, 0.9978692698192148, 0.9872515734820266, 0.2527893428344147, 0.7465854743880808, 0.3922026784100222, 0.5986251407310865, 0.4012359681892345, 0.016266323034698695, 0.5819728907969978, 0.9975344897840703, 0.9492543620835621, 0.9993803400411617, 0.9968333559903501, 0.9951082519935086, 0.01528582823764594, 0.9630071789716942, 0.01936204910101819, 0.9999708491778753, 0.15012766001208502, 0.8493969776105437, 0.9255140040593689, 0.07373067537579878, 0.9945263142622622, 0.9959480562329105, 0.9976922644888735, 0.9998902267362932, 0.17323697473928712, 0.10449214349353826, 0.721820728080363, 0.9532503794628102, 0.04569650648483929, 0.9980266026862147, 0.9997563265601649, 0.9862083698338584, 0.9987746646299989, 0.9982165745946727, 0.9995423467839867, 0.9955558999382801, 0.9984753157678651, 0.9927523885303574, 0.9949169828972826, 0.38719287312125084, 0.14352839262253264, 0.4639638738263264, 0.995536526443177, 0.9983247290483147, 0.9943175790971075, 0.9809561167130008, 0.9934975817618288, 0.9975788317797826, 0.9953653543096579, 0.9911364189453603, 0.21148103473582897, 0.749112820819803, 0.03665671268754369, 0.0018798314198740353, 0.9937325131960888, 0.961042329257742, 0.9815838604112261, 0.3355777326631391, 0.4295943980513805, 0.2346985369545881, 0.9961760976901285, 0.46015712899818034, 0.536183089441358, 0.9799849817819665, 0.9972164836156323, 0.9904123309747684, 0.9675687986982594, 0.03157706054865009, 0.9982492238550325, 0.9930804277480894, 0.054467011834388235, 0.12730843729965444, 0.37470679225826126, 0.28710021298246813, 0.15585440133333983, 0.9900303680434044, 0.5839574347388372, 0.4055098238241277, 0.01047979444197315, 0.9952346429320572, 0.9995998990650115, 0.999038033845531, 0.07152449595267774, 0.5253799339069419, 0.05201781523831108, 0.3108064460489087, 0.03771291604777553, 0.14708335706986345, 0.541757031873997, 0.25634527946461916, 0.054280762728163894, 0.9961044114311866, 0.9810699218759396, 0.9980347840083501, 0.9947077884330392, 0.9991797857106401, 0.997863079465838, 0.9892293333801077, 0.6666083989343159, 0.3329595208741205, 0.9994675727535585, 0.8496029238337995, 0.14757370885450613, 0.9985233161145728, 0.903556634877072, 0.09511122472390232, 0.654944848897792, 0.3437719568875289, 0.9839218642726123, 0.9962608648777197, 0.999435975679435, 0.9990225411948563, 0.9981617730026041, 0.9961884234862157, 0.9946367328767357, 0.07324938661548093, 0.7253475845337868, 0.08039566823650346, 0.11970021715212738, 0.025730640629719644, 0.8579837754806516, 0.1144569876287529, 0.9946040661974761, 0.9982753433359635, 0.03568477980696998, 0.20762053705873443, 0.756301060514994, 0.9982052264814328, 0.9981282159493626, 0.9860294429023542, 0.9993346315982354, 0.9977130715778966, 0.9974424589413189, 0.9922416817109747, 0.9979618970776599, 0.9976941019782899, 0.9979334525332967, 0.9837187549161199, 0.9983299100343409, 0.9984349146505694, 0.9840900197616103, 0.7912000134790594, 0.12579918414723287, 0.08272004230903254, 0.9773016131277407, 0.34223229792309434, 0.13386637503794505, 0.522660890365542, 0.9969461870899549, 0.9655960748832403, 0.998185815854375, 0.6733061080115014, 0.32538228218314186, 0.9926178182035971, 0.7274422389269173, 0.2699962919894232, 0.8465863875059979, 0.15044758091221047, 0.991627809592136, 0.9896578500678108, 0.9985314318603135, 0.9658417886917404, 0.9916828276362645, 0.9952018260000637, 0.9903183530202423, 0.9995304675141297, 0.9838415973701373, 0.9968511210770463, 0.9881488983203032, 0.9956837220178959, 0.9530673373084835, 0.04594101976508904, 0.0020583395432424694, 0.9167844325601959, 0.0806869100951048, 0.41991092038706873, 0.5264689603992712, 0.05237598576870965, 0.9919473658729945, 0.24375024479272359, 0.6169928071315816, 0.1333009151210207, 0.9875530851319955, 0.6798552605338712, 0.3165166364468987, 0.995213819904931, 0.9935940186710236, 0.9356817678130739, 0.06259277692060014, 0.9947915430731846, 0.9907093122765884, 0.9981234978311941, 0.9939397620608458, 0.9715852711225909, 0.9962911263604403, 0.9962604072563426, 0.9987049802083058, 0.9939357184497772, 0.9782940526508618, 0.9981287771600507, 0.9868897659456786, 0.9978400279858389, 0.983745550924854, 0.9897337297018651, 0.9982139590177935, 0.9955233180709007, 0.998394498363798, 0.9985890445091471, 0.9890037182940774, 0.9984297842973566, 0.284351222369083, 0.7138607610524531, 0.9962155617137285, 0.9676477735791241, 0.06454538255993747, 0.9294535088630995, 0.999629332340415, 0.9990109505051366, 0.9980923207009188, 0.9851817138207766, 0.9849880140380841, 0.9951787163508835, 0.9852776422480746, 0.5821700343375871, 0.4162375124732507, 0.9766379713223458, 0.9961218542581143, 0.9924761267374358, 0.6407931645985717, 0.2947385397742917, 0.06447405557562631, 0.9966987332600387, 0.9935362217027823, 0.9987037437360743, 0.9908090310112344, 0.9987576746760206, 0.33964001904664654, 0.5089922048522747, 0.1478322947916533, 0.003274766023865738, 0.9943679646606269, 0.9975231166984816, 0.9906224963864488, 0.9987541973055949, 0.9959138728825128, 0.028667488027931967, 0.955582934264399, 0.9926058908462322, 0.09207557180559835, 0.9065902454705068, 0.9927064113006545, 0.9965484384810394, 0.9950649805050512, 0.9940836113034169, 0.3564720775833017, 0.4120093940183813, 0.23093191113005196, 0.9896145771492075, 0.008881156461595452, 0.9994259254917721, 0.992623239910766, 0.9984091638239019, 0.9969061820342159, 0.9990058080123861, 0.9853859425723224, 0.8373346383806315, 0.1601277396106387, 0.9936321398518884, 0.9985092413349325, 0.9900893874232348, 0.9939642031240097, 0.9823816499295682, 0.9849636138885856, 0.9987133127111766, 0.631601285262807, 0.36614567261612, 0.9996060350748482, 0.9948202275247684, 0.9941955270169017, 0.9962602376960101, 0.9990074844124556, 0.9946650022394516, 0.9975022165025199, 0.981990485319068, 0.9942936411468769, 0.9978846982472317, 0.9965430513928291, 0.9915099829239205, 0.9986406643876868, 0.9980484628458726, 0.99953779109486, 0.9974270232887978, 0.04417781488726823, 0.015592169960212317, 0.43917945387931356, 0.49894943872679415, 0.9871467977489519, 0.08479030612722858, 0.20528179378171132, 0.7065858843935715, 0.9967751775574358, 0.3095366073674696, 0.2493566729017869, 0.3872690227189763, 0.0534932750806068, 0.9867441364307782, 0.9888589221334086, 0.9939243625108395, 0.991827589510278, 0.4937345460494499, 0.4982642207838485, 0.3297512359546129, 0.2687360412745757, 0.2795034285710528, 0.12158174822272122, 0.9982378142176428, 0.42093904089038764, 0.10845623247430906, 0.4692611246660699, 0.9982398640434461, 0.998503799985193, 0.9971470314897543, 0.987732986832134, 0.9986984174453885, 0.9950825177852104, 0.9956126172078625, 0.7483244003151356, 0.2477560514556868, 0.9979696114018126, 0.9980663024510099, 0.9995122857923006, 0.9934485110768283, 0.9882872167052907, 0.9947789431035993, 0.9943641377965896, 0.9908741617649179, 0.9424505659991274, 0.02372540215228962, 0.033573682290975876, 0.99616514013643, 0.4563065185896644, 0.2200094032519085, 0.1418283852398408, 0.18167063480368298, 0.19335050726876146, 0.8065210133298198, 0.9984561471528626, 0.9989038436639227, 0.9119829210500747, 0.06511820497425894, 0.02279957302625187, 0.7595183860457567, 0.23961291996087558, 0.12105260826261324, 0.8755585912693122, 0.9983214495723437, 0.975691198641346, 0.982544722215961, 0.23660908469107025, 0.24079685610153168, 0.046065485515075624, 0.47531205508737123, 0.61109009209624, 0.31238861097936904, 0.07246127574263715, 0.0036230637871318572, 0.9984223578850892, 0.9994221842926183, 0.9975715755545042, 0.9819284694701008, 0.9900925267821729, 0.9853323308574208, 0.04338057512122382, 0.08453650536443616, 0.8715046309609964, 0.9986981769565072, 0.9996228821928492, 0.9051312609310618, 0.09363426837217881, 0.9961887123735317, 0.9949271870383397, 0.9895053832669933, 0.9971969863750123, 0.9930653673602797, 0.9928698561972349, 0.1564169826374701, 0.6790483293864773, 0.16262400575800462, 0.7085896428948723, 0.2886246142683919, 0.9905917501616437, 0.9960613577502836, 0.9986620365630319, 0.9925504417394463, 0.9790933944835323, 0.020646063350158488, 0.9957166854553752, 0.09464671706546259, 0.6856957470732211, 0.21887053321388225, 0.9979939816441741, 0.9939321438028653, 0.9988129477672876, 0.9983606989845865, 0.9989196588095552, 0.9894546853724031, 0.9968379676106737, 0.9955514582469339, 0.03730200616240762, 0.9445553974228045, 0.017579106352398993, 0.25516931138145643, 0.44237296505850626, 0.09896753665729385, 0.20270459315349343, 0.9979103471399599, 0.9956257666280287, 0.9848761157216708, 0.9939325106244821, 0.9990187304668137, 0.9684167121355799, 0.031000439423355876, 0.9917701282598547, 0.9987638868776574, 0.9962759702513644, 0.9988013300279158, 0.9942652144350744, 0.9805352306110313, 0.9889125103100053, 0.9968123154509732, 0.5551381765158445, 0.15095862694729104, 0.16178003389691764, 0.13148009443796316, 0.9971907364740443, 0.9821993473230284, 0.47739600158893253, 0.08671264699519532, 0.2939654021760193, 0.023822155767910802, 0.11720500637812116, 0.9993938987795079, 0.997364328810625, 0.006897295209815637, 0.15105076509496246, 0.8414700155975078, 0.8156258164671486, 0.18144140242735665, 0.002827338926713552, 0.9978669966971648, 0.9971082093752455, 0.9884879506102014, 0.2513321320215617, 0.616198633335195, 0.03937078935128289, 0.09293337486407473, 0.997002692523085, 0.5448802496372148, 0.45444605371621566, 0.12727879529830574, 0.6751676492314099, 0.1635237502508034, 0.03287333123598625, 0.980924081045865, 0.9750150754222783, 0.024148980196217418, 0.99484705522539, 0.9968470446668345, 0.9952928638365102, 0.9971639026775158, 0.9780635256024255, 0.9970041553584574, 0.997204926767466, 0.9991292351513364, 0.9895813468920063, 0.9978893870306392, 0.997780031723436, 0.949288126640137, 0.050371231853715094, 0.0002748771178920333, 0.9913005808532516, 0.9991946750286114, 0.9974073356879202, 0.9636520542253477, 0.03609183723690441, 0.9373916810204792, 0.05125964254632832, 0.011165466693259633, 0.9985899423950384, 0.9992150060830266, 0.9830313479658547, 0.9892214664160606, 0.9864792065367313, 0.9985829795006183, 0.9993437548463666, 0.996843006048823, 0.66982307520781, 0.30979317228361214, 0.013267649374308545, 0.0007728727790859347, 0.006311794362535134, 0.9946872412783195, 0.6816461075473766, 0.20145210493719104, 0.11668265483985818, 0.4818388786529442, 0.5133610482844453, 0.6457382082655791, 0.3522208408721341, 0.20510416421550892, 0.6721518165859881, 0.11421486791608733, 0.0067027504645591155, 0.0018767701300765522, 0.9936296139464843, 0.996241219941288, 0.9953234821701423, 0.9892637540079354, 0.986274463695038, 0.684283191664935, 0.3136297961797619, 0.9982307968302933, 0.9941243351624819, 0.3165794720020702, 0.4584749139172838, 0.19432891696555646, 0.03052730622877105, 0.9848611015681533, 0.01421155990718836, 0.9990689466190993, 0.12835595152819632, 0.8712757855882438, 0.9931549896943839, 0.9926326121258424, 0.9958180558893145, 0.9223648264666428, 0.07581080765479256, 0.998290108621272, 0.990206113022673, 0.8427586481392321, 0.15655128285822628, 0.00805342601050985, 0.9905713992927117, 0.47515407570222584, 0.5204068448167235, 0.06418211208211798, 0.9335579939217161, 0.9940336380028615, 0.9927411506791931, 0.9957801971989497, 0.9968267807587669, 0.9937413680871996, 0.9992204385886004, 0.05067582640247572, 0.9483618941034743, 0.9964312533507612, 0.9927882265166987, 0.9869481506332366, 0.9988602678413093, 0.9988427935474952, 0.9957217590626958, 0.9977115072166555, 0.9962684543810109, 0.9913898417266062, 0.9952637658253631, 0.9970575281128607, 0.9855880775295449, 0.9133895939584689, 0.08605209844559467, 0.99742686281084, 0.7399965372144034, 0.22509746883246015, 0.03463037982037848, 0.005037410176587408, 0.1299651825559551, 0.14205496697976489, 0.6946588633514035, 0.027202014953572, 0.8866455401811979, 0.10787082239593208, 0.9969159476762827, 0.5321738123146339, 0.002289904528031987, 0.4653086000960998, 0.9858278483767285, 0.9650871609284518, 0.23735578893546533, 0.5571948775495978, 0.2050546366137495, 0.9934062300560946, 0.05183644452429944, 0.9449221754851211, 0.0024981419047855153, 0.9986389974325558, 0.9953870910369869, 0.999743668871087, 0.9967435723762087, 0.9903084588565616, 0.9932737487451964, 0.9907558731487697, 0.09021632807471429, 0.10542132718843017, 0.7173380692981963, 0.04865599716389085, 0.03784355334969288, 0.9967358912369068, 0.4371610282567899, 0.5611320661206557, 0.9941920537359346, 0.9950637453288605, 0.9973299650355252, 0.9933060934341164, 0.9932700515534453, 0.9967471968058421, 0.9920924042877393, 0.9521000432298625, 0.9840107853117458, 0.9981749908415251, 0.9967550327414681, 0.986716338835488, 0.10485677126525388, 0.340661435284299, 0.5543132603036426, 0.9998228273927116, 0.9917235719073455, 0.9961650808377817, 0.988780050296769, 0.9936907189616603, 0.9955064287413454, 0.9973458242738971, 0.9832765320340826, 0.9881718580900604, 0.982294190823563, 0.04345822893309501, 0.010970038371460877, 0.053162493646310406, 0.8868854098773371, 0.005485019185730439, 0.995144491099086, 0.9959130427472115, 0.9945937504931808, 0.9981081441347249, 0.9990907647333469, 0.9984031454474687, 0.9967173418934838, 0.9907380982150301, 0.024598732506691586, 0.9000648585173162, 0.07517814878449564, 0.0508901910704194, 0.939155344299558, 0.9931414308727459, 0.6101555839407116, 0.3874371958863074, 0.9871715515414193, 0.9784159041229423, 0.9552957461041958, 0.04431112601301863, 0.9841045090763337, 0.9909059149836799, 0.5922854624531895, 0.40591297026791917, 0.9977521813721667, 0.9925369095966339, 0.9881447205295593, 0.9940581645970713, 0.9919148741332887, 0.9986545967350247, 0.9991150567113557, 0.23009403862266584, 0.6412221649895987, 0.005164205355620929, 0.0651263675403306, 0.058240760399502704, 0.9984945100547656, 0.5844886847396746, 0.41297849153421023, 0.9953890668982172, 0.9864368216617445, 0.9966595136021315, 0.9957945128849774, 0.01589402781033395, 0.06213119962221453, 0.9204087013802478, 0.015313610784329815, 0.0038284026960824537, 0.9781568888490669, 0.7878999270479472, 0.2102696469390953, 0.0012224979473203215, 0.9876948643067, 0.9640677864551428, 0.1747825168583527, 0.8242969020868117, 0.9071985886577367, 0.09054901167393606, 0.9983877300975459, 0.9760453942649134, 0.998580862727562, 0.9960086779674557, 0.9979153993017725, 0.9916928746721906, 0.9949792242632686, 0.9924233641786881, 0.999465212260144, 0.9903073895242145, 0.7296925212307277, 0.20126769222444993, 0.06864342141503119, 0.9954687222971872, 0.2173924186054813, 0.7815775049863734, 0.9870879904736612, 0.9851238954354963, 0.014428764488253332, 0.9907567907068823, 0.08225117091197241, 0.5848972153740261, 0.32900468364788965, 0.9947990241127311, 0.996393290183827, 0.9407946960755587, 0.05687811071045044, 0.99537478040168, 0.9986959162477574, 0.9680783442577332, 0.9993473029852179, 0.9980446681843269, 0.9815402507828578, 0.9848745671873295, 0.9988516419796343, 0.16652024798952095, 0.6317600248152054, 0.20147678859800816, 0.9904335363496017, 0.9863783259515222, 0.9956416332990028, 0.9930579284357449, 0.9972882072603454, 0.9410725107039811, 0.058731666125212176, 0.0003047584284738761, 0.9993028869658397, 0.5292536612136767, 0.46992029112245737, 0.998003099954413, 0.3928900451918332, 0.605437118820202, 0.9951480006653469, 0.9889000168019996, 0.39168170168557614, 0.6061219629436011, 0.9984027007690278, 0.9973773142935853, 0.9771529405507211, 0.9484657578299952, 0.04835315628152917, 0.9920158303225717, 0.9891600884192477, 0.9600483460614174, 0.02358754645622111, 0.01584238194820821, 0.3805552085711266, 0.4604070576285842, 0.0697804446718323, 0.08776509536044887, 0.9809535933329206, 0.3119638520369173, 0.46150024392238176, 0.0025782136531976637, 0.2230154810015979, 0.9960755745364102, 0.9973106796647955, 0.9930782860287551, 0.9926544322624691, 0.12767963147848982, 0.21620417597024275, 0.26302004084568903, 0.2945143499437165, 0.09788771746684219, 0.9794714746527395, 0.9848837597341826, 0.996764878729458, 0.9758886427090823, 0.21624857981322773, 0.29059366930679104, 0.2859663815789759, 0.20699400435759743, 0.5573831163018748, 0.21128240870648682, 0.22738011603650485, 0.9937336051175919, 0.9937516315119926, 0.9957126674053226, 0.9959695682448398, 0.9909800044067089, 0.934084228892976, 0.06536694908074579, 0.1456226101863249, 0.5273899936477713, 0.05438485687548252, 0.13345757641154593, 0.1388245030768896, 0.9923299344060388, 0.7077299519593573, 0.013662740385315779, 0.2782230769373395, 0.9986738900886662, 0.9957070072550266, 0.006213744286177003, 0.5616268874044599, 0.4319747229717282, 0.9922756445634067, 0.9979232127339432, 0.9941189070722528, 0.9982839044177727, 0.9950742139876658, 0.9973175147348284, 0.9986105756890453, 0.994793465681681, 0.9985089351780488, 0.9970984243425043, 0.9497357620040723, 0.04914716530650444, 0.9977829975333318, 0.9984055225969455, 0.40430989753223273, 0.28213309609193093, 0.31332717305541224, 0.8938717847533432, 0.10518964044115107, 0.9992035789220647, 0.9966750425878346, 0.9982973834049177, 0.9978141767490897, 0.9961152337140566, 0.13711803709639062, 0.11218748489704687, 0.34952634183479936, 0.059833325278425, 0.3405513430430356, 0.9884560915056362, 0.9984233653593602, 0.9971653908221163, 0.6531560056290725, 0.14877442350439984, 0.19594680168872175, 0.9832742396786148, 0.9949862573823282, 0.991576579572162, 0.9984054680380183, 0.06987065475352051, 0.9282815560110583, 0.9706785233387686, 0.9979548647020822, 0.9954735510429882, 0.9513877691511355, 0.015274574275362269, 0.030549148550724537, 0.21973655701617625, 0.30874376998475395, 0.47006934349030105, 0.9876713725036149, 0.9977799714367115, 0.9988587485098807, 0.9898373058444018, 0.9986293185150205, 0.9930873082592352, 0.9940491742236006, 0.9966308598214448, 0.9986763190201292, 0.993475996098156, 0.9990358760675341, 0.7845280274716108, 0.19365301495953516, 0.020998519694407428, 0.999201684002846, 0.9825513913289422, 0.9895647319821858, 0.9962770040291843, 0.9914909702831916, 0.9958189207687446, 0.18872582721414569, 0.6114275337815013, 0.19865876548857442, 0.9985545932511797, 0.9944835146788559, 0.9861576130899526, 0.9866187178600603, 0.9984574678128391, 0.7753855767866038, 0.22105290566284758, 0.09411653818552264, 0.8689472461188105, 0.0368079530527539, 0.9885287650427039, 0.99505283867609, 0.09770674623519178, 0.5450789119758996, 0.005820827435288021, 0.2976937459761588, 0.053218993694061904, 0.9978707414563815, 0.9925467162495129, 0.996152066640501, 0.9971302273935028, 0.008686140692021418, 0.0023689474614603865, 0.9507375811994352, 0.037903159383366185, 0.9953703871886205, 0.9858739200198328, 0.9941939246702856, 0.0042066607249572965, 0.9941741513315744, 0.9832580036138755, 0.9957255039313552, 0.986121004661897, 0.9817397617677726, 0.9987011375133054, 0.994567902377766, 0.9813223041278685, 0.21058897733067486, 0.7309021330195568, 0.0574866846195157, 0.9292717440906881, 0.070217568420052, 0.9951046704698353, 0.9933336764235373, 0.9917010732281163, 0.9997550373551658, 0.9957917812384665, 0.9722199010380463, 0.3790421060530915, 0.16542845284683844, 0.45520580984700504, 0.9944426540323023, 0.9965884260857321, 0.9977262457588508, 0.99417888508174, 0.9954651912069906, 0.9945423499185327, 0.9991986427538757, 0.9664975231067261, 0.032980010267148946, 0.9881477951665384, 0.3265487261933199, 0.2526071778910424, 0.4201657079494224, 0.991478838867628, 0.9939453096315674, 0.9968293971231537, 0.5334077268909914, 0.46619103267266304, 0.26511359410731106, 0.08645008503499274, 0.6454939682612791, 0.996907194866716, 0.9918241773928579, 0.956325557812141, 0.652422710943812, 0.3472683847669179, 0.6495137440720409, 0.3503073912030848, 0.9982114072803886, 0.9985429059466432, 0.578584543004872, 0.009160512979438177, 0.2558400410685948, 0.15621946241720464, 0.9847852367217691, 0.981868170004536, 0.9867539729154775, 0.9947565368299491, 0.9985529324166563, 0.9923991547735539, 0.9916284729158503, 0.9972813934135489, 0.9971092907340686, 0.9968479939853141, 0.9940842911489736, 0.9914936704060846, 0.9989581149452536, 0.9945050096653302, 0.9983665282098292, 0.8018729348256817, 0.15421596248911018, 0.043561002391404494, 0.9974477979397276, 0.32207069839471825, 0.6770713185704426, 0.03084104727865878, 0.9686892577069643, 0.9922564558637417, 0.9990840253959166, 0.9835089334231649, 0.9955656054479268, 0.9134885616420321, 0.979195689977773, 0.1051414992847697, 0.04661776204332691, 0.8471688267729769, 0.0008384489576137934, 0.9941945466270575, 0.9691593239617159, 0.19101978925094595, 0.8083552670950628, 0.9947463914454708, 0.7129635088392849, 0.2827787756577754, 0.9343499124637731, 0.9991071972426843, 0.9969615244935898, 0.9983167709091, 0.9908651827002412, 0.9859266000190147, 0.996180224490845, 0.9628240385751995, 0.9953714387940812, 0.9953378082946274, 0.9981204211056475, 0.9592067154672762, 0.040495389054753944, 0.9986433981546501, 0.990954438536226, 0.9853007460188434, 0.9977032357885741, 0.991229838303812, 0.6021063953416897, 0.3531466609751711, 0.01930304103438216, 0.0054444474712359945, 0.019550515919438342, 0.9972118905214278, 0.9971522352351023, 0.8144815238749754, 0.12066392946295933, 0.0480501004825713, 0.016806761603769337, 0.9900666058431514, 0.9972556494927579, 0.9955813724804303, 0.0038738574804686003, 0.9896878840034941, 0.9956287881178587, 0.03116109425266841, 0.9342763794683975, 0.033943334810942374, 0.9987856483634417, 0.9992962666132903, 0.9972659882661774, 0.9960675621690792, 0.3706760578664585, 0.3179316385653024, 0.3091409020151097, 0.9989173427625206, 0.9561522595201515, 0.04237580521644507, 0.6699196507870212, 0.31965047843063055, 0.010206231308586708, 0.7718756801110772, 0.22799287817463884, 0.9811434429144832, 0.01876151044359196, 0.3170486712534785, 0.31137539840241835, 0.1241573943174324, 0.018110832562999803, 0.22911294206204572, 0.9826801664227782, 0.9976057244974831], \"Term\": [\"abuse\", \"accept\", \"acquire\", \"activity\", \"activity\", \"addition\", \"address\", \"administration\", \"age\", \"age\", \"agency\", \"agent\", \"agree\", \"agree\", \"aim\", \"aim\", \"air\", \"air\", \"algorithm\", \"also\", \"also\", \"also\", \"also\", \"ammunition\", \"amount\", \"amp\", \"anti\", \"apparently\", \"appear\", \"appear\", \"appearance\", \"application\", \"approach\", \"approach\", \"approach\", \"approve\", \"approximately\", \"arab\", \"area\", \"area\", \"area\", \"argument\", \"arm\", \"armenian\", \"article\", \"article\", \"assembler\", \"assign\", \"assist\", \"assumption\", \"assure\", \"atheist\", \"atmosphere\", \"attack\", \"attack\", \"attention\", \"attention\", \"author\", \"author\", \"author\", \"authority\", \"autumn\", \"available\", \"average\", \"aware\", \"away\", \"away\", \"away\", \"ax\", \"back\", \"back\", \"bad\", \"bad\", \"ban\", \"baseball\", \"basis\", \"be\", \"become\", \"become\", \"become\", \"begin\", \"begin\", \"belief\", \"believe\", \"belt\", \"big\", \"bike\", \"bit\", \"bite\", \"black\", \"blank\", \"blind\", \"blood\", \"blood\", \"blood\", \"blue\", \"body\", \"bomb\", \"boost\", \"boot\", \"box\", \"boy\", \"brave\", \"bring\", \"bring\", \"bring\", \"bring\", \"british\", \"brown\", \"buffer\", \"build\", \"build\", \"build\", \"building\", \"burn\", \"burn\", \"bury\", \"bus\", \"button\", \"buy\", \"buy\", \"ca\", \"california_institute\", \"call\", \"call\", \"call\", \"call\", \"call\", \"camp\", \"can\", \"can\", \"can\", \"capture\", \"car\", \"card\", \"carry\", \"carry\", \"carry\", \"carry\", \"carry\", \"case\", \"case\", \"case\", \"case\", \"catch\", \"ceremonial\", \"certainly\", \"channel\", \"character\", \"cheap\", \"chemical\", \"child\", \"child\", \"chip\", \"choice\", \"choice\", \"church\", \"citizen\", \"citizen\", \"city\", \"city\", \"civil\", \"civilian\", \"claim\", \"clear\", \"clearly\", \"click\", \"clipper\", \"close\", \"close\", \"close\", \"close\", \"code\", \"code\", \"code\", \"cold\", \"color\", \"come\", \"come\", \"come\", \"community\", \"compare\", \"compress\", \"computer\", \"concept\", \"conclusion\", \"constitution\", \"contain\", \"controller\", \"convert\", \"converter\", \"convince\", \"copy\", \"correction\", \"could\", \"could\", \"could\", \"counter\", \"country\", \"country\", \"country\", \"court\", \"cow\", \"cpu\", \"create\", \"create\", \"creation\", \"crime\", \"crime\", \"criminal\", \"criminal\", \"crypto\", \"cryptography\", \"currently\", \"curve\", \"customer\", \"cycle\", \"cylinder\", \"d\", \"danger\", \"dangerous\", \"dark\", \"data\", \"datum\", \"datum\", \"day\", \"day\", \"day\", \"death\", \"death\", \"death\", \"default\", \"defense\", \"defense\", \"defense\", \"deficit\", \"define\", \"define\", \"definitely\", \"degree\", \"deny\", \"deny\", \"depth\", \"derive\", \"describe\", \"description\", \"desert\", \"deserve\", \"determine\", \"device\", \"devil\", \"diameter\", \"die\", \"diet\", \"direct\", \"disable\", \"disarm\", \"discussion\", \"disease\", \"disk\", \"display\", \"distant\", \"distribution_usa\", \"division\", \"division\", \"doctor\", \"domain\", \"door\", \"door\", \"drive\", \"driver\", \"drug\", \"dry\", \"dumb\", \"duo\", \"dynamic\", \"earth\", \"earth\", \"ease\", \"eat\", \"economic\", \"effect\", \"effect\", \"effect\", \"electrical\", \"electronic\", \"email\", \"enable\", \"encryption\", \"end\", \"end\", \"end\", \"end\", \"energy\", \"engine\", \"enhancement\", \"entry\", \"environment\", \"environmental\", \"environmental\", \"era\", \"error\", \"error\", \"escape\", \"establish\", \"ethnic\", \"european\", \"even\", \"even\", \"even\", \"event\", \"event\", \"evidence\", \"evolution\", \"exactly\", \"excuse\", \"exist\", \"expense\", \"expensive\", \"expensive\", \"experiment\", \"explain\", \"explanation\", \"export\", \"expose\", \"exposure\", \"face\", \"facility\", \"facility\", \"fact\", \"factory\", \"failure\", \"fairly\", \"faith\", \"family\", \"fan\", \"fanatic\", \"fancy\", \"feature\", \"federal\", \"fee\", \"field\", \"figure\", \"file\", \"fill\", \"final\", \"final\", \"final\", \"final\", \"finger\", \"fire\", \"fire\", \"fire\", \"firearm\", \"first\", \"first\", \"first\", \"first\", \"fitting\", \"flexible\", \"flight\", \"floor\", \"fly\", \"fly\", \"follow\", \"follow\", \"follow\", \"follow\", \"font\", \"force\", \"force\", \"force\", \"forget\", \"form\", \"format\", \"forum\", \"friend\", \"front\", \"ftp\", \"fuel\", \"fuel\", \"function\", \"future\", \"game\", \"gas\", \"gear\", \"generate\", \"genocide\", \"german\", \"get\", \"get\", \"get\", \"gift\", \"give\", \"give\", \"give\", \"give\", \"go\", \"go\", \"goal\", \"god\", \"good\", \"good\", \"good\", \"government\", \"government\", \"grant\", \"grant\", \"graphic\", \"greatly\", \"green\", \"ground\", \"ground\", \"ground\", \"ground\", \"group\", \"group\", \"group\", \"group\", \"guess\", \"gun\", \"guy\", \"hair\", \"handgun\", \"handy\", \"happen\", \"happen\", \"happen\", \"hardware\", \"have\", \"head\", \"head\", \"headache\", \"health\", \"heat\", \"hell\", \"helmet\", \"highly\", \"history\", \"history\", \"history\", \"hit\", \"hit\", \"hitter\", \"hole\", \"home\", \"homosexual\", \"host\", \"host\", \"hot\", \"however\", \"however\", \"however\", \"human\", \"ice\", \"ide\", \"ill\", \"image\", \"immediate\", \"impact\", \"imply\", \"include\", \"include\", \"include\", \"increase\", \"increase\", \"increase\", \"increase\", \"indeed\", \"independent\", \"indication\", \"industry\", \"info\", \"information\", \"information\", \"inhabitant\", \"input\", \"insist\", \"instal\", \"installation\", \"invalid\", \"investment\", \"israeli\", \"issue\", \"issue\", \"issue\", \"issue\", \"job\", \"junk\", \"keep\", \"keep\", \"keep\", \"keep\", \"keep\", \"key\", \"kid\", \"kill\", \"kill\", \"kill\", \"know\", \"know\", \"know\", \"land\", \"language\", \"largely\", \"last\", \"last\", \"last\", \"last\", \"launch\", \"law\", \"law\", \"lead\", \"lead\", \"lead\", \"lead\", \"leadership\", \"leave\", \"leave\", \"left\", \"legal\", \"legitimate\", \"letter\", \"liberty\", \"library\", \"license\", \"life\", \"lift\", \"light\", \"like\", \"line\", \"line\", \"line\", \"link\", \"list\", \"listen\", \"little\", \"little\", \"look\", \"look\", \"look\", \"lose\", \"lot\", \"luck\", \"lucky\", \"lunar\", \"machine\", \"mail\", \"maintain\", \"make\", \"make\", \"make\", \"make\", \"make\", \"male\", \"man\", \"man\", \"man\", \"manage\", \"manage\", \"manual\", \"manual\", \"many\", \"many\", \"many\", \"many\", \"many\", \"map\", \"mark\", \"market\", \"massacre\", \"massive\", \"master\", \"master\", \"matter\", \"maximum\", \"may\", \"may\", \"may\", \"may\", \"maybe\", \"maybe\", \"mb\", \"mean\", \"mean\", \"medical\", \"medicine\", \"meeting\", \"member\", \"member\", \"memory\", \"mercy\", \"message\", \"message\", \"method\", \"method\", \"mile\", \"mile\", \"military\", \"military\", \"militia\", \"mine\", \"minor\", \"mirror\", \"mission\", \"mode\", \"model\", \"model\", \"modern\", \"modify\", \"module\", \"money\", \"monitor\", \"moon\", \"mother\", \"motif\", \"motor\", \"motto\", \"mouse\", \"ms_window\", \"much\", \"much\", \"murder\", \"must\", \"must\", \"must\", \"name\", \"name\", \"name\", \"name\", \"name\", \"national\", \"national\", \"nature\", \"need\", \"need\", \"need\", \"neighbor\", \"neighbour\", \"new\", \"new\", \"new\", \"newspaper\", \"next\", \"next\", \"next\", \"nice\", \"night\", \"nntp_poste\", \"normal\", \"novel\", \"nsa\", \"nuclear\", \"number\", \"number\", \"number\", \"number\", \"number\", \"object\", \"objective\", \"objective\", \"observation\", \"obtain\", \"occupy\", \"offense\", \"officer\", \"official\", \"oil\", \"openwindow\", \"operator\", \"option\", \"orbit\", \"orbital\", \"order\", \"order\", \"order\", \"organization\", \"origin\", \"output\", \"own\", \"ozone\", \"pack\", \"page\", \"paint\", \"panel\", \"parameter\", \"part\", \"part\", \"part\", \"part\", \"part\", \"particularly\", \"party\", \"past\", \"patient\", \"pay\", \"pc\", \"pen\", \"penalty\", \"people\", \"people\", \"people\", \"percent\", \"percent\", \"percentage\", \"period\", \"period\", \"peripheral\", \"permanent\", \"person\", \"person\", \"phase\", \"physician\", \"pick\", \"pick\", \"pin\", \"pitch\", \"plain\", \"plane\", \"planetary\", \"play\", \"player\", \"point\", \"point\", \"point\", \"point\", \"point\", \"police\", \"policy\", \"policy\", \"poor\", \"pop\", \"popular\", \"population\", \"position\", \"position\", \"position\", \"posting\", \"posting\", \"posting\", \"power\", \"power\", \"power\", \"preach\", \"precise\", \"present\", \"present\", \"press\", \"press\", \"pretty\", \"prevention\", \"printer\", \"privacy\", \"private\", \"prize\", \"pro\", \"probability\", \"probably\", \"probe\", \"problem\", \"problem\", \"problem\", \"processor\", \"produce\", \"produce\", \"production\", \"program\", \"program\", \"prohibit\", \"project\", \"project\", \"project\", \"proposal\", \"propose\", \"protect\", \"protect\", \"protection\", \"prove\", \"pseudo\", \"public\", \"publish\", \"publisher\", \"punishment\", \"purpose\", \"question\", \"question\", \"question\", \"radiation\", \"radius\", \"rational\", \"reading\", \"reality\", \"really\", \"really\", \"reason\", \"reason\", \"receive\", \"receive\", \"refer\", \"reference\", \"reference\", \"reflect\", \"regularly\", \"relate\", \"relate\", \"religion\", \"religious\", \"reload\", \"remain\", \"remain\", \"remind\", \"remote\", \"reply\", \"reply\", \"reply\", \"report\", \"report\", \"report\", \"report\", \"reproduce\", \"research\", \"research\", \"research\", \"research\", \"resource\", \"respect\", \"restrict\", \"restriction\", \"result\", \"result\", \"result\", \"result\", \"result\", \"retire\", \"retract\", \"revelation\", \"rifle\", \"right\", \"right\", \"right\", \"right\", \"road\", \"road\", \"road\", \"rock\", \"rocket\", \"room\", \"route\", \"routine\", \"rule\", \"rule\", \"run\", \"run\", \"run\", \"run\", \"run\", \"running\", \"s\", \"s\", \"s\", \"sale\", \"satellite\", \"say\", \"say\", \"say\", \"scale\", \"scan\", \"schedule\", \"science\", \"scientific\", \"score\", \"screen\", \"scripture\", \"season\", \"secret\", \"section\", \"section\", \"secure\", \"security\", \"see\", \"see\", \"see\", \"send\", \"send\", \"sense\", \"separate\", \"serious\", \"server\", \"session\", \"set\", \"set\", \"set\", \"set\", \"set\", \"severe\", \"shall\", \"shell\", \"shoot\", \"shoot\", \"shoot\", \"shotgun\", \"should\", \"shuttle\", \"side\", \"significant\", \"significant\", \"silent\", \"simply\", \"sit\", \"site\", \"site\", \"site\", \"size\", \"size\", \"size\", \"sky\", \"slow\", \"software\", \"solar\", \"soldier\", \"solid\", \"somehow\", \"son\", \"soon\", \"soul\", \"sound\", \"source\", \"source\", \"source\", \"space\", \"space_station\", \"spacecraft\", \"specifically\", \"specification\", \"specify\", \"speed\", \"speed\", \"speed\", \"spend\", \"spring\", \"stable\", \"staff\", \"stand\", \"star\", \"star\", \"start\", \"start\", \"start\", \"starter\", \"stat\", \"state\", \"state\", \"state\", \"state\", \"state\", \"statement\", \"status\", \"stay\", \"steal\", \"stop\", \"stop\", \"stop\", \"stop\", \"stream\", \"strength\", \"student\", \"study\", \"study\", \"stuff_delete\", \"stupid\", \"suck\", \"sue\", \"suggest\", \"sun\", \"superior\", \"support\", \"support\", \"support\", \"sure\", \"sure\", \"surface\", \"survive\", \"sustain\", \"system\", \"table\", \"tail\", \"take\", \"take\", \"take\", \"tank\", \"tap\", \"tape\", \"target\", \"task\", \"tax\", \"team\", \"technology\", \"technology\", \"telescope\", \"tell\", \"tell\", \"tell\", \"terminal\", \"territory\", \"terrorism\", \"thank\", \"thank\", \"there\", \"there\", \"there\", \"therefore\", \"thermal\", \"thick\", \"thing\", \"thing\", \"think\", \"think\", \"thought\", \"thus\", \"time\", \"time\", \"time\", \"time\", \"timing\", \"tire\", \"tour\", \"trace\", \"trade\", \"train\", \"trap\", \"treatment\", \"trial\", \"trivial\", \"troop\", \"truck\", \"true\", \"trust\", \"truth\", \"try\", \"try\", \"try\", \"turkish\", \"turn\", \"turn\", \"type\", \"type\", \"unable\", \"understand\", \"unnecessary\", \"up\", \"uprising\", \"upset\", \"use\", \"use\", \"use\", \"use\", \"utility\", \"utilize\", \"value\", \"value\", \"variable\", \"vehicle\", \"vehicle\", \"verification\", \"version\", \"video\", \"village\", \"violence\", \"vision\", \"visit\", \"void\", \"volt\", \"vote\", \"wait\", \"want\", \"want\", \"war\", \"warrant\", \"wash\", \"watch\", \"water\", \"way\", \"way\", \"way\", \"way\", \"way\", \"weapon\", \"weight\", \"well\", \"well\", \"well\", \"well\", \"whenever\", \"white\", \"whole\", \"whole\", \"widget\", \"wife\", \"will\", \"will\", \"will\", \"win\", \"window\", \"wing\", \"withdraw\", \"woman\", \"woman\", \"woman\", \"wonder\", \"word\", \"word\", \"work\", \"work\", \"work\", \"would\", \"would\", \"write\", \"write\", \"year\", \"year\", \"year\", \"year\", \"year\", \"yellow\", \"young\"]}, \"R\": 30, \"lambda.step\": 0.01, \"plot.opts\": {\"xlab\": \"PC1\", \"ylab\": \"PC2\"}, \"topic.order\": [19, 18, 10, 2, 7, 20, 17, 11, 5, 12, 4, 6, 1, 15, 13, 16, 14, 8, 9, 3]};\n",
       "\n",
       "function LDAvis_load_lib(url, callback){\n",
       "  var s = document.createElement('script');\n",
       "  s.src = url;\n",
       "  s.async = true;\n",
       "  s.onreadystatechange = s.onload = callback;\n",
       "  s.onerror = function(){console.warn(\"failed to load library \" + url);};\n",
       "  document.getElementsByTagName(\"head\")[0].appendChild(s);\n",
       "}\n",
       "\n",
       "if(typeof(LDAvis) !== \"undefined\"){\n",
       "   // already loaded: just create the visualization\n",
       "   !function(LDAvis){\n",
       "       new LDAvis(\"#\" + \"ldavis_el1256420533299335127418259488\", ldavis_el1256420533299335127418259488_data);\n",
       "   }(LDAvis);\n",
       "}else if(typeof define === \"function\" && define.amd){\n",
       "   // require.js is available: use it to load d3/LDAvis\n",
       "   require.config({paths: {d3: \"https://cdnjs.cloudflare.com/ajax/libs/d3/3.5.5/d3.min\"}});\n",
       "   require([\"d3\"], function(d3){\n",
       "      window.d3 = d3;\n",
       "      LDAvis_load_lib(\"https://cdn.rawgit.com/bmabey/pyLDAvis/files/ldavis.v1.0.0.js\", function(){\n",
       "        new LDAvis(\"#\" + \"ldavis_el1256420533299335127418259488\", ldavis_el1256420533299335127418259488_data);\n",
       "      });\n",
       "    });\n",
       "}else{\n",
       "    // require.js not available: dynamically load d3 & LDAvis\n",
       "    LDAvis_load_lib(\"https://cdnjs.cloudflare.com/ajax/libs/d3/3.5.5/d3.min.js\", function(){\n",
       "         LDAvis_load_lib(\"https://cdn.rawgit.com/bmabey/pyLDAvis/files/ldavis.v1.0.0.js\", function(){\n",
       "                 new LDAvis(\"#\" + \"ldavis_el1256420533299335127418259488\", ldavis_el1256420533299335127418259488_data);\n",
       "            })\n",
       "         });\n",
       "}\n",
       "</script>"
      ],
      "text/plain": [
       "PreparedData(topic_coordinates=              x         y  topics  cluster       Freq\n",
       "topic                                                \n",
       "18     0.338780  0.080515       1        1  29.049857\n",
       "17     0.317225 -0.062425       2        1  16.222205\n",
       "9      0.249711  0.152958       3        1  14.296678\n",
       "1      0.237549 -0.066360       4        1   9.287693\n",
       "6      0.186885  0.026695       5        1   6.782911\n",
       "19    -0.046028  0.069681       6        1   5.762274\n",
       "16     0.036439  0.118753       7        1   3.326707\n",
       "10     0.013438 -0.269737       8        1   2.356614\n",
       "4      0.029128 -0.298544       9        1   2.218247\n",
       "11    -0.091423  0.034775      10        1   1.722087\n",
       "3     -0.000104  0.053323      11        1   1.632985\n",
       "5     -0.125480  0.032853      12        1   1.116013\n",
       "0     -0.110181  0.040795      13        1   1.088013\n",
       "14    -0.122779 -0.015222      14        1   1.044797\n",
       "12    -0.105477  0.044294      15        1   0.970566\n",
       "15    -0.134643  0.018373      16        1   0.849775\n",
       "13    -0.166696 -0.005330      17        1   0.683569\n",
       "7     -0.163105  0.016275      18        1   0.632827\n",
       "8     -0.164469  0.015046      19        1   0.595255\n",
       "2     -0.178769  0.013282      20        1   0.360928, topic_info=            Term          Freq         Total Category  logprob  loglift\n",
       "3732          ax  51819.000000  51819.000000  Default  30.0000  30.0000\n",
       "115           go   7457.000000   7457.000000  Default  29.0000  29.0000\n",
       "199        write  13165.000000  13165.000000  Default  28.0000  28.0000\n",
       "17          line  14551.000000  14551.000000  Default  27.0000  27.0000\n",
       "140       people   7236.000000   7236.000000  Default  26.0000  26.0000\n",
       "...          ...           ...           ...      ...      ...      ...\n",
       "7512   terrorist      0.043453      1.362604  Topic20 -11.5109   2.1788\n",
       "4331  connection      0.043452      1.362584  Topic20 -11.5109   2.1788\n",
       "3397       slave      0.043453      1.362725  Topic20 -11.5109   2.1787\n",
       "5250      jumper      0.043452      1.362691  Topic20 -11.5109   2.1787\n",
       "3369    internet      0.043452      1.362632  Topic20 -11.5109   2.1787\n",
       "\n",
       "[862 rows x 6 columns], token_table=      Topic      Freq      Term\n",
       "term                           \n",
       "834       8  0.995762     abuse\n",
       "1232      5  0.999210    accept\n",
       "1310     12  0.993610   acquire\n",
       "590       5  0.975411  activity\n",
       "590      10  0.020852  activity\n",
       "...     ...       ...       ...\n",
       "39        5  0.124157      year\n",
       "39        9  0.018111      year\n",
       "39       11  0.229113      year\n",
       "1031     17  0.982680    yellow\n",
       "584       4  0.997606     young\n",
       "\n",
       "[1125 rows x 3 columns], R=30, lambda_step=0.01, plot_opts={'xlab': 'PC1', 'ylab': 'PC2'}, topic_order=[19, 18, 10, 2, 7, 20, 17, 11, 5, 12, 4, 6, 1, 15, 13, 16, 14, 8, 9, 3])"
      ]
     },
     "execution_count": 15,
     "metadata": {},
     "output_type": "execute_result"
    }
   ],
   "source": [
    "# Visualize the topics\n",
    "pyLDAvis.enable_notebook()\n",
    "vis = pyLDAvis.gensim.prepare(lda_model, corpus, id2word)\n",
    "vis"
   ]
  },
  {
   "cell_type": "markdown",
   "metadata": {},
   "source": [
    "So how to infer pyLDAvis’s output?\n",
    "\n",
    "Each bubble on the left-hand side plot represents a topic. The larger the bubble, the more prevalent is that topic.\n",
    "\n",
    "A good topic model will have fairly big, non-overlapping bubbles scattered throughout the chart instead of being clustered in one quadrant.\n",
    "\n",
    "A model with too many topics, will typically have many overlaps, small sized bubbles clustered in one region of the chart.\n",
    "\n",
    "Alright, if you move the cursor over one of the bubbles, the words and bars on the right-hand side will update. These words are the salient keywords that form the selected topic.\n",
    "\n",
    "We have successfully built a good looking topic model.\n",
    "\n",
    "Given our prior knowledge of the number of natural topics in the document, finding the best model was fairly straightforward.\n",
    "\n",
    "Upnext, we will improve upon this model by using Mallet’s version of LDA algorithm and then we will focus on how to arrive at the optimal number of topics given any large corpus of text."
   ]
  },
  {
   "cell_type": "markdown",
   "metadata": {},
   "source": [
    "## 16. Building LDA Mallet Model\n",
    "So far you have seen Gensim’s inbuilt version of the LDA algorithm. Mallet’s version, however, often gives a better quality of topics.\n",
    "\n",
    "Gensim provides a wrapper to implement Mallet’s LDA from within Gensim itself. You only need to [download the zipfile](http://mallet.cs.umass.edu/dist/mallet-2.0.8.zip), unzip it and provide the path to mallet in the unzipped directory to gensim.models.wrappers.LdaMallet. See how I have done this below.\n",
    "\n",
    "> [Installing Mallet on Windows](http://shiningmeadow.blogspot.com/2016/04/tutorial-for-installing-mallet-on.html)"
   ]
  },
  {
   "cell_type": "code",
   "execution_count": 17,
   "metadata": {},
   "outputs": [],
   "source": [
    "# import os\n",
    "# os.environ.update({'MALLET_HOME':r'C:/Users/GGPC/Projects/spacy-tutorials/mallet-2.0.8/'})\n",
    "# mallet_path = './data/mallet-2.0.8/bin/mallet'\n",
    "# ldamallet = gensim.models.wrappers.LdaMallet(mallet_path, corpus=corpus, num_topics=20, id2word=id2word)"
   ]
  },
  {
   "cell_type": "markdown",
   "metadata": {},
   "source": [
    "## 17. How to find the optimal number of topics for LDA?\n",
    "My approach to finding the optimal number of topics is to build many LDA models with different values of number of topics (k) and pick the one that gives the highest coherence value.\n",
    "\n",
    "Choosing a ‘k’ that marks the end of a rapid growth of topic coherence usually offers meaningful and interpretable topics. Picking an even higher value can sometimes provide more granular sub-topics.\n",
    "\n",
    "If you see the same keywords being repeated in multiple topics, it’s probably a sign that the ‘k’ is too large.\n",
    "\n",
    "The compute_coherence_values() (see below) trains multiple LDA models and provides the models and their corresponding coherence scores."
   ]
  },
  {
   "cell_type": "code",
   "execution_count": 18,
   "metadata": {},
   "outputs": [],
   "source": [
    "def compute_coherence_values(dictionary, corpus, texts, limit, start=2, step=3):\n",
    "    \"\"\"\n",
    "    Compute c_v coherence for various number of topics\n",
    "\n",
    "    Parameters:\n",
    "    ----------\n",
    "    dictionary : Gensim dictionary\n",
    "    corpus : Gensim corpus\n",
    "    texts : List of input texts\n",
    "    limit : Max num of topics\n",
    "\n",
    "    Returns:\n",
    "    -------\n",
    "    model_list : List of LDA topic models\n",
    "    coherence_values : Coherence values corresponding to the LDA model with respective number of topics\n",
    "    \"\"\"\n",
    "    coherence_values = []\n",
    "    model_list = []\n",
    "    for num_topics in range(start, limit, step):\n",
    "        \n",
    "        print(f'Building LDA model with {num_topics} topics')\n",
    "        # Build LDA model\n",
    "        model = gensim.models.ldamodel.LdaModel(\n",
    "            corpus=corpus,\n",
    "            id2word=id2word,\n",
    "            num_topics=num_topics, \n",
    "            random_state=100,\n",
    "            update_every=1,\n",
    "            chunksize=100,\n",
    "            passes=10,\n",
    "            alpha='auto',\n",
    "            per_word_topics=True\n",
    "        )\n",
    "        model_list.append(model)\n",
    "        coherencemodel = CoherenceModel(model=model, texts=texts, dictionary=dictionary, coherence='c_v')\n",
    "        coherence = coherencemodel.get_coherence()\n",
    "        coherence_values.append(coherence)\n",
    "        print(f'Coherence = {coherence}')\n",
    "\n",
    "    return model_list, coherence_values"
   ]
  },
  {
   "cell_type": "code",
   "execution_count": 19,
   "metadata": {},
   "outputs": [
    {
     "name": "stdout",
     "output_type": "stream",
     "text": [
      "Building LDA model with 2 topics\n",
      "Coherence = 0.552994870717707\n",
      "Building LDA model with 6 topics\n",
      "Coherence = 0.5082568949765153\n",
      "Building LDA model with 10 topics\n",
      "Coherence = 0.5381156601746305\n",
      "Building LDA model with 14 topics\n",
      "Coherence = 0.5598755044811902\n",
      "Building LDA model with 18 topics\n",
      "Coherence = 0.47383042778499934\n"
     ]
    }
   ],
   "source": [
    "# Can take a long time to run.\n",
    "model_list, coherence_values = compute_coherence_values(dictionary=id2word, corpus=corpus, texts=data_lemmatized, start=2, limit=20, step=4)"
   ]
  },
  {
   "cell_type": "code",
   "execution_count": 20,
   "metadata": {},
   "outputs": [
    {
     "data": {
      "image/png": "[encoded data removed]",
      "text/plain": [
       "<Figure size 432x288 with 1 Axes>"
      ]
     },
     "metadata": {
      "needs_background": "light"
     },
     "output_type": "display_data"
    }
   ],
   "source": [
    "# Show graph\n",
    "limit=20; start=2; step=4;\n",
    "x = range(start, limit, step)\n",
    "plt.plot(x, coherence_values)\n",
    "plt.xlabel(\"Num Topics\")\n",
    "plt.ylabel(\"Coherence score\")\n",
    "plt.legend((\"coherence_values\"), loc='best')\n",
    "plt.show()"
   ]
  },
  {
   "cell_type": "code",
   "execution_count": 21,
   "metadata": {},
   "outputs": [
    {
     "name": "stdout",
     "output_type": "stream",
     "text": [
      "Num Topics = 2  has Coherence Value of 0.553\n",
      "Num Topics = 6  has Coherence Value of 0.5083\n",
      "Num Topics = 10  has Coherence Value of 0.5381\n",
      "Num Topics = 14  has Coherence Value of 0.5599\n",
      "Num Topics = 18  has Coherence Value of 0.4738\n"
     ]
    }
   ],
   "source": [
    "# Print the coherence scores\n",
    "for m, cv in zip(x, coherence_values):\n",
    "    print(\"Num Topics =\", m, \" has Coherence Value of\", round(cv, 4))"
   ]
  },
  {
   "cell_type": "code",
   "execution_count": 22,
   "metadata": {},
   "outputs": [
    {
     "name": "stdout",
     "output_type": "stream",
     "text": [
      "[(0,\n",
      "  '0.044*\"team\" + 0.038*\"game\" + 0.034*\"year\" + 0.031*\"play\" + 0.026*\"win\" + '\n",
      "  '0.022*\"player\" + 0.016*\"run\" + 0.015*\"next\" + 0.014*\"season\" + 0.014*\"fan\"'),\n",
      " (1,\n",
      "  '0.020*\"go\" + 0.015*\"get\" + 0.015*\"work\" + 0.012*\"time\" + 0.012*\"back\" + '\n",
      "  '0.011*\"new\" + 0.011*\"car\" + 0.010*\"make\" + 0.009*\"old\" + 0.009*\"high\"'),\n",
      " (2,\n",
      "  '0.069*\"internet\" + 0.062*\"server\" + 0.045*\"distribution\" + 0.038*\"contact\" '\n",
      "  '+ 0.037*\"motif\" + 0.036*\"route\" + 0.031*\"commercial\" + 0.029*\"trust\" + '\n",
      "  '0.024*\"reader\" + 0.024*\"link\"'),\n",
      " (3,\n",
      "  '0.041*\"soldier\" + 0.036*\"village\" + 0.033*\"christian\" + 0.028*\"eye\" + '\n",
      "  '0.025*\"terrorist\" + 0.025*\"turkish\" + 0.022*\"occupy\" + 0.021*\"armenian\" + '\n",
      "  '0.020*\"fund\" + 0.018*\"greek\"'),\n",
      " (4,\n",
      "  '0.039*\"government\" + 0.031*\"gun\" + 0.027*\"kill\" + 0.027*\"state\" + '\n",
      "  '0.018*\"right\" + 0.018*\"law\" + 0.017*\"public\" + 0.017*\"attack\" + '\n",
      "  '0.015*\"country\" + 0.014*\"people\"'),\n",
      " (5,\n",
      "  '0.108*\"space\" + 0.043*\"sin\" + 0.040*\"family\" + 0.039*\"launch\" + '\n",
      "  '0.030*\"orbit\" + 0.028*\"earth\" + 0.025*\"gift\" + 0.025*\"satellite\" + '\n",
      "  '0.024*\"mission\" + 0.023*\"moon\"'),\n",
      " (6,\n",
      "  '0.022*\"say\" + 0.018*\"would\" + 0.018*\"people\" + 0.015*\"think\" + 0.014*\"may\" '\n",
      "  '+ 0.014*\"make\" + 0.012*\"see\" + 0.010*\"know\" + 0.010*\"even\" + 0.009*\"come\"'),\n",
      " (7,\n",
      "  '0.078*\"patient\" + 0.055*\"drug\" + 0.045*\"brain\" + 0.037*\"pain\" + '\n",
      "  '0.035*\"food\" + 0.033*\"treatment\" + 0.030*\"doctor\" + 0.028*\"syndrome\" + '\n",
      "  '0.027*\"son\" + 0.021*\"msg\"'),\n",
      " (8,\n",
      "  '0.043*\"file\" + 0.036*\"window\" + 0.024*\"driver\" + 0.021*\"entry\" + '\n",
      "  '0.021*\"set\" + 0.020*\"use\" + 0.020*\"program\" + 0.019*\"problem\" + '\n",
      "  '0.019*\"color\" + 0.018*\"image\"'),\n",
      " (9,\n",
      "  '0.043*\"system\" + 0.031*\"key\" + 0.029*\"drive\" + 0.029*\"use\" + 0.019*\"card\" + '\n",
      "  '0.018*\"computer\" + 0.017*\"chip\" + 0.015*\"bit\" + 0.011*\"machine\" + '\n",
      "  '0.011*\"technology\"'),\n",
      " (10,\n",
      "  '0.055*\"evidence\" + 0.027*\"reason\" + 0.026*\"faith\" + 0.025*\"exist\" + '\n",
      "  '0.024*\"believe\" + 0.023*\"sense\" + 0.020*\"physical\" + 0.018*\"religion\" + '\n",
      "  '0.017*\"claim\" + 0.017*\"belief\"'),\n",
      " (11,\n",
      "  '0.080*\"line\" + 0.072*\"write\" + 0.044*\"article\" + 0.039*\"organization\" + '\n",
      "  '0.036*\"nntp_poste\" + 0.033*\"host\" + 0.031*\"be\" + 0.030*\"would\" + '\n",
      "  '0.024*\"know\" + 0.018*\"get\"'),\n",
      " (12,\n",
      "  '0.775*\"ax\" + 0.055*\"max\" + 0.024*\"_\" + 0.008*\"flight\" + 0.007*\"dual\" + '\n",
      "  '0.006*\"shuttle\" + 0.003*\"ei_ei\" + 0.002*\"space_station\" + 0.001*\"ei\" + '\n",
      "  '0.001*\"tm\"'),\n",
      " (13,\n",
      "  '0.029*\"include\" + 0.029*\"information\" + 0.024*\"send\" + 0.022*\"source\" + '\n",
      "  '0.021*\"program\" + 0.020*\"available\" + 0.018*\"email\" + 0.018*\"list\" + '\n",
      "  '0.018*\"mail\" + 0.018*\"address\"')]\n"
     ]
    }
   ],
   "source": [
    "# Select the model and print the topics\n",
    "optimal_model = model_list[3]\n",
    "model_topics = optimal_model.show_topics(formatted=False)\n",
    "pprint(optimal_model.print_topics(num_words=10))"
   ]
  },
  {
   "cell_type": "markdown",
   "metadata": {},
   "source": [
    "## 18. Finding the dominant topic in each sentence\n",
    "One of the practical application of topic modeling is to determine what topic a given document is about.\n",
    "\n",
    "To find that, we find the topic number that has the highest percentage contribution in that document.\n",
    "\n",
    "The format_topics_sentences() function below nicely aggregates this information in a presentable table."
   ]
  },
  {
   "cell_type": "code",
   "execution_count": 26,
   "metadata": {},
   "outputs": [
    {
     "ename": "ValueError",
     "evalue": "too many values to unpack (expected 2)",
     "output_type": "error",
     "traceback": [
      "\u001b[1;31m---------------------------------------------------------------------------\u001b[0m",
      "\u001b[1;31mValueError\u001b[0m                                Traceback (most recent call last)",
      "\u001b[1;32m<ipython-input-26-b4bfe5b721cf>\u001b[0m in \u001b[0;36m<module>\u001b[1;34m\u001b[0m\n\u001b[0;32m     22\u001b[0m \u001b[1;33m\u001b[0m\u001b[0m\n\u001b[0;32m     23\u001b[0m \u001b[1;33m\u001b[0m\u001b[0m\n\u001b[1;32m---> 24\u001b[1;33m \u001b[0mdf_topic_sents_keywords\u001b[0m \u001b[1;33m=\u001b[0m \u001b[0mformat_topics_sentences\u001b[0m\u001b[1;33m(\u001b[0m\u001b[0mldamodel\u001b[0m\u001b[1;33m=\u001b[0m\u001b[0moptimal_model\u001b[0m\u001b[1;33m,\u001b[0m \u001b[0mcorpus\u001b[0m\u001b[1;33m=\u001b[0m\u001b[0mcorpus\u001b[0m\u001b[1;33m,\u001b[0m \u001b[0mtexts\u001b[0m\u001b[1;33m=\u001b[0m\u001b[0mdata\u001b[0m\u001b[1;33m)\u001b[0m\u001b[1;33m\u001b[0m\u001b[1;33m\u001b[0m\u001b[0m\n\u001b[0m\u001b[0;32m     25\u001b[0m \u001b[1;33m\u001b[0m\u001b[0m\n\u001b[0;32m     26\u001b[0m \u001b[1;31m# Format\u001b[0m\u001b[1;33m\u001b[0m\u001b[1;33m\u001b[0m\u001b[1;33m\u001b[0m\u001b[0m\n",
      "\u001b[1;32m<ipython-input-26-b4bfe5b721cf>\u001b[0m in \u001b[0;36mformat_topics_sentences\u001b[1;34m(ldamodel, corpus, texts)\u001b[0m\n\u001b[0;32m      7\u001b[0m \u001b[1;31m#         row = sorted(row, key=lambda x: (x[1]), reverse=True)\u001b[0m\u001b[1;33m\u001b[0m\u001b[1;33m\u001b[0m\u001b[1;33m\u001b[0m\u001b[0m\n\u001b[0;32m      8\u001b[0m         \u001b[1;31m# Get the Dominant topic, Perc Contribution and Keywords for each document\u001b[0m\u001b[1;33m\u001b[0m\u001b[1;33m\u001b[0m\u001b[1;33m\u001b[0m\u001b[0m\n\u001b[1;32m----> 9\u001b[1;33m         \u001b[1;32mfor\u001b[0m \u001b[0mj\u001b[0m\u001b[1;33m,\u001b[0m \u001b[1;33m(\u001b[0m\u001b[0mtopic_num\u001b[0m\u001b[1;33m,\u001b[0m \u001b[0mprop_topic\u001b[0m\u001b[1;33m)\u001b[0m \u001b[1;32min\u001b[0m \u001b[0menumerate\u001b[0m\u001b[1;33m(\u001b[0m\u001b[0mrow\u001b[0m\u001b[1;33m)\u001b[0m\u001b[1;33m:\u001b[0m\u001b[1;33m\u001b[0m\u001b[1;33m\u001b[0m\u001b[0m\n\u001b[0m\u001b[0;32m     10\u001b[0m             \u001b[1;32mif\u001b[0m \u001b[0mj\u001b[0m \u001b[1;33m==\u001b[0m \u001b[1;36m0\u001b[0m\u001b[1;33m:\u001b[0m  \u001b[1;31m# => dominant topic\u001b[0m\u001b[1;33m\u001b[0m\u001b[1;33m\u001b[0m\u001b[0m\n\u001b[0;32m     11\u001b[0m                 \u001b[0mwp\u001b[0m \u001b[1;33m=\u001b[0m \u001b[0mldamodel\u001b[0m\u001b[1;33m.\u001b[0m\u001b[0mshow_topic\u001b[0m\u001b[1;33m(\u001b[0m\u001b[0mtopic_num\u001b[0m\u001b[1;33m)\u001b[0m\u001b[1;33m\u001b[0m\u001b[1;33m\u001b[0m\u001b[0m\n",
      "\u001b[1;31mValueError\u001b[0m: too many values to unpack (expected 2)"
     ]
    }
   ],
   "source": [
    "def format_topics_sentences(ldamodel=lda_model, corpus=corpus, texts=data):\n",
    "    # Init output\n",
    "    sent_topics_df = pd.DataFrame()\n",
    "\n",
    "    # Get main topic in each document\n",
    "    for i, row in enumerate(ldamodel[corpus]):\n",
    "        row = sorted(row, key=lambda x: (x[1]), reverse=True)\n",
    "        # Get the Dominant topic, Perc Contribution and Keywords for each document\n",
    "        for j, (topic_num, prop_topic) in enumerate(row):\n",
    "            if j == 0:  # => dominant topic\n",
    "                wp = ldamodel.show_topic(topic_num)\n",
    "                topic_keywords = \", \".join([word for word, prop in wp])\n",
    "                sent_topics_df = sent_topics_df.append(pd.Series([int(topic_num), round(prop_topic,4), topic_keywords]), ignore_index=True)\n",
    "            else:\n",
    "                break\n",
    "    sent_topics_df.columns = ['Dominant_Topic', 'Perc_Contribution', 'Topic_Keywords']\n",
    "\n",
    "    # Add original text to the end of the output\n",
    "    contents = pd.Series(texts)\n",
    "    sent_topics_df = pd.concat([sent_topics_df, contents], axis=1)\n",
    "    return(sent_topics_df)\n",
    "\n",
    "\n",
    "df_topic_sents_keywords = format_topics_sentences(ldamodel=optimal_model, corpus=corpus, texts=data)\n",
    "\n",
    "# Format\n",
    "df_dominant_topic = df_topic_sents_keywords.reset_index()\n",
    "df_dominant_topic.columns = ['Document_No', 'Dominant_Topic', 'Topic_Perc_Contrib', 'Keywords', 'Text']\n",
    "\n",
    "# Show\n",
    "df_dominant_topic.head(10)"
   ]
  },
  {
   "cell_type": "markdown",
   "metadata": {},
   "source": [
    "## 19. Find the most representative document for each topic\n",
    "Sometimes just the topic keywords may not be enough to make sense of what a topic is about. So, to help with understanding the topic, you can find the documents a given topic has contributed to the most and infer the topic by reading that document. Whew!!"
   ]
  },
  {
   "cell_type": "code",
   "execution_count": 27,
   "metadata": {},
   "outputs": [
    {
     "ename": "NameError",
     "evalue": "name 'df_topic_sents_keywords' is not defined",
     "output_type": "error",
     "traceback": [
      "\u001b[1;31m---------------------------------------------------------------------------\u001b[0m",
      "\u001b[1;31mNameError\u001b[0m                                 Traceback (most recent call last)",
      "\u001b[1;32m<ipython-input-27-82fd381f62dc>\u001b[0m in \u001b[0;36m<module>\u001b[1;34m\u001b[0m\n\u001b[0;32m      2\u001b[0m \u001b[0msent_topics_sorteddf_mallet\u001b[0m \u001b[1;33m=\u001b[0m \u001b[0mpd\u001b[0m\u001b[1;33m.\u001b[0m\u001b[0mDataFrame\u001b[0m\u001b[1;33m(\u001b[0m\u001b[1;33m)\u001b[0m\u001b[1;33m\u001b[0m\u001b[1;33m\u001b[0m\u001b[0m\n\u001b[0;32m      3\u001b[0m \u001b[1;33m\u001b[0m\u001b[0m\n\u001b[1;32m----> 4\u001b[1;33m \u001b[0msent_topics_outdf_grpd\u001b[0m \u001b[1;33m=\u001b[0m \u001b[0mdf_topic_sents_keywords\u001b[0m\u001b[1;33m.\u001b[0m\u001b[0mgroupby\u001b[0m\u001b[1;33m(\u001b[0m\u001b[1;34m'Dominant_Topic'\u001b[0m\u001b[1;33m)\u001b[0m\u001b[1;33m\u001b[0m\u001b[1;33m\u001b[0m\u001b[0m\n\u001b[0m\u001b[0;32m      5\u001b[0m \u001b[1;33m\u001b[0m\u001b[0m\n\u001b[0;32m      6\u001b[0m \u001b[1;32mfor\u001b[0m \u001b[0mi\u001b[0m\u001b[1;33m,\u001b[0m \u001b[0mgrp\u001b[0m \u001b[1;32min\u001b[0m \u001b[0msent_topics_outdf_grpd\u001b[0m\u001b[1;33m:\u001b[0m\u001b[1;33m\u001b[0m\u001b[1;33m\u001b[0m\u001b[0m\n",
      "\u001b[1;31mNameError\u001b[0m: name 'df_topic_sents_keywords' is not defined"
     ]
    }
   ],
   "source": [
    "# Group top 5 sentences under each topic\n",
    "sent_topics_sorteddf_mallet = pd.DataFrame()\n",
    "\n",
    "sent_topics_outdf_grpd = df_topic_sents_keywords.groupby('Dominant_Topic')\n",
    "\n",
    "for i, grp in sent_topics_outdf_grpd:\n",
    "    sent_topics_sorteddf_mallet = pd.concat([sent_topics_sorteddf_mallet, \n",
    "                                             grp.sort_values(['Perc_Contribution'], ascending=[0]).head(1)], \n",
    "                                            axis=0)\n",
    "\n",
    "# Reset Index    \n",
    "sent_topics_sorteddf_mallet.reset_index(drop=True, inplace=True)\n",
    "\n",
    "# Format\n",
    "sent_topics_sorteddf_mallet.columns = ['Topic_Num', \"Topic_Perc_Contrib\", \"Keywords\", \"Text\"]\n",
    "\n",
    "# Show\n",
    "sent_topics_sorteddf_mallet.head()"
   ]
  },
  {
   "cell_type": "markdown",
   "metadata": {},
   "source": [
    "The tabular output above actually has 20 rows, one each for a topic. It has the topic number, the keywords, and the most representative document. The Perc_Contribution column is nothing but the percentage contribution of the topic in the given document.\n",
    "\n",
    "## 20. Topic distribution across documents\n",
    "Finally, we want to understand the volume and distribution of topics in order to judge how widely it was discussed. The below table exposes that information."
   ]
  },
  {
   "cell_type": "code",
   "execution_count": 28,
   "metadata": {},
   "outputs": [
    {
     "ename": "NameError",
     "evalue": "name 'df_topic_sents_keywords' is not defined",
     "output_type": "error",
     "traceback": [
      "\u001b[1;31m---------------------------------------------------------------------------\u001b[0m",
      "\u001b[1;31mNameError\u001b[0m                                 Traceback (most recent call last)",
      "\u001b[1;32m<ipython-input-28-7a4e550c3412>\u001b[0m in \u001b[0;36m<module>\u001b[1;34m\u001b[0m\n\u001b[0;32m      1\u001b[0m \u001b[1;31m# Number of Documents for Each Topic\u001b[0m\u001b[1;33m\u001b[0m\u001b[1;33m\u001b[0m\u001b[1;33m\u001b[0m\u001b[0m\n\u001b[1;32m----> 2\u001b[1;33m \u001b[0mtopic_counts\u001b[0m \u001b[1;33m=\u001b[0m \u001b[0mdf_topic_sents_keywords\u001b[0m\u001b[1;33m[\u001b[0m\u001b[1;34m'Dominant_Topic'\u001b[0m\u001b[1;33m]\u001b[0m\u001b[1;33m.\u001b[0m\u001b[0mvalue_counts\u001b[0m\u001b[1;33m(\u001b[0m\u001b[1;33m)\u001b[0m\u001b[1;33m\u001b[0m\u001b[1;33m\u001b[0m\u001b[0m\n\u001b[0m\u001b[0;32m      3\u001b[0m \u001b[1;33m\u001b[0m\u001b[0m\n\u001b[0;32m      4\u001b[0m \u001b[1;31m# Percentage of Documents for Each Topic\u001b[0m\u001b[1;33m\u001b[0m\u001b[1;33m\u001b[0m\u001b[1;33m\u001b[0m\u001b[0m\n\u001b[0;32m      5\u001b[0m \u001b[0mtopic_contribution\u001b[0m \u001b[1;33m=\u001b[0m \u001b[0mround\u001b[0m\u001b[1;33m(\u001b[0m\u001b[0mtopic_counts\u001b[0m\u001b[1;33m/\u001b[0m\u001b[0mtopic_counts\u001b[0m\u001b[1;33m.\u001b[0m\u001b[0msum\u001b[0m\u001b[1;33m(\u001b[0m\u001b[1;33m)\u001b[0m\u001b[1;33m,\u001b[0m \u001b[1;36m4\u001b[0m\u001b[1;33m)\u001b[0m\u001b[1;33m\u001b[0m\u001b[1;33m\u001b[0m\u001b[0m\n",
      "\u001b[1;31mNameError\u001b[0m: name 'df_topic_sents_keywords' is not defined"
     ]
    }
   ],
   "source": [
    "# Number of Documents for Each Topic\n",
    "topic_counts = df_topic_sents_keywords['Dominant_Topic'].value_counts()\n",
    "\n",
    "# Percentage of Documents for Each Topic\n",
    "topic_contribution = round(topic_counts/topic_counts.sum(), 4)\n",
    "\n",
    "# Topic Number and Keywords\n",
    "topic_num_keywords = df_topic_sents_keywords[['Dominant_Topic', 'Topic_Keywords']]\n",
    "\n",
    "# Concatenate Column wise\n",
    "df_dominant_topics = pd.concat([topic_num_keywords, topic_counts, topic_contribution], axis=1)\n",
    "\n",
    "# Change Column names\n",
    "df_dominant_topics.columns = ['Dominant_Topic', 'Topic_Keywords', 'Num_Documents', 'Perc_Documents']\n",
    "\n",
    "# Show\n",
    "df_dominant_topics"
   ]
  }
 ],
 "metadata": {
  "kernelspec": {
   "display_name": "Python [conda env:spacy]",
   "language": "python",
   "name": "conda-env-spacy-py"
  },
  "language_info": {
   "codemirror_mode": {
    "name": "ipython",
    "version": 3
   },
   "file_extension": ".py",
   "mimetype": "text/x-python",
   "name": "python",
   "nbconvert_exporter": "python",
   "pygments_lexer": "ipython3",
   "version": "3.7.9"
  }
 },
 "nbformat": 4,
 "nbformat_minor": 4
}
